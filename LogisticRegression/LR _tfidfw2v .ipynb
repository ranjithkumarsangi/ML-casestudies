{
 "cells": [
  {
   "cell_type": "markdown",
   "metadata": {},
   "source": [
    "# Data Loading"
   ]
  },
  {
   "cell_type": "code",
   "execution_count": 1,
   "metadata": {},
   "outputs": [],
   "source": [
    "%matplotlib inline\n",
    "\n",
    "import sqlite3\n",
    "import pandas as pd\n",
    "import numpy as np\n",
    "import nltk\n",
    "import string\n",
    "import matplotlib.pyplot as plt\n",
    "import seaborn as sns\n",
    "from sklearn.feature_extraction.text import TfidfTransformer\n",
    "from sklearn.feature_extraction.text import TfidfVectorizer\n",
    "\n",
    "from sklearn.feature_extraction.text import CountVectorizer\n",
    "from sklearn.metrics import confusion_matrix\n",
    "from sklearn import metrics\n",
    "from sklearn.metrics import roc_curve, auc\n",
    "from nltk.stem.porter import PorterStemmer\n",
    "\n",
    "\n",
    "\n",
    "# using the SQLite Table to read data.\n",
    "con = sqlite3.connect('./amazon-fine-food-reviews/database.sqlite') \n",
    "\n",
    "\n",
    "\n",
    "#filtering only positive and negative reviews i.e. \n",
    "# not taking into consideration those reviews with Score=3\n",
    "filtered_data = pd.read_sql_query(\"\"\"\n",
    "SELECT *\n",
    "FROM Reviews\n",
    "WHERE Score != 3\n",
    "\"\"\", con) \n",
    "\n",
    "\n",
    "\n",
    "\n",
    "# Give reviews with Score>3 a positive rating, and reviews with a score<3 a negative rating.\n",
    "def partition(x):\n",
    "    if x < 3:\n",
    "        return 'negative'\n",
    "    return 'positive'\n",
    "\n",
    "#changing reviews with score less than 3 to be positive and vice-versa\n",
    "actualScore = filtered_data['Score']\n",
    "positiveNegative = actualScore.map(partition) \n",
    "filtered_data['Score'] = positiveNegative"
   ]
  },
  {
   "cell_type": "markdown",
   "metadata": {},
   "source": [
    "# Data Cleaning"
   ]
  },
  {
   "cell_type": "code",
   "execution_count": 2,
   "metadata": {},
   "outputs": [],
   "source": [
    "display= pd.read_sql_query(\"\"\"\n",
    "SELECT *\n",
    "FROM Reviews\n",
    "WHERE Score != 3 AND UserId=\"AR5J8UI46CURR\"\n",
    "ORDER BY ProductID\n",
    "\"\"\", con)"
   ]
  },
  {
   "cell_type": "code",
   "execution_count": 3,
   "metadata": {},
   "outputs": [],
   "source": [
    "#Sorting data according to ProductId in ascending order\n",
    "sorted_data=filtered_data.sort_values('ProductId', axis=0, ascending=True, inplace=False, kind='quicksort', na_position='last')"
   ]
  },
  {
   "cell_type": "code",
   "execution_count": 4,
   "metadata": {},
   "outputs": [
    {
     "data": {
      "text/plain": [
       "(364173, 10)"
      ]
     },
     "execution_count": 4,
     "metadata": {},
     "output_type": "execute_result"
    }
   ],
   "source": [
    "#Deduplication of entries\n",
    "final=sorted_data.drop_duplicates(subset={\"UserId\",\"ProfileName\",\"Time\",\"Text\"}, keep='first', inplace=False)\n",
    "final.shape"
   ]
  },
  {
   "cell_type": "code",
   "execution_count": 5,
   "metadata": {},
   "outputs": [],
   "source": [
    "final=final[final.HelpfulnessNumerator<=final.HelpfulnessDenominator]"
   ]
  },
  {
   "cell_type": "code",
   "execution_count": 6,
   "metadata": {},
   "outputs": [
    {
     "name": "stdout",
     "output_type": "stream",
     "text": [
      "(364171, 10)\n"
     ]
    },
    {
     "data": {
      "text/plain": [
       "positive    307061\n",
       "negative     57110\n",
       "Name: Score, dtype: int64"
      ]
     },
     "execution_count": 6,
     "metadata": {},
     "output_type": "execute_result"
    }
   ],
   "source": [
    "#Before starting the next phase of preprocessing lets see the number of entries left\n",
    "print(final.shape)\n",
    "\n",
    "#How many positive and negative reviews are present in our dataset?\n",
    "final['Score'].value_counts()"
   ]
  },
  {
   "cell_type": "markdown",
   "metadata": {},
   "source": [
    "# Text Preprocessing"
   ]
  },
  {
   "cell_type": "code",
   "execution_count": 7,
   "metadata": {},
   "outputs": [
    {
     "name": "stdout",
     "output_type": "stream",
     "text": [
      "6\n",
      "I set aside at least an hour each day to read to my son (3 y/o). At this point, I consider myself a connoisseur of children's books and this is one of the best. Santa Clause put this under the tree. Since then, we've read it perpetually and he loves it.<br /><br />First, this book taught him the months of the year.<br /><br />Second, it's a pleasure to read. Well suited to 1.5 y/o old to 4+.<br /><br />Very few children's books are worth owning. Most should be borrowed from the library. This book, however, deserves a permanent spot on your shelf. Sendak's best.\n"
     ]
    }
   ],
   "source": [
    "# find sentences containing HTML tags\n",
    "import re\n",
    "i=0;\n",
    "for sent in final['Text'].values:\n",
    "    if (len(re.findall('<.*?>', sent))):\n",
    "        print(i)\n",
    "        print(sent)\n",
    "        break;\n",
    "    i += 1;    \n"
   ]
  },
  {
   "cell_type": "code",
   "execution_count": 8,
   "metadata": {},
   "outputs": [],
   "source": [
    "import re\n",
    "# Tutorial about Python regular expressions: https://pymotw.com/2/re/\n",
    "import string\n",
    "from nltk.corpus import stopwords\n",
    "from nltk.stem import PorterStemmer\n",
    "from nltk.stem.wordnet import WordNetLemmatizer\n",
    "\n",
    "stop = set(stopwords.words('english')) #set of stopwords\n",
    "sno = nltk.stem.SnowballStemmer('english') #initialising the snowball stemmer\n",
    "\n",
    "def cleanhtml(sentence): #function to clean the word of any html-tags\n",
    "    cleanr = re.compile('<.*?>')\n",
    "    cleantext = re.sub(cleanr, ' ', sentence)\n",
    "    return cleantext\n",
    "def cleanpunc(sentence): #function to clean the word of any punctuation or special characters\n",
    "    cleaned = re.sub(r'[?|!|\\'|\"|#]',r'',sentence)\n",
    "    cleaned = re.sub(r'[.|,|)|(|\\|/]',r' ',cleaned)\n",
    "    return  cleaned"
   ]
  },
  {
   "cell_type": "code",
   "execution_count": 9,
   "metadata": {},
   "outputs": [],
   "source": [
    "#Code for implementing step-by-step the checks mentioned in the pre-processing phase\n",
    "# this code takes a while to run as it needs to run on 500k sentences.\n",
    "i=0\n",
    "str1=' '\n",
    "final_string=[]\n",
    "all_positive_words=[] # store words from +ve reviews here\n",
    "all_negative_words=[] # store words from -ve reviews here.\n",
    "s=''\n",
    "for sent in final['Text'].values:\n",
    "    filtered_sentence=[]\n",
    "    #print(sent);\n",
    "    sent=cleanhtml(sent) # remove HTMl tags\n",
    "    for w in sent.split():\n",
    "        for cleaned_words in cleanpunc(w).split():\n",
    "            if((cleaned_words.isalpha()) & (len(cleaned_words)>2)):    \n",
    "                if(cleaned_words.lower() not in stop):\n",
    "                    s=(sno.stem(cleaned_words.lower())).encode('utf8')\n",
    "                    filtered_sentence.append(s)\n",
    "                    if (final['Score'].values)[i] == 'positive': \n",
    "                        all_positive_words.append(s) #list of all words used to describe positive reviews\n",
    "                    if(final['Score'].values)[i] == 'negative':\n",
    "                        all_negative_words.append(s) #list of all words used to describe negative reviews reviews\n",
    "                else:\n",
    "                    continue\n",
    "            else:\n",
    "                continue \n",
    "    #print(filtered_sentence)\n",
    "    str1 = b\" \".join(filtered_sentence) #final string of cleaned words\n",
    "    #print(\"***********************************************************************\")\n",
    "    \n",
    "    final_string.append(str1)\n",
    "    i+=1"
   ]
  },
  {
   "cell_type": "code",
   "execution_count": 10,
   "metadata": {},
   "outputs": [],
   "source": [
    "final['CleanedText']=final_string #adding a column of CleanedText which displays the data after pre-processing of the review "
   ]
  },
  {
   "cell_type": "markdown",
   "metadata": {},
   "source": [
    "# Time Based Sorting"
   ]
  },
  {
   "cell_type": "code",
   "execution_count": 11,
   "metadata": {},
   "outputs": [],
   "source": [
    "final=final.sort_values('Time', axis=0, ascending=True, inplace=False, kind='quicksort', na_position='last')"
   ]
  },
  {
   "cell_type": "code",
   "execution_count": 12,
   "metadata": {},
   "outputs": [],
   "source": [
    "scores = final['Score']"
   ]
  },
  {
   "cell_type": "markdown",
   "metadata": {},
   "source": [
    "# Split the Data Set into train and test"
   ]
  },
  {
   "cell_type": "code",
   "execution_count": 13,
   "metadata": {},
   "outputs": [
    {
     "name": "stderr",
     "output_type": "stream",
     "text": [
      "/anaconda3/lib/python3.6/site-packages/sklearn/cross_validation.py:41: DeprecationWarning: This module was deprecated in version 0.18 in favor of the model_selection module into which all the refactored classes and functions are moved. Also note that the interface of the new CV iterators are different from that of this module. This module will be removed in 0.20.\n",
      "  \"This module will be removed in 0.20.\", DeprecationWarning)\n"
     ]
    }
   ],
   "source": [
    "# ============================== loading libraries ===========================================\n",
    "import numpy as np\n",
    "import pandas as pd\n",
    "import matplotlib.pyplot as plt\n",
    "from sklearn.cross_validation import train_test_split\n",
    "from sklearn.metrics import accuracy_score\n",
    "from sklearn.cross_validation import cross_val_score\n",
    "from collections import Counter\n",
    "from sklearn.metrics import accuracy_score\n",
    "from sklearn import cross_validation\n",
    "from sklearn.naive_bayes import BernoulliNB\n",
    "import warnings\n",
    "# =============================================================================================\n",
    "\n",
    "warnings.filterwarnings(\"ignore\")\n",
    "# split the data set into train and test\n",
    "X_tr, X_test, y_tr, y_test = cross_validation.train_test_split(final['Text'].values, scores, test_size=0.3, random_state=0)\n",
    "\n",
    "y_test = y_test.values\n",
    "y_tr = y_tr.values\n",
    "\n",
    "#sampling data\n",
    "train_indices = np.random.choice(len(X_tr),40000,replace=False)\n",
    "test_indices = np.random.choice(len(X_test),10000,replace=False)\n",
    "X_tr = X_tr[train_indices]\n",
    "y_tr = y_tr[train_indices]\n",
    "X_test = X_test[test_indices]\n",
    "y_test = y_test[test_indices]"
   ]
  },
  {
   "cell_type": "markdown",
   "metadata": {},
   "source": [
    "# Converting Text to tfidfW2Vec"
   ]
  },
  {
   "cell_type": "code",
   "execution_count": 14,
   "metadata": {},
   "outputs": [],
   "source": [
    "# Train your own Word2Vec model using X_tr\n",
    "import gensim\n",
    "with warnings.catch_warnings():\n",
    "    warnings.simplefilter(\"ignore\")\n",
    "i=0\n",
    "list_of_sent_X_tr=[]\n",
    "for sent in X_tr:\n",
    "    filtered_sentence=[]\n",
    "    sent=cleanhtml(sent)\n",
    "    for w in sent.split():\n",
    "        for cleaned_words in cleanpunc(w).split():\n",
    "            if(cleaned_words.isalpha()):    \n",
    "                filtered_sentence.append(cleaned_words.lower())\n",
    "            else:\n",
    "                continue \n",
    "    list_of_sent_X_tr.append(filtered_sentence)"
   ]
  },
  {
   "cell_type": "code",
   "execution_count": 15,
   "metadata": {},
   "outputs": [],
   "source": [
    "import gensim\n",
    "with warnings.catch_warnings():\n",
    "    warnings.simplefilter(\"ignore\")\n",
    "i=0\n",
    "list_of_sent_X_test=[]\n",
    "for sent in X_test:\n",
    "    filtered_sentence=[]\n",
    "    sent=cleanhtml(sent)\n",
    "    for w in sent.split():\n",
    "        for cleaned_words in cleanpunc(w).split():\n",
    "            if(cleaned_words.isalpha()):    \n",
    "                filtered_sentence.append(cleaned_words.lower())\n",
    "            else:\n",
    "                continue \n",
    "    list_of_sent_X_test.append(filtered_sentence)"
   ]
  },
  {
   "cell_type": "code",
   "execution_count": 16,
   "metadata": {},
   "outputs": [],
   "source": [
    "w2v_model=gensim.models.Word2Vec(list_of_sent_X_tr,min_count=1,size=50, workers=4) "
   ]
  },
  {
   "cell_type": "code",
   "execution_count": 17,
   "metadata": {},
   "outputs": [],
   "source": [
    "tf_idf_X_tr_vect = TfidfVectorizer()\n",
    "tf_idf_X_tr_vect.fit(X_tr)\n",
    "final_tf_idf_X_tr_vect = tf_idf_X_tr_vect.transform(X_tr)\n",
    "final_tf_idf_X_test_vect = tf_idf_X_tr_vect.transform(X_test)"
   ]
  },
  {
   "cell_type": "code",
   "execution_count": 18,
   "metadata": {},
   "outputs": [],
   "source": [
    "# TF-IDF weighted Word2Vec\n",
    "tfidf_feat = tf_idf_X_tr_vect.get_feature_names() # tfidf words/col-names\n",
    "# final_tf_idf is the sparse matrix with row= sentence, col=word and cell_val = tfidf\n",
    "\n",
    "tfidf_sent_X_tr_vectors = []; # the tfidf-w2v for each sentence/review is stored in this list\n",
    "row=0;\n",
    "for sent in list_of_sent_X_tr: # for each review/sentence\n",
    "    sent_vec = np.zeros(50) # as word vectors are of zero length\n",
    "    weight_sum =0; # num of words with a valid vector in the sentence/review\n",
    "    for word in sent: # for each word in a review/sentence\n",
    "        try: \n",
    "            \n",
    "            vec = w2v_model.wv[word]\n",
    "            # obtain the tf_idfidf of a word in a sentence/review\n",
    "            tf_idf = final_tf_idf_X_tr_vect[row, tfidf_feat.index(word)]\n",
    "            sent_vec +=(vec * tf_idf)\n",
    "            weight_sum += tf_idf\n",
    "        except:\n",
    "            pass\n",
    "    sent_vec /= weight_sum\n",
    "    tfidf_sent_X_tr_vectors.append(sent_vec)\n",
    "    row += 1"
   ]
  },
  {
   "cell_type": "code",
   "execution_count": 19,
   "metadata": {},
   "outputs": [],
   "source": [
    "# TF-IDF weighted Word2Vec\n",
    "tfidf_feat = tf_idf_X_tr_vect.get_feature_names() # tfidf words/col-names\n",
    "# final_tf_idf is the sparse matrix with row= sentence, col=word and cell_val = tfidf\n",
    "\n",
    "tfidf_sent_X_test_vectors = []; # the tfidf-w2v for each sentence/review is stored in this list\n",
    "row=0;\n",
    "for sent in list_of_sent_X_test: # for each review/sentence\n",
    "    sent_vec = np.zeros(50) # as word vectors are of zero length\n",
    "    weight_sum =0; # num of words with a valid vector in the sentence/review\n",
    "    for word in sent: # for each word in a review/sentence\n",
    "        try:\n",
    "            \n",
    "            vec = w2v_model.wv[word]\n",
    "            # obtain the tf_idfidf of a word in a sentence/review\n",
    "            tf_idf = final_tf_idf_X_test_vect[row, tfidf_feat.index(word)]\n",
    "            sent_vec +=(vec * tf_idf)\n",
    "            weight_sum += tf_idf\n",
    "        except:\n",
    "            pass\n",
    "    sent_vec /= weight_sum\n",
    "    tfidf_sent_X_test_vectors.append(sent_vec)\n",
    "    row += 1"
   ]
  },
  {
   "cell_type": "code",
   "execution_count": 20,
   "metadata": {},
   "outputs": [],
   "source": [
    "from sklearn.preprocessing import Imputer\n",
    "X_tr_vector = Imputer().fit_transform(tfidf_sent_X_tr_vectors)\n",
    "X_test_vector = Imputer().fit_transform(tfidf_sent_X_test_vectors)"
   ]
  },
  {
   "cell_type": "markdown",
   "metadata": {},
   "source": [
    "# Column Standardization"
   ]
  },
  {
   "cell_type": "code",
   "execution_count": 21,
   "metadata": {},
   "outputs": [],
   "source": [
    "from sklearn.preprocessing import StandardScaler\n",
    "scaler = StandardScaler(copy=True, with_mean=False, with_std=True)\n",
    "scaler.fit(X_tr_vector)\n",
    "X_tr_vector = scaler.transform(X_tr_vector)\n",
    "X_test_vector =scaler.transform(X_test_vector)"
   ]
  },
  {
   "cell_type": "markdown",
   "metadata": {},
   "source": [
    "# Optimal Lamda using GridSearchCV"
   ]
  },
  {
   "cell_type": "code",
   "execution_count": 22,
   "metadata": {},
   "outputs": [
    {
     "name": "stdout",
     "output_type": "stream",
     "text": [
      "LogisticRegression(C=100, class_weight=None, dual=False, fit_intercept=True,\n",
      "          intercept_scaling=1, max_iter=100, multi_class='ovr', n_jobs=1,\n",
      "          penalty='l2', random_state=None, solver='liblinear', tol=0.0001,\n",
      "          verbose=0, warm_start=False)\n",
      "0.8708\n"
     ]
    }
   ],
   "source": [
    "from sklearn.grid_search import GridSearchCV\n",
    "from sklearn.datasets import *\n",
    "from sklearn.linear_model import LogisticRegression\n",
    "\n",
    "tuned_parameters = [{'C': [10**-4, 10**-2, 10**0, 10**2, 10**4]}]\n",
    "#Using GridSearchCV\n",
    "model = GridSearchCV(LogisticRegression(), tuned_parameters, scoring = 'accuracy', cv=5)\n",
    "model.fit(X_tr_vector, y_tr)\n",
    "\n",
    "print(model.best_estimator_)\n",
    "print(model.score(X_test_vector, y_test))"
   ]
  },
  {
   "cell_type": "markdown",
   "metadata": {},
   "source": [
    "# l2 regularizer"
   ]
  },
  {
   "cell_type": "code",
   "execution_count": 23,
   "metadata": {},
   "outputs": [
    {
     "name": "stdout",
     "output_type": "stream",
     "text": [
      "             precision    recall  f1-score   support\n",
      "\n",
      "   negative       0.65      0.33      0.44      1523\n",
      "   positive       0.89      0.97      0.93      8477\n",
      "\n",
      "avg / total       0.85      0.87      0.85     10000\n",
      "\n",
      "Coefficient of each feature: [[-0.02148334 -0.00771671  0.37975283 -0.01093354  0.10160761 -0.31947475\n",
      "   0.14421895  0.58967275 -0.33323138  0.14916013  0.33392497  0.04635088\n",
      "   0.2317835  -0.12900884 -0.11800748 -0.507742    0.38336439  0.48718191\n",
      "   0.51972722 -0.10995839  0.26683105 -0.3704141   0.37613635  0.13068342\n",
      "   0.21999848 -0.30984808  0.35583854 -0.27731904 -0.04567233 -0.14730684\n",
      "  -0.35316189 -0.16127853 -0.12823419 -0.29798677 -0.68335272 -0.18764131\n",
      "  -0.14746496  0.05019969  0.13800082 -0.4699487  -0.13729152 -0.38179335\n",
      "  -0.02119468 -0.52283236  0.37517016  0.41994783 -0.38035818  0.3991036\n",
      "  -0.06714348 -0.11354872]]\n",
      "Training accuracy: 0.868675\n",
      "Test accuracy: 0.8708\n"
     ]
    },
    {
     "data": {
      "image/png": "[encoded data removed]",
      "text/plain": [
       "<matplotlib.figure.Figure at 0x106ef1630>"
      ]
     },
     "metadata": {},
     "output_type": "display_data"
    }
   ],
   "source": [
    "from sklearn.metrics import confusion_matrix\n",
    "from sklearn.metrics import classification_report\n",
    "import seaborn as sns\n",
    "classifier = LogisticRegression(C=100,penalty='l2')\n",
    "classifier.fit(X_tr_vector, y_tr)\n",
    "y_pred = classifier.predict(X_test_vector)\n",
    "confusion_matrix = confusion_matrix(y_test, y_pred)\n",
    "sns.heatmap(confusion_matrix)\n",
    "print(classification_report(y_test, y_pred))\n",
    "print('Coefficient of each feature:', classifier.coef_)\n",
    "pre_weights =classifier.coef_\n",
    "print('Training accuracy:', classifier.score(X_tr_vector, y_tr))\n",
    "print('Test accuracy:', classifier.score(X_test_vector, y_test))"
   ]
  },
  {
   "cell_type": "markdown",
   "metadata": {},
   "source": [
    "# l1 regulaizer"
   ]
  },
  {
   "cell_type": "code",
   "execution_count": 24,
   "metadata": {},
   "outputs": [
    {
     "name": "stdout",
     "output_type": "stream",
     "text": [
      "             precision    recall  f1-score   support\n",
      "\n",
      "   negative       0.65      0.33      0.44      1523\n",
      "   positive       0.89      0.97      0.93      8477\n",
      "\n",
      "avg / total       0.85      0.87      0.85     10000\n",
      "\n",
      "Coefficient of each feature: [[-0.02537209 -0.00342679  0.37268175 -0.00783492  0.10407612 -0.32086447\n",
      "   0.14484637  0.58631419 -0.33146564  0.1489737   0.33162872  0.04592993\n",
      "   0.2314186  -0.12963557 -0.1156677  -0.50386596  0.37910054  0.48157859\n",
      "   0.50742386 -0.11036956  0.26005174 -0.37078057  0.37417319  0.13001073\n",
      "   0.21880353 -0.30911548  0.35175632 -0.27372758 -0.04775251 -0.1516294\n",
      "  -0.35221549 -0.16248199 -0.12870571 -0.29211531 -0.67943447 -0.18449404\n",
      "  -0.14647675  0.04702939  0.13640395 -0.47051294 -0.13985228 -0.38324897\n",
      "  -0.02215663 -0.52224346  0.3722824   0.41291763 -0.38440117  0.39989164\n",
      "  -0.06725605 -0.10657371]]\n",
      "Training accuracy: 0.868575\n",
      "Test accuracy: 0.8708\n"
     ]
    },
    {
     "data": {
      "image/png": "[encoded data removed]",
      "text/plain": [
       "<matplotlib.figure.Figure at 0x106ef1048>"
      ]
     },
     "metadata": {},
     "output_type": "display_data"
    }
   ],
   "source": [
    "from sklearn.metrics import confusion_matrix\n",
    "from sklearn.metrics import classification_report\n",
    "import seaborn as sns\n",
    "classifier = LogisticRegression(C=100,penalty='l1')\n",
    "classifier.fit(X_tr_vector, y_tr)\n",
    "y_pred = classifier.predict(X_test_vector)\n",
    "confusion_matrix = confusion_matrix(y_test, y_pred)\n",
    "sns.heatmap(confusion_matrix)\n",
    "print(classification_report(y_test, y_pred))\n",
    "print('Coefficient of each feature:', classifier.coef_)\n",
    "print('Training accuracy:', classifier.score(X_tr_vector, y_tr))\n",
    "print('Test accuracy:', classifier.score(X_test_vector, y_test))"
   ]
  },
  {
   "cell_type": "markdown",
   "metadata": {},
   "source": [
    "# Optimal Lamda using RandomSearchCV"
   ]
  },
  {
   "cell_type": "code",
   "execution_count": 25,
   "metadata": {},
   "outputs": [
    {
     "name": "stdout",
     "output_type": "stream",
     "text": [
      "LogisticRegression(C=2081.966358046061, class_weight=None, dual=False,\n",
      "          fit_intercept=True, intercept_scaling=1, max_iter=100,\n",
      "          multi_class='ovr', n_jobs=1, penalty='l2', random_state=None,\n",
      "          solver='liblinear', tol=0.0001, verbose=0, warm_start=False)\n",
      "0.8708\n"
     ]
    }
   ],
   "source": [
    "from sklearn.grid_search import GridSearchCV\n",
    "from sklearn.datasets import *\n",
    "from sklearn.linear_model import LogisticRegression\n",
    "from scipy import stats\n",
    "from sklearn.model_selection import GridSearchCV, RandomizedSearchCV \n",
    "\n",
    "\n",
    "tuned_parameters = {\"C\": stats.uniform(10**-4, 10**4)}\n",
    "#Using GridSearchCV\n",
    "model = RandomizedSearchCV(LogisticRegression(), tuned_parameters, scoring = 'accuracy', cv=5)\n",
    "model.fit(X_tr_vector, y_tr)\n",
    "\n",
    "print(model.best_estimator_)\n",
    "print(model.score(X_test_vector, y_test))"
   ]
  },
  {
   "cell_type": "markdown",
   "metadata": {},
   "source": [
    "# l2 Regularizer"
   ]
  },
  {
   "cell_type": "code",
   "execution_count": 26,
   "metadata": {},
   "outputs": [
    {
     "name": "stdout",
     "output_type": "stream",
     "text": [
      "             precision    recall  f1-score   support\n",
      "\n",
      "   negative       0.65      0.33      0.44      1523\n",
      "   positive       0.89      0.97      0.93      8477\n",
      "\n",
      "avg / total       0.85      0.87      0.85     10000\n",
      "\n",
      "Coefficient of each feature: [[-0.02145811 -0.00774323  0.37981036 -0.01095567  0.10159635 -0.31946629\n",
      "   0.14421441  0.58970104 -0.33324475  0.14916016  0.3339474   0.04635605\n",
      "   0.23178146 -0.12900686 -0.11802481 -0.50777367  0.38339275  0.48722474\n",
      "   0.51981806 -0.10996087  0.26688201 -0.37041624  0.37615486  0.13068648\n",
      "   0.22000994 -0.30985639  0.35586762 -0.27734813 -0.04566013 -0.14727749\n",
      "  -0.35317288 -0.16127118 -0.12823363 -0.29803201 -0.68338875 -0.18766186\n",
      "  -0.14747325  0.05022443  0.13801307 -0.46994852 -0.13727227 -0.38178365\n",
      "  -0.02118869 -0.5228468   0.37519722  0.42000027 -0.38033656  0.39910696\n",
      "  -0.06714948 -0.11359584]]\n",
      "Training accuracy: 0.86865\n",
      "Test accuracy: 0.8708\n"
     ]
    },
    {
     "data": {
      "image/png": "[encoded data removed]",
      "text/plain": [
       "<matplotlib.figure.Figure at 0x1a43c1dbe0>"
      ]
     },
     "metadata": {},
     "output_type": "display_data"
    }
   ],
   "source": [
    "from sklearn.metrics import confusion_matrix\n",
    "from sklearn.metrics import classification_report\n",
    "import seaborn as sns\n",
    "classifier = LogisticRegression(C=2081.966358046061,penalty='l2')\n",
    "classifier.fit(X_tr_vector, y_tr)\n",
    "y_pred = classifier.predict(X_test_vector)\n",
    "confusion_matrix = confusion_matrix(y_test, y_pred)\n",
    "sns.heatmap(confusion_matrix)\n",
    "print(classification_report(y_test, y_pred))\n",
    "print('Coefficient of each feature:', classifier.coef_)\n",
    "pre_weights =classifier.coef_\n",
    "print('Training accuracy:', classifier.score(X_tr_vector, y_tr))\n",
    "print('Test accuracy:', classifier.score(X_test_vector, y_test))"
   ]
  },
  {
   "cell_type": "markdown",
   "metadata": {},
   "source": [
    "# l1 Regularizer"
   ]
  },
  {
   "cell_type": "code",
   "execution_count": 27,
   "metadata": {},
   "outputs": [
    {
     "name": "stdout",
     "output_type": "stream",
     "text": [
      "             precision    recall  f1-score   support\n",
      "\n",
      "   negative       0.65      0.33      0.44      1523\n",
      "   positive       0.89      0.97      0.93      8477\n",
      "\n",
      "avg / total       0.85      0.87      0.85     10000\n",
      "\n",
      "Coefficient of each feature: [[-0.02524006 -0.00362794  0.37357753 -0.00793196  0.10364396 -0.32075019\n",
      "   0.14498482  0.58657668 -0.33173063  0.14897622  0.33158957  0.04597114\n",
      "   0.23142058 -0.12976973 -0.11579756 -0.50416934  0.37933935  0.48218744\n",
      "   0.50831144 -0.11051397  0.26048021 -0.37077771  0.37435197  0.13008113\n",
      "   0.21875721 -0.30930598  0.35213644 -0.27407436 -0.04758721 -0.15142054\n",
      "  -0.35246718 -0.16236234 -0.12877311 -0.29242746 -0.67970036 -0.18484139\n",
      "  -0.14635431  0.04724313  0.13658911 -0.47062498 -0.13970511 -0.38303213\n",
      "  -0.02219741 -0.52227815  0.37227361  0.41347029 -0.38400583  0.40001397\n",
      "  -0.06728125 -0.10702999]]\n",
      "Training accuracy: 0.8686\n",
      "Test accuracy: 0.8708\n"
     ]
    },
    {
     "data": {
      "image/png": "[encoded data removed]",
      "text/plain": [
       "<matplotlib.figure.Figure at 0x1a43a5e748>"
      ]
     },
     "metadata": {},
     "output_type": "display_data"
    }
   ],
   "source": [
    "from sklearn.metrics import confusion_matrix\n",
    "from sklearn.metrics import classification_report\n",
    "import seaborn as sns\n",
    "classifier = LogisticRegression(C=2081.966358046061,penalty='l1')\n",
    "classifier.fit(X_tr_vector, y_tr)\n",
    "y_pred = classifier.predict(X_test_vector)\n",
    "confusion_matrix = confusion_matrix(y_test, y_pred)\n",
    "sns.heatmap(confusion_matrix)\n",
    "print(classification_report(y_test, y_pred))\n",
    "print('Coefficient of each feature:', classifier.coef_)\n",
    "print('Training accuracy:', classifier.score(X_tr_vector, y_tr))\n",
    "print('Test accuracy:', classifier.score(X_test_vector, y_test))"
   ]
  },
  {
   "cell_type": "code",
   "execution_count": 28,
   "metadata": {},
   "outputs": [
    {
     "name": "stdout",
     "output_type": "stream",
     "text": [
      "             precision    recall  f1-score   support\n",
      "\n",
      "   negative       0.25      0.02      0.03      1523\n",
      "   positive       0.85      0.99      0.91      8477\n",
      "\n",
      "avg / total       0.76      0.84      0.78     10000\n",
      "\n",
      "Coefficient of each feature: [[0.         0.         0.         0.         0.         0.\n",
      "  0.         0.30816471 0.         0.         0.         0.\n",
      "  0.         0.         0.         0.         0.         0.\n",
      "  0.         0.         0.         0.         0.         0.\n",
      "  0.         0.         0.         0.         0.         0.\n",
      "  0.         0.         0.         0.         0.         0.\n",
      "  0.         0.         0.         0.         0.         0.\n",
      "  0.         0.         0.15008203 0.         0.         0.\n",
      "  0.         0.        ]]\n",
      "Training accuracy: 0.8397\n",
      "Test accuracy: 0.8431\n",
      "No of Non-zero elements: 2\n"
     ]
    },
    {
     "data": {
      "image/png": "[encoded data removed]",
      "text/plain": [
       "<matplotlib.figure.Figure at 0x106edd8d0>"
      ]
     },
     "metadata": {},
     "output_type": "display_data"
    }
   ],
   "source": [
    "from sklearn.metrics import confusion_matrix\n",
    "from sklearn.metrics import classification_report\n",
    "import seaborn as sns\n",
    "C_values = []\n",
    "non_zero_values = []\n",
    "test_accuracy =[]\n",
    "classifier = LogisticRegression(C=0.0001,penalty='l1')\n",
    "classifier.fit(X_tr_vector, y_tr)\n",
    "y_pred = classifier.predict(X_test_vector)\n",
    "confusion_matrix = confusion_matrix(y_test, y_pred)\n",
    "sns.heatmap(confusion_matrix)\n",
    "print(classification_report(y_test, y_pred))\n",
    "print('Coefficient of each feature:', classifier.coef_)\n",
    "print('Training accuracy:', classifier.score(X_tr_vector, y_tr))\n",
    "print('Test accuracy:', classifier.score(X_test_vector, y_test))\n",
    "test_accuracy.append(classifier.score(X_test_vector, y_test))\n",
    "w = classifier.coef_\n",
    "non_zero_elements = np.count_nonzero(w)\n",
    "print('No of Non-zero elements:',non_zero_elements)\n",
    "non_zero_values.append(non_zero_elements)\n",
    "C_values.append(0.0001)"
   ]
  },
  {
   "cell_type": "code",
   "execution_count": 29,
   "metadata": {},
   "outputs": [
    {
     "name": "stdout",
     "output_type": "stream",
     "text": [
      "             precision    recall  f1-score   support\n",
      "\n",
      "   negative       0.69      0.04      0.08      1523\n",
      "   positive       0.85      1.00      0.92      8477\n",
      "\n",
      "avg / total       0.83      0.85      0.79     10000\n",
      "\n",
      "Coefficient of each feature: [[ 0.          0.          0.          0.          0.         -0.00464584\n",
      "   0.          0.36997643 -0.12726638  0.01148451  0.          0.\n",
      "   0.30447768  0.          0.          0.          0.07403868  0.18112123\n",
      "   0.          0.          0.          0.          0.          0.\n",
      "   0.          0.          0.          0.          0.          0.\n",
      "   0.          0.          0.          0.         -0.15619997  0.\n",
      "   0.          0.          0.01885211 -0.28652797 -0.06769562 -0.2784916\n",
      "   0.         -0.01728363  0.          0.19925558  0.          0.\n",
      "   0.          0.        ]]\n",
      "Training accuracy: 0.846575\n",
      "Test accuracy: 0.8514\n",
      "No of Non-zero elements: 14\n"
     ]
    },
    {
     "data": {
      "image/png": "[encoded data removed]",
      "text/plain": [
       "<matplotlib.figure.Figure at 0x1a43bfc1d0>"
      ]
     },
     "metadata": {},
     "output_type": "display_data"
    }
   ],
   "source": [
    "from sklearn.metrics import confusion_matrix\n",
    "from sklearn.metrics import classification_report\n",
    "import seaborn as sns\n",
    "classifier = LogisticRegression(C=0.001,penalty='l1')\n",
    "classifier.fit(X_tr_vector, y_tr)\n",
    "y_pred = classifier.predict(X_test_vector)\n",
    "confusion_matrix = confusion_matrix(y_test, y_pred)\n",
    "sns.heatmap(confusion_matrix)\n",
    "print(classification_report(y_test, y_pred))\n",
    "print('Coefficient of each feature:', classifier.coef_)\n",
    "print('Training accuracy:', classifier.score(X_tr_vector, y_tr))\n",
    "print('Test accuracy:', classifier.score(X_test_vector, y_test))\n",
    "test_accuracy.append(classifier.score(X_test_vector, y_test))\n",
    "w = classifier.coef_\n",
    "non_zero_elements = np.count_nonzero(w)\n",
    "print('No of Non-zero elements:',non_zero_elements)\n",
    "non_zero_values.append(non_zero_elements)\n",
    "C_values.append(0.001)"
   ]
  },
  {
   "cell_type": "code",
   "execution_count": 30,
   "metadata": {},
   "outputs": [
    {
     "name": "stdout",
     "output_type": "stream",
     "text": [
      "             precision    recall  f1-score   support\n",
      "\n",
      "   negative       0.66      0.27      0.38      1523\n",
      "   positive       0.88      0.97      0.93      8477\n",
      "\n",
      "avg / total       0.85      0.87      0.84     10000\n",
      "\n",
      "Coefficient of each feature: [[ 0.          0.          0.          0.          0.00254656 -0.27821249\n",
      "   0.13204329  0.43488169 -0.26427628  0.1435838   0.11213454  0.\n",
      "   0.29684831  0.         -0.0265537  -0.32065139  0.26523766  0.28318445\n",
      "   0.15705703  0.          0.01338325 -0.21930038  0.228251    0.15922481\n",
      "   0.18175395 -0.18458284  0.15947251 -0.07457078  0.         -0.20141063\n",
      "  -0.21441151 -0.08457121 -0.05355396 -0.06656362 -0.52178868 -0.18465904\n",
      "  -0.07957202 -0.04365396  0.07653696 -0.45299952 -0.17513574 -0.44514246\n",
      "   0.         -0.33462286  0.11166401  0.20740161 -0.35720141  0.15593112\n",
      "   0.          0.        ]]\n",
      "Training accuracy: 0.86555\n",
      "Test accuracy: 0.8677\n",
      "No of Non-zero elements: 39\n"
     ]
    },
    {
     "data": {
      "image/png": "[encoded data removed]",
      "text/plain": [
       "<matplotlib.figure.Figure at 0x1a2df20f28>"
      ]
     },
     "metadata": {},
     "output_type": "display_data"
    }
   ],
   "source": [
    "from sklearn.metrics import confusion_matrix\n",
    "from sklearn.metrics import classification_report\n",
    "import seaborn as sns\n",
    "classifier = LogisticRegression(C=0.01,penalty='l1')\n",
    "classifier.fit(X_tr_vector, y_tr)\n",
    "y_pred = classifier.predict(X_test_vector)\n",
    "confusion_matrix = confusion_matrix(y_test, y_pred)\n",
    "sns.heatmap(confusion_matrix)\n",
    "print(classification_report(y_test, y_pred))\n",
    "print('Coefficient of each feature:', classifier.coef_)\n",
    "print('Training accuracy:', classifier.score(X_tr_vector, y_tr))\n",
    "print('Test accuracy:', classifier.score(X_test_vector, y_test))\n",
    "test_accuracy.append(classifier.score(X_test_vector, y_test))\n",
    "w = classifier.coef_\n",
    "non_zero_elements = np.count_nonzero(w)\n",
    "print('No of Non-zero elements:',non_zero_elements)\n",
    "non_zero_values.append(non_zero_elements)\n",
    "C_values.append(0.01)"
   ]
  },
  {
   "cell_type": "code",
   "execution_count": 31,
   "metadata": {},
   "outputs": [
    {
     "name": "stdout",
     "output_type": "stream",
     "text": [
      "             precision    recall  f1-score   support\n",
      "\n",
      "   negative       0.65      0.32      0.43      1523\n",
      "   positive       0.89      0.97      0.93      8477\n",
      "\n",
      "avg / total       0.85      0.87      0.85     10000\n",
      "\n",
      "Coefficient of each feature: [[-0.05595886  0.0365716   0.25900048  0.02315728  0.11815907 -0.3273774\n",
      "   0.14542724  0.53208322 -0.3067564   0.1501096   0.28349898  0.02717554\n",
      "   0.23578857 -0.1241123  -0.08218095 -0.44585966  0.3265926   0.40557526\n",
      "   0.34401273 -0.10004009  0.16129899 -0.35933908  0.34012866  0.12804911\n",
      "   0.20142482 -0.28823901  0.2979112  -0.21549226 -0.06251534 -0.19856953\n",
      "  -0.32808578 -0.16418524 -0.12172712 -0.20824791 -0.62103978 -0.15214491\n",
      "  -0.12230469  0.          0.11213128 -0.4721566  -0.16689651 -0.40398659\n",
      "  -0.02070171 -0.49015118  0.31783506  0.31900391 -0.4218863   0.37401179\n",
      "  -0.04698459 -0.02102598]]\n",
      "Training accuracy: 0.868125\n",
      "Test accuracy: 0.8706\n",
      "No of Non-zero elements: 49\n"
     ]
    },
    {
     "data": {
      "image/png": "[encoded data removed]",
      "text/plain": [
       "<matplotlib.figure.Figure at 0x1a44546278>"
      ]
     },
     "metadata": {},
     "output_type": "display_data"
    }
   ],
   "source": [
    "from sklearn.metrics import confusion_matrix\n",
    "from sklearn.metrics import classification_report\n",
    "import seaborn as sns\n",
    "classifier = LogisticRegression(C=0.1,penalty='l1')\n",
    "classifier.fit(X_tr_vector, y_tr)\n",
    "y_pred = classifier.predict(X_test_vector)\n",
    "confusion_matrix = confusion_matrix(y_test, y_pred)\n",
    "sns.heatmap(confusion_matrix)\n",
    "print(classification_report(y_test, y_pred))\n",
    "print('Coefficient of each feature:', classifier.coef_)\n",
    "print('Training accuracy:', classifier.score(X_tr_vector, y_tr))\n",
    "print('Test accuracy:', classifier.score(X_test_vector, y_test))\n",
    "test_accuracy.append(classifier.score(X_test_vector, y_test))\n",
    "w = classifier.coef_\n",
    "non_zero_elements = np.count_nonzero(w)\n",
    "print('No of Non-zero elements:',non_zero_elements)\n",
    "non_zero_values.append(non_zero_elements)\n",
    "C_values.append(0.1)"
   ]
  },
  {
   "cell_type": "code",
   "execution_count": 32,
   "metadata": {},
   "outputs": [
    {
     "name": "stdout",
     "output_type": "stream",
     "text": [
      "             precision    recall  f1-score   support\n",
      "\n",
      "   negative       0.65      0.33      0.43      1523\n",
      "   positive       0.89      0.97      0.93      8477\n",
      "\n",
      "avg / total       0.85      0.87      0.85     10000\n",
      "\n",
      "Coefficient of each feature: [[-0.02864865  0.00111099  0.36058506 -0.00264445  0.10520806 -0.32158344\n",
      "   0.14489699  0.58069979 -0.32857395  0.14880048  0.32607249  0.04398958\n",
      "   0.23225483 -0.12901302 -0.11245524 -0.4975003   0.37339404  0.47336139\n",
      "   0.48996297 -0.10940917  0.24885474 -0.36995971  0.37035364  0.12964484\n",
      "   0.21693996 -0.30671646  0.34599833 -0.26790044 -0.04938748 -0.15660468\n",
      "  -0.3499528  -0.16299619 -0.12817742 -0.28295945 -0.67293667 -0.18142689\n",
      "  -0.14375555  0.04097754  0.13360121 -0.47070581 -0.14245072 -0.38541618\n",
      "  -0.02195057 -0.51864434  0.36676731  0.40262084 -0.3883438   0.39765686\n",
      "  -0.06521539 -0.09696227]]\n",
      "Training accuracy: 0.868575\n",
      "Test accuracy: 0.8707\n",
      "No of Non-zero elements: 50\n"
     ]
    },
    {
     "data": {
      "image/png": "[encoded data removed]",
      "text/plain": [
       "<matplotlib.figure.Figure at 0x1a4375f908>"
      ]
     },
     "metadata": {},
     "output_type": "display_data"
    }
   ],
   "source": [
    "from sklearn.metrics import confusion_matrix\n",
    "from sklearn.metrics import classification_report\n",
    "import seaborn as sns\n",
    "classifier = LogisticRegression(C=1,penalty='l1')\n",
    "classifier.fit(X_tr_vector, y_tr)\n",
    "y_pred = classifier.predict(X_test_vector)\n",
    "confusion_matrix = confusion_matrix(y_test, y_pred)\n",
    "sns.heatmap(confusion_matrix)\n",
    "print(classification_report(y_test, y_pred))\n",
    "print('Coefficient of each feature:', classifier.coef_)\n",
    "print('Training accuracy:', classifier.score(X_tr_vector, y_tr))\n",
    "print('Test accuracy:', classifier.score(X_test_vector, y_test))\n",
    "test_accuracy.append(classifier.score(X_test_vector, y_test))\n",
    "w = classifier.coef_\n",
    "non_zero_elements = np.count_nonzero(w)\n",
    "print('No of Non-zero elements:',non_zero_elements)\n",
    "non_zero_values.append(non_zero_elements)\n",
    "C_values.append(1)"
   ]
  },
  {
   "cell_type": "code",
   "execution_count": 33,
   "metadata": {},
   "outputs": [
    {
     "name": "stdout",
     "output_type": "stream",
     "text": [
      "             precision    recall  f1-score   support\n",
      "\n",
      "   negative       0.65      0.33      0.44      1523\n",
      "   positive       0.89      0.97      0.93      8477\n",
      "\n",
      "avg / total       0.85      0.87      0.85     10000\n",
      "\n",
      "Coefficient of each feature: [[-0.02537637 -0.00315504  0.37254627 -0.00756034  0.10383716 -0.32077642\n",
      "   0.14490355  0.58615734 -0.3315404   0.14897613  0.33128878  0.0457665\n",
      "   0.23150667 -0.12955796 -0.11560041 -0.50372033  0.37887799  0.48140259\n",
      "   0.50696853 -0.11027956  0.25953239 -0.37067788  0.37397741  0.13007425\n",
      "   0.21871894 -0.30921989  0.35160031 -0.27352219 -0.04773484 -0.15172066\n",
      "  -0.35228111 -0.16244105 -0.12869665 -0.29178943 -0.67927494 -0.18454277\n",
      "  -0.14617286  0.04671556  0.13617456 -0.47059722 -0.13985792 -0.38328344\n",
      "  -0.02205723 -0.52204329  0.37195053  0.41261586 -0.38445998  0.39951927\n",
      "  -0.06697252 -0.10636571]]\n",
      "Training accuracy: 0.8686\n",
      "Test accuracy: 0.8708\n",
      "No of Non-zero elements: 50\n"
     ]
    },
    {
     "data": {
      "image/png": "[encoded data removed]",
      "text/plain": [
       "<matplotlib.figure.Figure at 0x1a438c4518>"
      ]
     },
     "metadata": {},
     "output_type": "display_data"
    }
   ],
   "source": [
    "from sklearn.metrics import confusion_matrix\n",
    "from sklearn.metrics import classification_report\n",
    "import seaborn as sns\n",
    "classifier = LogisticRegression(C=10,penalty='l1')\n",
    "classifier.fit(X_tr_vector, y_tr)\n",
    "y_pred = classifier.predict(X_test_vector)\n",
    "confusion_matrix = confusion_matrix(y_test, y_pred)\n",
    "sns.heatmap(confusion_matrix)\n",
    "print(classification_report(y_test, y_pred))\n",
    "print('Coefficient of each feature:', classifier.coef_)\n",
    "print('Training accuracy:', classifier.score(X_tr_vector, y_tr))\n",
    "print('Test accuracy:', classifier.score(X_test_vector, y_test))\n",
    "test_accuracy.append(classifier.score(X_test_vector, y_test))\n",
    "w = classifier.coef_\n",
    "non_zero_elements = np.count_nonzero(w)\n",
    "print('No of Non-zero elements:',non_zero_elements)\n",
    "non_zero_values.append(non_zero_elements)\n",
    "C_values.append(10)"
   ]
  },
  {
   "cell_type": "code",
   "execution_count": 34,
   "metadata": {},
   "outputs": [
    {
     "name": "stdout",
     "output_type": "stream",
     "text": [
      "             precision    recall  f1-score   support\n",
      "\n",
      "   negative       0.65      0.33      0.44      1523\n",
      "   positive       0.89      0.97      0.93      8477\n",
      "\n",
      "avg / total       0.85      0.87      0.85     10000\n",
      "\n",
      "Coefficient of each feature: [[-0.02498436 -0.00385248  0.37377917 -0.00817321  0.10376107 -0.32070776\n",
      "   0.14482211  0.58676417 -0.33177494  0.14900461  0.33176391  0.04595187\n",
      "   0.23144039 -0.12959339 -0.11591217 -0.50438393  0.37959892  0.48217928\n",
      "   0.50885563 -0.11035347  0.26080947 -0.37071066  0.37454054  0.13016511\n",
      "   0.21891416 -0.3093735   0.35223032 -0.27421    -0.04743699 -0.15112328\n",
      "  -0.35250933 -0.16228203 -0.12872461 -0.29283278 -0.68006726 -0.18492929\n",
      "  -0.1465111   0.04749555  0.13659796 -0.47055856 -0.13951573 -0.38307686\n",
      "  -0.02205799 -0.52239156  0.37255797  0.4137743  -0.38392325  0.39990379\n",
      "  -0.06728765 -0.10741414]]\n",
      "Training accuracy: 0.868575\n",
      "Test accuracy: 0.8708\n",
      "No of Non-zero elements: 50\n"
     ]
    },
    {
     "data": {
      "image/png": "[encoded data removed]",
      "text/plain": [
       "<matplotlib.figure.Figure at 0x1a439d0ba8>"
      ]
     },
     "metadata": {},
     "output_type": "display_data"
    }
   ],
   "source": [
    "from sklearn.metrics import confusion_matrix\n",
    "from sklearn.metrics import classification_report\n",
    "import seaborn as sns\n",
    "classifier = LogisticRegression(C=100,penalty='l1')\n",
    "classifier.fit(X_tr_vector, y_tr)\n",
    "y_pred = classifier.predict(X_test_vector)\n",
    "confusion_matrix = confusion_matrix(y_test, y_pred)\n",
    "sns.heatmap(confusion_matrix)\n",
    "print(classification_report(y_test, y_pred))\n",
    "print('Coefficient of each feature:', classifier.coef_)\n",
    "print('Training accuracy:', classifier.score(X_tr_vector, y_tr))\n",
    "print('Test accuracy:', classifier.score(X_test_vector, y_test))\n",
    "test_accuracy.append(classifier.score(X_test_vector, y_test))\n",
    "w = classifier.coef_\n",
    "non_zero_elements = np.count_nonzero(w)\n",
    "print('No of Non-zero elements:',non_zero_elements)\n",
    "non_zero_values.append(non_zero_elements)\n",
    "C_values.append(100)"
   ]
  },
  {
   "cell_type": "markdown",
   "metadata": {},
   "source": [
    "# C vs Sparsity"
   ]
  },
  {
   "cell_type": "code",
   "execution_count": 35,
   "metadata": {},
   "outputs": [
    {
     "data": {
      "image/png": "[encoded data removed]",
      "text/plain": [
       "<matplotlib.figure.Figure at 0x1a21114a90>"
      ]
     },
     "metadata": {},
     "output_type": "display_data"
    }
   ],
   "source": [
    "plt.plot(C_values, non_zero_values)\n",
    "plt.xlabel('C')\n",
    "plt.ylabel('Sparsity')\n",
    "plt.show()"
   ]
  },
  {
   "cell_type": "markdown",
   "metadata": {},
   "source": [
    "# C vs Test Accuracy"
   ]
  },
  {
   "cell_type": "code",
   "execution_count": 36,
   "metadata": {},
   "outputs": [
    {
     "data": {
      "image/png": "[encoded data removed]",
      "text/plain": [
       "<matplotlib.figure.Figure at 0x1a44abb748>"
      ]
     },
     "metadata": {},
     "output_type": "display_data"
    }
   ],
   "source": [
    "plt.plot(C_values, test_accuracy)\n",
    "plt.xlabel('C')\n",
    "plt.ylabel('accuracy')\n",
    "plt.show()"
   ]
  },
  {
   "cell_type": "markdown",
   "metadata": {},
   "source": [
    "# Checking Multicollinearity"
   ]
  },
  {
   "cell_type": "code",
   "execution_count": 37,
   "metadata": {},
   "outputs": [
    {
     "name": "stdout",
     "output_type": "stream",
     "text": [
      "-0.002253919747763873\n"
     ]
    }
   ],
   "source": [
    "#adding epsilon to train data for multicollinearity check\n",
    "import scipy.stats\n",
    "X_train = X_tr_vector.copy()\n",
    "#X_train.todense()\n",
    "print(scipy.stats.norm.rvs(loc=0, scale=0.01))\n",
    "X_train.data += scipy.stats.norm.rvs(loc=0, scale=0.01)"
   ]
  },
  {
   "cell_type": "code",
   "execution_count": 38,
   "metadata": {},
   "outputs": [
    {
     "name": "stdout",
     "output_type": "stream",
     "text": [
      "             precision    recall  f1-score   support\n",
      "\n",
      "   negative       0.77      0.03      0.05      1523\n",
      "   positive       0.85      1.00      0.92      8477\n",
      "\n",
      "avg / total       0.84      0.85      0.79     10000\n",
      "\n",
      "Coefficient of each feature: [[ 0.02064683 -0.0387704  -0.06417264  0.00710476 -0.02715075 -0.06693142\n",
      "   0.06206871  0.17610486 -0.11324898  0.08376812 -0.04490479  0.02427948\n",
      "   0.1354142   0.02747547 -0.0390181  -0.07596328  0.10454959  0.14495824\n",
      "   0.09215385  0.03415153 -0.00941729 -0.0581947   0.06600628  0.07150337\n",
      "   0.04233938 -0.02033163  0.08300059  0.03597996 -0.04158818 -0.05050207\n",
      "  -0.02076352 -0.02138101 -0.04507698 -0.07950915 -0.12506235 -0.03168238\n",
      "  -0.02096899 -0.0058341   0.08349652 -0.13904643 -0.06903191 -0.14929111\n",
      "   0.00312343 -0.07527206  0.05393199  0.0854635  -0.05297635  0.0009906\n",
      "   0.02840827  0.00742097]]\n",
      "Training accuracy: 0.845975\n",
      "Test accuracy: 0.8507\n"
     ]
    },
    {
     "data": {
      "image/png": "[encoded data removed]",
      "text/plain": [
       "<matplotlib.figure.Figure at 0x1a45faf390>"
      ]
     },
     "metadata": {},
     "output_type": "display_data"
    }
   ],
   "source": [
    "from sklearn.metrics import confusion_matrix\n",
    "from sklearn.metrics import classification_report\n",
    "import seaborn as sns\n",
    "classifier = LogisticRegression(C=0.0001,penalty='l2')\n",
    "classifier.fit(X_train, y_tr)\n",
    "y_pred = classifier.predict(X_test_vector)\n",
    "confusion_matrix = confusion_matrix(y_test, y_pred)\n",
    "sns.heatmap(confusion_matrix)\n",
    "print(classification_report(y_test, y_pred))\n",
    "post_weights = classifier.coef_\n",
    "print('Coefficient of each feature:', classifier.coef_)\n",
    "print('Training accuracy:', classifier.score(X_train, y_tr))\n",
    "print('Test accuracy:', classifier.score(X_test_vector, y_test))"
   ]
  },
  {
   "cell_type": "code",
   "execution_count": 41,
   "metadata": {},
   "outputs": [],
   "source": [
    "difference =[]\n",
    "for i in post_weights:\n",
    "    difference.append(np.abs(pre_weights-post_weights))"
   ]
  },
  {
   "cell_type": "code",
   "execution_count": 42,
   "metadata": {},
   "outputs": [
    {
     "data": {
      "text/plain": [
       "[<matplotlib.lines.Line2D at 0x1a43f8a9e8>]"
      ]
     },
     "execution_count": 42,
     "metadata": {},
     "output_type": "execute_result"
    },
    {
     "data": {
      "image/png": "[encoded data removed]",
      "text/plain": [
       "<matplotlib.figure.Figure at 0x1a460f67b8>"
      ]
     },
     "metadata": {},
     "output_type": "display_data"
    }
   ],
   "source": [
    "counts, bin_edges = np.histogram(difference, bins=500, density = True)\n",
    "pdf = counts/(sum(counts))\n",
    "cdf = np.cumsum(pdf)\n",
    "plt.plot(bin_edges[1:], cdf)"
   ]
  },
  {
   "cell_type": "markdown",
   "metadata": {},
   "source": [
    "# Conclusion"
   ]
  },
  {
   "cell_type": "code",
   "execution_count": 43,
   "metadata": {},
   "outputs": [
    {
     "name": "stdout",
     "output_type": "stream",
     "text": [
      "+----------------+-------------------+-------------+-------------+------------+\n",
      "|   CV Method    |     Optimal C     | regularizer | Train Error | Test Error |\n",
      "+----------------+-------------------+-------------+-------------+------------+\n",
      "|  GridSearchCV  |        100        |      l2     |   0.131325  |   0.1292   |\n",
      "|  GridSearchCV  |        100        |      l1     |   0.131425  |   0.1292   |\n",
      "| RandomSearchCV | 2081.966358046061 |      l2     |   0.13135   |   0.1292   |\n",
      "| RandomSearchCV | 2081.966358046061 |      l1     |    0.1314   |   0.1292   |\n",
      "+----------------+-------------------+-------------+-------------+------------+\n",
      "**C Vs Sparsity with l1 regularizer**\n",
      "+--------+----------+\n",
      "|   C    | Sparsity |\n",
      "+--------+----------+\n",
      "| 0.0001 |    2     |\n",
      "| 0.001  |    14    |\n",
      "|  0.01  |    39    |\n",
      "|  0.1   |    49    |\n",
      "|   1    |    50    |\n",
      "|   10   |    50    |\n",
      "|  100   |    50    |\n",
      "+--------+----------+\n",
      "->Features are multicollinear hence |wj| can not be used for Feature Importance\n"
     ]
    }
   ],
   "source": [
    "from prettytable import PrettyTable\n",
    "t = PrettyTable()\n",
    "t.field_names = ['CV Method', 'Optimal C','regularizer','Train Error','Test Error']\n",
    "t.add_row([\"GridSearchCV\",\"100\",\"l2\",\"0.131325\",\"0.1292\"])\n",
    "t.add_row([\"GridSearchCV\",\"100\",\"l1\",\"0.131425\",\"0.1292\"])\n",
    "t.add_row([\"RandomSearchCV\",\"2081.966358046061\",\"l2\",\"0.13135\",\"0.1292\"])\n",
    "t.add_row([\"RandomSearchCV\",\"2081.966358046061\",\"l1\",\"0.1314\",\"0.1292\"])\n",
    "print(t)\n",
    "print(\"**C Vs Sparsity with l1 regularizer**\")\n",
    "t1 = PrettyTable()\n",
    "t1.field_names = ['C', 'Sparsity']\n",
    "t1.add_row([\"0.0001\",\"2\"])\n",
    "t1.add_row([\"0.001\",\"14\"])\n",
    "t1.add_row([\"0.01\",\"39\"])\n",
    "t1.add_row([\"0.1\",\"49\"])\n",
    "t1.add_row([\"1\",\"50\"])\n",
    "t1.add_row([\"10\",\"50\"])\n",
    "t1.add_row([\"100\",\"50\"])\n",
    "print(t1)\n",
    "print(\"->Features are multicollinear hence |wj| can not be used for Feature Importance\")\n"
   ]
  }
 ],
 "metadata": {
  "kernelspec": {
   "display_name": "Python 3",
   "language": "python",
   "name": "python3"
  },
  "language_info": {
   "codemirror_mode": {
    "name": "ipython",
    "version": 3
   },
   "file_extension": ".py",
   "mimetype": "text/x-python",
   "name": "python",
   "nbconvert_exporter": "python",
   "pygments_lexer": "ipython3",
   "version": "3.6.4"
  }
 },
 "nbformat": 4,
 "nbformat_minor": 2
}
