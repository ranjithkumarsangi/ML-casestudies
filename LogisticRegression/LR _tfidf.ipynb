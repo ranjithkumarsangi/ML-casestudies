{
 "cells": [
  {
   "cell_type": "markdown",
   "metadata": {},
   "source": [
    "# Data Loading"
   ]
  },
  {
   "cell_type": "code",
   "execution_count": 1,
   "metadata": {},
   "outputs": [],
   "source": [
    "%matplotlib inline\n",
    "\n",
    "import sqlite3\n",
    "import pandas as pd\n",
    "import numpy as np\n",
    "import nltk\n",
    "import string\n",
    "import matplotlib.pyplot as plt\n",
    "import seaborn as sns\n",
    "from sklearn.feature_extraction.text import TfidfTransformer\n",
    "from sklearn.feature_extraction.text import TfidfVectorizer\n",
    "\n",
    "from sklearn.feature_extraction.text import CountVectorizer\n",
    "from sklearn.metrics import confusion_matrix\n",
    "from sklearn import metrics\n",
    "from sklearn.metrics import roc_curve, auc\n",
    "from nltk.stem.porter import PorterStemmer\n",
    "\n",
    "\n",
    "\n",
    "# using the SQLite Table to read data.\n",
    "con = sqlite3.connect('./amazon-fine-food-reviews/database.sqlite') \n",
    "\n",
    "\n",
    "\n",
    "#filtering only positive and negative reviews i.e. \n",
    "# not taking into consideration those reviews with Score=3\n",
    "filtered_data = pd.read_sql_query(\"\"\"\n",
    "SELECT *\n",
    "FROM Reviews\n",
    "WHERE Score != 3\n",
    "\"\"\", con) \n",
    "\n",
    "\n",
    "\n",
    "\n",
    "# Give reviews with Score>3 a positive rating, and reviews with a score<3 a negative rating.\n",
    "def partition(x):\n",
    "    if x < 3:\n",
    "        return 'negative'\n",
    "    return 'positive'\n",
    "\n",
    "#changing reviews with score less than 3 to be positive and vice-versa\n",
    "actualScore = filtered_data['Score']\n",
    "positiveNegative = actualScore.map(partition) \n",
    "filtered_data['Score'] = positiveNegative"
   ]
  },
  {
   "cell_type": "markdown",
   "metadata": {},
   "source": [
    "# Data Cleaning"
   ]
  },
  {
   "cell_type": "code",
   "execution_count": 2,
   "metadata": {},
   "outputs": [],
   "source": [
    "display= pd.read_sql_query(\"\"\"\n",
    "SELECT *\n",
    "FROM Reviews\n",
    "WHERE Score != 3 AND UserId=\"AR5J8UI46CURR\"\n",
    "ORDER BY ProductID\n",
    "\"\"\", con)"
   ]
  },
  {
   "cell_type": "code",
   "execution_count": 3,
   "metadata": {},
   "outputs": [],
   "source": [
    "#Sorting data according to ProductId in ascending order\n",
    "sorted_data=filtered_data.sort_values('ProductId', axis=0, ascending=True, inplace=False, kind='quicksort', na_position='last')"
   ]
  },
  {
   "cell_type": "code",
   "execution_count": 4,
   "metadata": {},
   "outputs": [
    {
     "data": {
      "text/plain": [
       "(364173, 10)"
      ]
     },
     "execution_count": 4,
     "metadata": {},
     "output_type": "execute_result"
    }
   ],
   "source": [
    "#Deduplication of entries\n",
    "final=sorted_data.drop_duplicates(subset={\"UserId\",\"ProfileName\",\"Time\",\"Text\"}, keep='first', inplace=False)\n",
    "final.shape"
   ]
  },
  {
   "cell_type": "code",
   "execution_count": 5,
   "metadata": {},
   "outputs": [],
   "source": [
    "final=final[final.HelpfulnessNumerator<=final.HelpfulnessDenominator]"
   ]
  },
  {
   "cell_type": "code",
   "execution_count": 6,
   "metadata": {},
   "outputs": [
    {
     "name": "stdout",
     "output_type": "stream",
     "text": [
      "(364171, 10)\n"
     ]
    },
    {
     "data": {
      "text/plain": [
       "positive    307061\n",
       "negative     57110\n",
       "Name: Score, dtype: int64"
      ]
     },
     "execution_count": 6,
     "metadata": {},
     "output_type": "execute_result"
    }
   ],
   "source": [
    "#Before starting the next phase of preprocessing lets see the number of entries left\n",
    "print(final.shape)\n",
    "\n",
    "#How many positive and negative reviews are present in our dataset?\n",
    "final['Score'].value_counts()"
   ]
  },
  {
   "cell_type": "code",
   "execution_count": 7,
   "metadata": {},
   "outputs": [
    {
     "name": "stdout",
     "output_type": "stream",
     "text": [
      "6\n",
      "I set aside at least an hour each day to read to my son (3 y/o). At this point, I consider myself a connoisseur of children's books and this is one of the best. Santa Clause put this under the tree. Since then, we've read it perpetually and he loves it.<br /><br />First, this book taught him the months of the year.<br /><br />Second, it's a pleasure to read. Well suited to 1.5 y/o old to 4+.<br /><br />Very few children's books are worth owning. Most should be borrowed from the library. This book, however, deserves a permanent spot on your shelf. Sendak's best.\n"
     ]
    }
   ],
   "source": [
    "# find sentences containing HTML tags\n",
    "import re\n",
    "i=0;\n",
    "for sent in final['Text'].values:\n",
    "    if (len(re.findall('<.*?>', sent))):\n",
    "        print(i)\n",
    "        print(sent)\n",
    "        break;\n",
    "    i += 1;    \n"
   ]
  },
  {
   "cell_type": "code",
   "execution_count": 8,
   "metadata": {},
   "outputs": [],
   "source": [
    "import re\n",
    "# Tutorial about Python regular expressions: https://pymotw.com/2/re/\n",
    "import string\n",
    "from nltk.corpus import stopwords\n",
    "from nltk.stem import PorterStemmer\n",
    "from nltk.stem.wordnet import WordNetLemmatizer\n",
    "\n",
    "stop = set(stopwords.words('english')) #set of stopwords\n",
    "sno = nltk.stem.SnowballStemmer('english') #initialising the snowball stemmer\n",
    "\n",
    "def cleanhtml(sentence): #function to clean the word of any html-tags\n",
    "    cleanr = re.compile('<.*?>')\n",
    "    cleantext = re.sub(cleanr, ' ', sentence)\n",
    "    return cleantext\n",
    "def cleanpunc(sentence): #function to clean the word of any punctuation or special characters\n",
    "    cleaned = re.sub(r'[?|!|\\'|\"|#]',r'',sentence)\n",
    "    cleaned = re.sub(r'[.|,|)|(|\\|/]',r' ',cleaned)\n",
    "    return  cleaned"
   ]
  },
  {
   "cell_type": "code",
   "execution_count": 9,
   "metadata": {},
   "outputs": [],
   "source": [
    "#Code for implementing step-by-step the checks mentioned in the pre-processing phase\n",
    "# this code takes a while to run as it needs to run on 500k sentences.\n",
    "i=0\n",
    "str1=' '\n",
    "final_string=[]\n",
    "all_positive_words=[] # store words from +ve reviews here\n",
    "all_negative_words=[] # store words from -ve reviews here.\n",
    "s=''\n",
    "for sent in final['Text'].values:\n",
    "    filtered_sentence=[]\n",
    "    #print(sent);\n",
    "    sent=cleanhtml(sent) # remove HTMl tags\n",
    "    for w in sent.split():\n",
    "        for cleaned_words in cleanpunc(w).split():\n",
    "            if((cleaned_words.isalpha()) & (len(cleaned_words)>2)):    \n",
    "                if(cleaned_words.lower() not in stop):\n",
    "                    s=(sno.stem(cleaned_words.lower())).encode('utf8')\n",
    "                    filtered_sentence.append(s)\n",
    "                    if (final['Score'].values)[i] == 'positive': \n",
    "                        all_positive_words.append(s) #list of all words used to describe positive reviews\n",
    "                    if(final['Score'].values)[i] == 'negative':\n",
    "                        all_negative_words.append(s) #list of all words used to describe negative reviews reviews\n",
    "                else:\n",
    "                    continue\n",
    "            else:\n",
    "                continue \n",
    "    #print(filtered_sentence)\n",
    "    str1 = b\" \".join(filtered_sentence) #final string of cleaned words\n",
    "    #print(\"***********************************************************************\")\n",
    "    \n",
    "    final_string.append(str1)\n",
    "    i+=1"
   ]
  },
  {
   "cell_type": "code",
   "execution_count": 10,
   "metadata": {},
   "outputs": [],
   "source": [
    "final['CleanedText']=final_string #adding a column of CleanedText which displays the data after pre-processing of the review "
   ]
  },
  {
   "cell_type": "markdown",
   "metadata": {},
   "source": [
    "# Time Based Sorting"
   ]
  },
  {
   "cell_type": "code",
   "execution_count": 11,
   "metadata": {},
   "outputs": [],
   "source": [
    "final=final.sort_values('Time', axis=0, ascending=True, inplace=False, kind='quicksort', na_position='last')"
   ]
  },
  {
   "cell_type": "code",
   "execution_count": 12,
   "metadata": {},
   "outputs": [],
   "source": [
    "scores = final['Score']"
   ]
  },
  {
   "cell_type": "markdown",
   "metadata": {},
   "source": [
    "# Split the Data Set into train and test"
   ]
  },
  {
   "cell_type": "code",
   "execution_count": 14,
   "metadata": {},
   "outputs": [
    {
     "name": "stderr",
     "output_type": "stream",
     "text": [
      "/anaconda3/lib/python3.6/site-packages/sklearn/cross_validation.py:41: DeprecationWarning: This module was deprecated in version 0.18 in favor of the model_selection module into which all the refactored classes and functions are moved. Also note that the interface of the new CV iterators are different from that of this module. This module will be removed in 0.20.\n",
      "  \"This module will be removed in 0.20.\", DeprecationWarning)\n"
     ]
    }
   ],
   "source": [
    "# ============================== loading libraries ===========================================\n",
    "import numpy as np\n",
    "import pandas as pd\n",
    "import matplotlib.pyplot as plt\n",
    "from sklearn.cross_validation import train_test_split\n",
    "from sklearn.metrics import accuracy_score\n",
    "from sklearn.cross_validation import cross_val_score\n",
    "from collections import Counter\n",
    "from sklearn.metrics import accuracy_score\n",
    "from sklearn import cross_validation\n",
    "from sklearn.naive_bayes import BernoulliNB\n",
    "import warnings\n",
    "# =============================================================================================\n",
    "\n",
    "warnings.filterwarnings(\"ignore\") \n",
    "# split the data set into train and test\n",
    "X_tr, X_test, y_tr, y_test = cross_validation.train_test_split(final['Text'].values, scores, test_size=0.3, random_state=0)\n",
    "\n",
    "y_test = y_test.values\n",
    "y_tr = y_tr.values\n",
    "\n",
    "#sampling data\n",
    "train_indices = np.random.choice(len(X_tr),70000,replace=False)\n",
    "test_indices = np.random.choice(len(X_test),30000,replace=False)\n",
    "X_tr = X_tr[train_indices]\n",
    "y_tr = y_tr[train_indices]\n",
    "X_test = X_test[test_indices]\n",
    "y_test = y_test[test_indices]\n",
    "\n",
    "#Converting text to tfidf vector(BOW)\n",
    "tf_idf_vect = TfidfVectorizer(ngram_range=(1,2))\n",
    "final_tf_idf = tf_idf_vect.fit(X_tr)\n",
    "X_tr_vector = final_tf_idf.transform(X_tr)\n",
    "X_test_vector = final_tf_idf.transform(X_test)"
   ]
  },
  {
   "cell_type": "markdown",
   "metadata": {},
   "source": [
    "# Column Standardization"
   ]
  },
  {
   "cell_type": "code",
   "execution_count": 17,
   "metadata": {},
   "outputs": [],
   "source": [
    "from sklearn.preprocessing import StandardScaler\n",
    "scaler = StandardScaler(copy=True, with_mean=False, with_std=True)\n",
    "scaler.fit(X_tr_vector)\n",
    "X_tr_vector = scaler.transform(X_tr_vector)\n",
    "X_test_vector =scaler.transform(X_test_vector)"
   ]
  },
  {
   "cell_type": "markdown",
   "metadata": {},
   "source": [
    "# Find Optimal Lamda using GridSearchCV"
   ]
  },
  {
   "cell_type": "code",
   "execution_count": 18,
   "metadata": {},
   "outputs": [
    {
     "name": "stdout",
     "output_type": "stream",
     "text": [
      "LogisticRegression(C=10000, class_weight=None, dual=False, fit_intercept=True,\n",
      "          intercept_scaling=1, max_iter=100, multi_class='ovr', n_jobs=1,\n",
      "          penalty='l2', random_state=None, solver='liblinear', tol=0.0001,\n",
      "          verbose=0, warm_start=False)\n",
      "0.8907333333333334\n"
     ]
    }
   ],
   "source": [
    "from sklearn.grid_search import GridSearchCV\n",
    "from sklearn.datasets import *\n",
    "from sklearn.linear_model import LogisticRegression\n",
    "import warnings\n",
    "\n",
    "warnings.filterwarnings(\"ignore\")\n",
    "tuned_parameters = [{'C': [10**-4, 10**-2, 10**0, 10**2, 10**4]}]\n",
    "#Using GridSearchCV\n",
    "model = GridSearchCV(LogisticRegression(), tuned_parameters, scoring = 'accuracy', cv=5)\n",
    "model.fit(X_tr_vector, y_tr)\n",
    "\n",
    "print(model.best_estimator_)\n",
    "print(model.score(X_test_vector, y_test))"
   ]
  },
  {
   "cell_type": "markdown",
   "metadata": {},
   "source": [
    "# l2 Regularizer"
   ]
  },
  {
   "cell_type": "code",
   "execution_count": 20,
   "metadata": {},
   "outputs": [
    {
     "name": "stdout",
     "output_type": "stream",
     "text": [
      "             precision    recall  f1-score   support\n",
      "\n",
      "   negative       0.95      0.33      0.49      4755\n",
      "   positive       0.89      1.00      0.94     25245\n",
      "\n",
      "avg / total       0.90      0.89      0.87     30000\n",
      "\n",
      "Coefficient of each feature: [[-0.00520707  0.0014236   0.00022962 ...  0.00074391  0.00235441\n",
      "   0.00235441]]\n",
      "Training accuracy: 1.0\n",
      "Test accuracy: 0.8907333333333334\n"
     ]
    },
    {
     "data": {
      "image/png": "[encoded data removed]",
      "text/plain": [
       "<matplotlib.figure.Figure at 0x1a4b49b0b8>"
      ]
     },
     "metadata": {},
     "output_type": "display_data"
    }
   ],
   "source": [
    "from sklearn.metrics import confusion_matrix\n",
    "from sklearn.metrics import classification_report\n",
    "import seaborn as sns\n",
    "classifier = LogisticRegression(C=10000,penalty='l2')\n",
    "classifier.fit(X_tr_vector, y_tr)\n",
    "y_pred = classifier.predict(X_test_vector)\n",
    "confusion_matrix = confusion_matrix(y_test, y_pred)\n",
    "sns.heatmap(confusion_matrix)\n",
    "pre_weights =classifier.coef_\n",
    "print(classification_report(y_test, y_pred))\n",
    "print('Coefficient of each feature:', classifier.coef_)\n",
    "pre_weights =classifier.coef_\n",
    "print('Training accuracy:', classifier.score(X_tr_vector, y_tr))\n",
    "print('Test accuracy:', classifier.score(X_test_vector, y_test))"
   ]
  },
  {
   "cell_type": "markdown",
   "metadata": {},
   "source": [
    "# l1 Regularizer"
   ]
  },
  {
   "cell_type": "code",
   "execution_count": 21,
   "metadata": {},
   "outputs": [
    {
     "name": "stdout",
     "output_type": "stream",
     "text": [
      "             precision    recall  f1-score   support\n",
      "\n",
      "   negative       0.79      0.42      0.55      4755\n",
      "   positive       0.90      0.98      0.94     25245\n",
      "\n",
      "avg / total       0.88      0.89      0.88     30000\n",
      "\n",
      "Coefficient of each feature: [[ 0.01296342  0.00053513 -0.00148345 ...  0.00348667  0.00093151\n",
      "   0.00720002]]\n",
      "Training accuracy: 1.0\n",
      "Test accuracy: 0.8904\n"
     ]
    },
    {
     "data": {
      "image/png": "[encoded data removed]",
      "text/plain": [
       "<matplotlib.figure.Figure at 0x1a6bc18b00>"
      ]
     },
     "metadata": {},
     "output_type": "display_data"
    }
   ],
   "source": [
    "from sklearn.metrics import confusion_matrix\n",
    "from sklearn.metrics import classification_report\n",
    "import seaborn as sns\n",
    "classifier = LogisticRegression(C=10000,penalty='l1')\n",
    "classifier.fit(X_tr_vector, y_tr)\n",
    "y_pred = classifier.predict(X_test_vector)\n",
    "confusion_matrix = confusion_matrix(y_test, y_pred)\n",
    "sns.heatmap(confusion_matrix)\n",
    "pre_weights =classifier.coef_\n",
    "print(classification_report(y_test, y_pred))\n",
    "print('Coefficient of each feature:', classifier.coef_)\n",
    "pre_weights =classifier.coef_\n",
    "print('Training accuracy:', classifier.score(X_tr_vector, y_tr))\n",
    "print('Test accuracy:', classifier.score(X_test_vector, y_test))"
   ]
  },
  {
   "cell_type": "markdown",
   "metadata": {},
   "source": [
    "# Find Optimal Lamda using RandomSearchCV"
   ]
  },
  {
   "cell_type": "code",
   "execution_count": 22,
   "metadata": {},
   "outputs": [
    {
     "name": "stdout",
     "output_type": "stream",
     "text": [
      "LogisticRegression(C=2078.4790554231986, class_weight=None, dual=False,\n",
      "          fit_intercept=True, intercept_scaling=1, max_iter=100,\n",
      "          multi_class='ovr', n_jobs=1, penalty='l2', random_state=None,\n",
      "          solver='liblinear', tol=0.0001, verbose=0, warm_start=False)\n",
      "0.8952333333333333\n"
     ]
    }
   ],
   "source": [
    "from sklearn.grid_search import GridSearchCV\n",
    "from sklearn.datasets import *\n",
    "from sklearn.linear_model import LogisticRegression\n",
    "from scipy import stats\n",
    "from sklearn.model_selection import GridSearchCV, RandomizedSearchCV \n",
    "\n",
    "\n",
    "tuned_parameters = {\"C\": stats.uniform(10**-4, 10**4)}\n",
    "#Using GridSearchCV\n",
    "model = RandomizedSearchCV(LogisticRegression(), tuned_parameters, scoring = 'accuracy', cv=5)\n",
    "model.fit(X_tr_vector, y_tr)\n",
    "\n",
    "print(model.best_estimator_)\n",
    "print(model.score(X_test_vector, y_test))"
   ]
  },
  {
   "cell_type": "markdown",
   "metadata": {},
   "source": [
    "# L2 Regularizer"
   ]
  },
  {
   "cell_type": "code",
   "execution_count": 24,
   "metadata": {},
   "outputs": [
    {
     "name": "stdout",
     "output_type": "stream",
     "text": [
      "             precision    recall  f1-score   support\n",
      "\n",
      "   negative       0.94      0.36      0.52      4755\n",
      "   positive       0.89      1.00      0.94     25245\n",
      "\n",
      "avg / total       0.90      0.90      0.88     30000\n",
      "\n",
      "Coefficient of each feature: [[-4.79075747e-03  1.25396354e-03  7.01925393e-05 ...  3.81880716e-04\n",
      "   2.21987255e-03  2.21987255e-03]]\n",
      "Training accuracy: 1.0\n",
      "Test accuracy: 0.8952333333333333\n"
     ]
    },
    {
     "data": {
      "image/png": "[encoded data removed]",
      "text/plain": [
       "<matplotlib.figure.Figure at 0x1a29620e10>"
      ]
     },
     "metadata": {},
     "output_type": "display_data"
    }
   ],
   "source": [
    "from sklearn.metrics import confusion_matrix\n",
    "from sklearn.metrics import classification_report\n",
    "import seaborn as sns\n",
    "classifier = LogisticRegression(C=2078.4790554231986,penalty='l2')\n",
    "classifier.fit(X_tr_vector, y_tr)\n",
    "y_pred = classifier.predict(X_test_vector)\n",
    "confusion_matrix = confusion_matrix(y_test, y_pred)\n",
    "sns.heatmap(confusion_matrix)\n",
    "pre_weights =classifier.coef_\n",
    "print(classification_report(y_test, y_pred))\n",
    "print('Coefficient of each feature:', classifier.coef_)\n",
    "pre_weights =classifier.coef_\n",
    "print('Training accuracy:', classifier.score(X_tr_vector, y_tr))\n",
    "print('Test accuracy:', classifier.score(X_test_vector, y_test))"
   ]
  },
  {
   "cell_type": "markdown",
   "metadata": {},
   "source": [
    "# L1 Regularizer"
   ]
  },
  {
   "cell_type": "code",
   "execution_count": 26,
   "metadata": {},
   "outputs": [
    {
     "name": "stdout",
     "output_type": "stream",
     "text": [
      "             precision    recall  f1-score   support\n",
      "\n",
      "   negative       0.82      0.43      0.56      4755\n",
      "   positive       0.90      0.98      0.94     25245\n",
      "\n",
      "avg / total       0.89      0.89      0.88     30000\n",
      "\n",
      "Coefficient of each feature: [[ 9.49212841e-04  2.76083385e-04  0.00000000e+00 ... -8.41000881e-05\n",
      "   0.00000000e+00  4.22122480e-03]]\n",
      "Training accuracy: 1.0\n",
      "Test accuracy: 0.8946333333333333\n"
     ]
    },
    {
     "data": {
      "image/png": "[encoded data removed]",
      "text/plain": [
       "<matplotlib.figure.Figure at 0x1a38f88550>"
      ]
     },
     "metadata": {},
     "output_type": "display_data"
    }
   ],
   "source": [
    "from sklearn.metrics import confusion_matrix\n",
    "from sklearn.metrics import classification_report\n",
    "import seaborn as sns\n",
    "import warnings\n",
    "\n",
    "warnings.filterwarnings(\"ignore\")\n",
    "classifier = LogisticRegression(C=2078.4790554231986,penalty='l1')\n",
    "classifier.fit(X_tr_vector, y_tr)\n",
    "y_pred = classifier.predict(X_test_vector)\n",
    "confusion_matrix = confusion_matrix(y_test, y_pred)\n",
    "sns.heatmap(confusion_matrix)\n",
    "print(classification_report(y_test, y_pred))\n",
    "print('Coefficient of each feature:', classifier.coef_)\n",
    "print('Training accuracy:', classifier.score(X_tr_vector, y_tr))\n",
    "print('Test accuracy:', classifier.score(X_test_vector, y_test))"
   ]
  },
  {
   "cell_type": "code",
   "execution_count": 27,
   "metadata": {},
   "outputs": [
    {
     "name": "stdout",
     "output_type": "stream",
     "text": [
      "             precision    recall  f1-score   support\n",
      "\n",
      "   negative       0.00      0.00      0.00      4755\n",
      "   positive       0.84      1.00      0.91     25245\n",
      "\n",
      "avg / total       0.71      0.84      0.77     30000\n",
      "\n",
      "Coefficient of each feature: [[0. 0. 0. ... 0. 0. 0.]]\n",
      "Training accuracy: 0.8423142857142857\n",
      "Test accuracy: 0.8415\n",
      "No of Non-zero elements: 2\n"
     ]
    },
    {
     "data": {
      "image/png": "[encoded data removed]",
      "text/plain": [
       "<matplotlib.figure.Figure at 0x1a4b49bf60>"
      ]
     },
     "metadata": {},
     "output_type": "display_data"
    }
   ],
   "source": [
    "from sklearn.metrics import confusion_matrix\n",
    "from sklearn.metrics import classification_report\n",
    "import seaborn as sns\n",
    "import warnings\n",
    "\n",
    "warnings.filterwarnings(\"ignore\")\n",
    "C_values = []\n",
    "non_zero_values = []\n",
    "test_accuracy =[]\n",
    "classifier = LogisticRegression(C=0.0001,penalty='l1')\n",
    "classifier.fit(X_tr_vector, y_tr)\n",
    "y_pred = classifier.predict(X_test_vector)\n",
    "confusion_matrix = confusion_matrix(y_test, y_pred)\n",
    "sns.heatmap(confusion_matrix)\n",
    "print(classification_report(y_test, y_pred))\n",
    "print('Coefficient of each feature:', classifier.coef_)\n",
    "print('Training accuracy:', classifier.score(X_tr_vector, y_tr))\n",
    "print('Test accuracy:', classifier.score(X_test_vector, y_test))\n",
    "test_accuracy.append(classifier.score(X_test_vector, y_test))\n",
    "w = classifier.coef_\n",
    "non_zero_elements = np.count_nonzero(w)\n",
    "print('No of Non-zero elements:',non_zero_elements)\n",
    "non_zero_values.append(non_zero_elements)\n",
    "C_values.append(0.0001)"
   ]
  },
  {
   "cell_type": "code",
   "execution_count": 28,
   "metadata": {},
   "outputs": [
    {
     "name": "stdout",
     "output_type": "stream",
     "text": [
      "             precision    recall  f1-score   support\n",
      "\n",
      "   negative       0.91      0.26      0.41      4755\n",
      "   positive       0.88      1.00      0.93     25245\n",
      "\n",
      "avg / total       0.88      0.88      0.85     30000\n",
      "\n",
      "Coefficient of each feature: [[0. 0. 0. ... 0. 0. 0.]]\n",
      "Training accuracy: 0.8797428571428572\n",
      "Test accuracy: 0.8787666666666667\n",
      "No of Non-zero elements: 136\n"
     ]
    },
    {
     "data": {
      "image/png": "[encoded data removed]",
      "text/plain": [
       "<matplotlib.figure.Figure at 0x1a5c051160>"
      ]
     },
     "metadata": {},
     "output_type": "display_data"
    }
   ],
   "source": [
    "from sklearn.metrics import confusion_matrix\n",
    "from sklearn.metrics import classification_report\n",
    "import seaborn as sns\n",
    "import warnings\n",
    "\n",
    "warnings.filterwarnings(\"ignore\")\n",
    "classifier = LogisticRegression(C=0.001,penalty='l1')\n",
    "classifier.fit(X_tr_vector, y_tr)\n",
    "y_pred = classifier.predict(X_test_vector)\n",
    "confusion_matrix = confusion_matrix(y_test, y_pred)\n",
    "sns.heatmap(confusion_matrix)\n",
    "print(classification_report(y_test, y_pred))\n",
    "print('Coefficient of each feature:', classifier.coef_)\n",
    "print('Training accuracy:', classifier.score(X_tr_vector, y_tr))\n",
    "print('Test accuracy:', classifier.score(X_test_vector, y_test))\n",
    "test_accuracy.append(classifier.score(X_test_vector, y_test))\n",
    "w = classifier.coef_\n",
    "non_zero_elements = np.count_nonzero(w)\n",
    "print('No of Non-zero elements:',non_zero_elements)\n",
    "non_zero_values.append(non_zero_elements)\n",
    "C_values.append(0.001)"
   ]
  },
  {
   "cell_type": "code",
   "execution_count": 29,
   "metadata": {},
   "outputs": [
    {
     "name": "stdout",
     "output_type": "stream",
     "text": [
      "             precision    recall  f1-score   support\n",
      "\n",
      "   negative       0.87      0.65      0.74      4755\n",
      "   positive       0.94      0.98      0.96     25245\n",
      "\n",
      "avg / total       0.93      0.93      0.92     30000\n",
      "\n",
      "Coefficient of each feature: [[-0.01325943  0.          0.         ...  0.          0.\n",
      "   0.        ]]\n",
      "Training accuracy: 0.9997571428571429\n",
      "Test accuracy: 0.9279333333333334\n",
      "No of Non-zero elements: 22431\n"
     ]
    },
    {
     "data": {
      "image/png": "[encoded data removed]",
      "text/plain": [
       "<matplotlib.figure.Figure at 0x1a5d173128>"
      ]
     },
     "metadata": {},
     "output_type": "display_data"
    }
   ],
   "source": [
    "from sklearn.metrics import confusion_matrix\n",
    "from sklearn.metrics import classification_report\n",
    "import seaborn as sns\n",
    "import warnings\n",
    "\n",
    "warnings.filterwarnings(\"ignore\")\n",
    "classifier = LogisticRegression(C=0.01,penalty='l1')\n",
    "classifier.fit(X_tr_vector, y_tr)\n",
    "y_pred = classifier.predict(X_test_vector)\n",
    "confusion_matrix = confusion_matrix(y_test, y_pred)\n",
    "sns.heatmap(confusion_matrix)\n",
    "print(classification_report(y_test, y_pred))\n",
    "print('Coefficient of each feature:', classifier.coef_)\n",
    "print('Training accuracy:', classifier.score(X_tr_vector, y_tr))\n",
    "print('Test accuracy:', classifier.score(X_test_vector, y_test))\n",
    "test_accuracy.append(classifier.score(X_test_vector, y_test))\n",
    "w = classifier.coef_\n",
    "non_zero_elements = np.count_nonzero(w)\n",
    "print('No of Non-zero elements:',non_zero_elements)\n",
    "non_zero_values.append(non_zero_elements)\n",
    "C_values.append(0.01)"
   ]
  },
  {
   "cell_type": "code",
   "execution_count": 30,
   "metadata": {},
   "outputs": [
    {
     "name": "stdout",
     "output_type": "stream",
     "text": [
      "             precision    recall  f1-score   support\n",
      "\n",
      "   negative       0.85      0.65      0.74      4755\n",
      "   positive       0.94      0.98      0.96     25245\n",
      "\n",
      "avg / total       0.92      0.93      0.92     30000\n",
      "\n",
      "Coefficient of each feature: [[-0.00740295  0.          0.         ...  0.          0.\n",
      "   0.        ]]\n",
      "Training accuracy: 1.0\n",
      "Test accuracy: 0.9263666666666667\n",
      "No of Non-zero elements: 38589\n"
     ]
    },
    {
     "data": {
      "image/png": "[encoded data removed]",
      "text/plain": [
       "<matplotlib.figure.Figure at 0x1a5ba477f0>"
      ]
     },
     "metadata": {},
     "output_type": "display_data"
    }
   ],
   "source": [
    "from sklearn.metrics import confusion_matrix\n",
    "from sklearn.metrics import classification_report\n",
    "import seaborn as sns\n",
    "classifier = LogisticRegression(C=0.1,penalty='l1')\n",
    "classifier.fit(X_tr_vector, y_tr)\n",
    "y_pred = classifier.predict(X_test_vector)\n",
    "confusion_matrix = confusion_matrix(y_test, y_pred)\n",
    "sns.heatmap(confusion_matrix)\n",
    "print(classification_report(y_test, y_pred))\n",
    "print('Coefficient of each feature:', classifier.coef_)\n",
    "print('Training accuracy:', classifier.score(X_tr_vector, y_tr))\n",
    "print('Test accuracy:', classifier.score(X_test_vector, y_test))\n",
    "test_accuracy.append(classifier.score(X_test_vector, y_test))\n",
    "w = classifier.coef_\n",
    "non_zero_elements = np.count_nonzero(w)\n",
    "print('No of Non-zero elements:',non_zero_elements)\n",
    "non_zero_values.append(non_zero_elements)\n",
    "C_values.append(0.1)"
   ]
  },
  {
   "cell_type": "code",
   "execution_count": 31,
   "metadata": {},
   "outputs": [
    {
     "name": "stdout",
     "output_type": "stream",
     "text": [
      "             precision    recall  f1-score   support\n",
      "\n",
      "   negative       0.87      0.64      0.74      4755\n",
      "   positive       0.94      0.98      0.96     25245\n",
      "\n",
      "avg / total       0.92      0.93      0.92     30000\n",
      "\n",
      "Coefficient of each feature: [[0.00000000e+00 0.00000000e+00 0.00000000e+00 ... 0.00000000e+00\n",
      "  0.00000000e+00 1.67306193e-05]]\n",
      "Training accuracy: 1.0\n",
      "Test accuracy: 0.9274666666666667\n",
      "No of Non-zero elements: 50944\n"
     ]
    },
    {
     "data": {
      "image/png": "[encoded data removed]",
      "text/plain": [
       "<matplotlib.figure.Figure at 0x1a2cfbbb00>"
      ]
     },
     "metadata": {},
     "output_type": "display_data"
    }
   ],
   "source": [
    "from sklearn.metrics import confusion_matrix\n",
    "from sklearn.metrics import classification_report\n",
    "import seaborn as sns\n",
    "classifier = LogisticRegression(C=1,penalty='l1')\n",
    "classifier.fit(X_tr_vector, y_tr)\n",
    "y_pred = classifier.predict(X_test_vector)\n",
    "confusion_matrix = confusion_matrix(y_test, y_pred)\n",
    "sns.heatmap(confusion_matrix)\n",
    "print(classification_report(y_test, y_pred))\n",
    "print('Coefficient of each feature:', classifier.coef_)\n",
    "print('Training accuracy:', classifier.score(X_tr_vector, y_tr))\n",
    "print('Test accuracy:', classifier.score(X_test_vector, y_test))\n",
    "test_accuracy.append(classifier.score(X_test_vector, y_test))\n",
    "w = classifier.coef_\n",
    "non_zero_elements = np.count_nonzero(w)\n",
    "print('No of Non-zero elements:',non_zero_elements)\n",
    "non_zero_values.append(non_zero_elements)\n",
    "C_values.append(1)"
   ]
  },
  {
   "cell_type": "code",
   "execution_count": 32,
   "metadata": {},
   "outputs": [
    {
     "name": "stdout",
     "output_type": "stream",
     "text": [
      "             precision    recall  f1-score   support\n",
      "\n",
      "   negative       0.90      0.57      0.69      4755\n",
      "   positive       0.92      0.99      0.95     25245\n",
      "\n",
      "avg / total       0.92      0.92      0.91     30000\n",
      "\n",
      "Coefficient of each feature: [[0.         0.001617   0.         ... 0.         0.         0.00025915]]\n",
      "Training accuracy: 1.0\n",
      "Test accuracy: 0.9211\n",
      "No of Non-zero elements: 100557\n"
     ]
    },
    {
     "data": {
      "image/png": "[encoded data removed]",
      "text/plain": [
       "<matplotlib.figure.Figure at 0x1a2cd8d828>"
      ]
     },
     "metadata": {},
     "output_type": "display_data"
    }
   ],
   "source": [
    "from sklearn.metrics import confusion_matrix\n",
    "from sklearn.metrics import classification_report\n",
    "import seaborn as sns\n",
    "classifier = LogisticRegression(C=10,penalty='l1')\n",
    "classifier.fit(X_tr_vector, y_tr)\n",
    "y_pred = classifier.predict(X_test_vector)\n",
    "confusion_matrix = confusion_matrix(y_test, y_pred)\n",
    "sns.heatmap(confusion_matrix)\n",
    "print(classification_report(y_test, y_pred))\n",
    "print('Coefficient of each feature:', classifier.coef_)\n",
    "print('Training accuracy:', classifier.score(X_tr_vector, y_tr))\n",
    "print('Test accuracy:', classifier.score(X_test_vector, y_test))\n",
    "test_accuracy.append(classifier.score(X_test_vector, y_test))\n",
    "w = classifier.coef_\n",
    "non_zero_elements = np.count_nonzero(w)\n",
    "print('No of Non-zero elements:',non_zero_elements)\n",
    "non_zero_values.append(non_zero_elements)\n",
    "C_values.append(10)"
   ]
  },
  {
   "cell_type": "code",
   "execution_count": 33,
   "metadata": {},
   "outputs": [
    {
     "name": "stdout",
     "output_type": "stream",
     "text": [
      "             precision    recall  f1-score   support\n",
      "\n",
      "   negative       0.89      0.48      0.63      4755\n",
      "   positive       0.91      0.99      0.95     25245\n",
      "\n",
      "avg / total       0.91      0.91      0.90     30000\n",
      "\n",
      "Coefficient of each feature: [[0.         0.         0.         ... 0.         0.         0.00085671]]\n",
      "Training accuracy: 1.0\n",
      "Test accuracy: 0.9087333333333333\n",
      "No of Non-zero elements: 252270\n"
     ]
    },
    {
     "data": {
      "image/png": "[encoded data removed]",
      "text/plain": [
       "<matplotlib.figure.Figure at 0x1a5c75d438>"
      ]
     },
     "metadata": {},
     "output_type": "display_data"
    }
   ],
   "source": [
    "from sklearn.metrics import confusion_matrix\n",
    "from sklearn.metrics import classification_report\n",
    "import seaborn as sns\n",
    "classifier = LogisticRegression(C=100,penalty='l1')\n",
    "classifier.fit(X_tr_vector, y_tr)\n",
    "y_pred = classifier.predict(X_test_vector)\n",
    "confusion_matrix = confusion_matrix(y_test, y_pred)\n",
    "sns.heatmap(confusion_matrix)\n",
    "print(classification_report(y_test, y_pred))\n",
    "print('Coefficient of each feature:', classifier.coef_)\n",
    "print('Training accuracy:', classifier.score(X_tr_vector, y_tr))\n",
    "print('Test accuracy:', classifier.score(X_test_vector, y_test))\n",
    "test_accuracy.append(classifier.score(X_test_vector, y_test))\n",
    "w = classifier.coef_\n",
    "non_zero_elements = np.count_nonzero(w)\n",
    "print('No of Non-zero elements:',non_zero_elements)\n",
    "non_zero_values.append(non_zero_elements)\n",
    "C_values.append(100)"
   ]
  },
  {
   "cell_type": "markdown",
   "metadata": {},
   "source": [
    "# C vs Sparsity"
   ]
  },
  {
   "cell_type": "code",
   "execution_count": 34,
   "metadata": {},
   "outputs": [
    {
     "data": {
      "image/png": "[encoded data removed]",
      "text/plain": [
       "<matplotlib.figure.Figure at 0x1a38d7d390>"
      ]
     },
     "metadata": {},
     "output_type": "display_data"
    }
   ],
   "source": [
    "plt.plot(C_values, non_zero_values)\n",
    "plt.xlabel('C')\n",
    "plt.ylabel('Sparsity')\n",
    "plt.show()"
   ]
  },
  {
   "cell_type": "markdown",
   "metadata": {},
   "source": [
    "# C vs Test Accuracy"
   ]
  },
  {
   "cell_type": "code",
   "execution_count": 35,
   "metadata": {},
   "outputs": [
    {
     "data": {
      "image/png": "[encoded data removed]",
      "text/plain": [
       "<matplotlib.figure.Figure at 0x1a6c69e5c0>"
      ]
     },
     "metadata": {},
     "output_type": "display_data"
    }
   ],
   "source": [
    "plt.plot(C_values, test_accuracy)\n",
    "plt.xlabel('C')\n",
    "plt.ylabel('accuracy')\n",
    "plt.show()"
   ]
  },
  {
   "cell_type": "markdown",
   "metadata": {},
   "source": [
    "# Checking Multicollinearity"
   ]
  },
  {
   "cell_type": "code",
   "execution_count": 36,
   "metadata": {},
   "outputs": [
    {
     "name": "stdout",
     "output_type": "stream",
     "text": [
      "0.014245923605978374\n"
     ]
    }
   ],
   "source": [
    "#adding epsilon to train data for multicollinearity check\n",
    "import scipy.stats\n",
    "X_train = X_tr_vector.copy()\n",
    "X_train.todense()\n",
    "print(scipy.stats.norm.rvs(loc=0, scale=0.01))\n",
    "X_train.data += scipy.stats.norm.rvs(loc=0, scale=0.01)"
   ]
  },
  {
   "cell_type": "code",
   "execution_count": 37,
   "metadata": {},
   "outputs": [
    {
     "name": "stdout",
     "output_type": "stream",
     "text": [
      "             precision    recall  f1-score   support\n",
      "\n",
      "   negative       0.95      0.26      0.41      4755\n",
      "   positive       0.88      1.00      0.93     25245\n",
      "\n",
      "avg / total       0.89      0.88      0.85     30000\n",
      "\n",
      "Coefficient of each feature: [[-0.00129929  0.00036694  0.00014389 ...  0.00024704  0.00059258\n",
      "   0.00059258]]\n",
      "Training accuracy: 1.0\n",
      "Test accuracy: 0.8807333333333334\n"
     ]
    },
    {
     "data": {
      "image/png": "[encoded data removed]",
      "text/plain": [
       "<matplotlib.figure.Figure at 0x1a38d72278>"
      ]
     },
     "metadata": {},
     "output_type": "display_data"
    }
   ],
   "source": [
    "from sklearn.metrics import confusion_matrix\n",
    "from sklearn.metrics import classification_report\n",
    "import seaborn as sns\n",
    "classifier = LogisticRegression(C=0.0001,penalty='l2')\n",
    "classifier.fit(X_train, y_tr)\n",
    "y_pred = classifier.predict(X_test_vector)\n",
    "confusion_matrix = confusion_matrix(y_test, y_pred)\n",
    "sns.heatmap(confusion_matrix)\n",
    "print(classification_report(y_test, y_pred))\n",
    "post_weights = classifier.coef_\n",
    "print('Coefficient of each feature:', classifier.coef_)\n",
    "print('Training accuracy:', classifier.score(X_train, y_tr))\n",
    "print('Test accuracy:', classifier.score(X_test_vector, y_test))"
   ]
  },
  {
   "cell_type": "code",
   "execution_count": 38,
   "metadata": {},
   "outputs": [
    {
     "data": {
      "text/plain": [
       "array([[-4.79075747e-03,  1.25396354e-03,  7.01925393e-05, ...,\n",
       "         3.81880716e-04,  2.21987255e-03,  2.21987255e-03]])"
      ]
     },
     "execution_count": 38,
     "metadata": {},
     "output_type": "execute_result"
    }
   ],
   "source": [
    "pre_weights"
   ]
  },
  {
   "cell_type": "code",
   "execution_count": 39,
   "metadata": {},
   "outputs": [
    {
     "data": {
      "text/plain": [
       "array([[-0.00129929,  0.00036694,  0.00014389, ...,  0.00024704,\n",
       "         0.00059258,  0.00059258]])"
      ]
     },
     "execution_count": 39,
     "metadata": {},
     "output_type": "execute_result"
    }
   ],
   "source": [
    "post_weights"
   ]
  },
  {
   "cell_type": "code",
   "execution_count": 40,
   "metadata": {},
   "outputs": [],
   "source": [
    "difference =[]\n",
    "for i in post_weights:\n",
    "    difference.append(np.abs(pre_weights-post_weights))"
   ]
  },
  {
   "cell_type": "code",
   "execution_count": 41,
   "metadata": {},
   "outputs": [
    {
     "data": {
      "text/plain": [
       "[<matplotlib.lines.Line2D at 0x1a683a7c88>]"
      ]
     },
     "execution_count": 41,
     "metadata": {},
     "output_type": "execute_result"
    },
    {
     "data": {
      "image/png": "[encoded data removed]",
      "text/plain": [
       "<matplotlib.figure.Figure at 0x1a6b2accc0>"
      ]
     },
     "metadata": {},
     "output_type": "display_data"
    }
   ],
   "source": [
    "counts, bin_edges = np.histogram(difference, bins=500, density = True)\n",
    "pdf = counts/(sum(counts))\n",
    "cdf = np.cumsum(pdf)\n",
    "plt.plot(bin_edges[1:], cdf)"
   ]
  },
  {
   "cell_type": "markdown",
   "metadata": {},
   "source": [
    "# Conclusion"
   ]
  },
  {
   "cell_type": "code",
   "execution_count": 42,
   "metadata": {},
   "outputs": [
    {
     "name": "stdout",
     "output_type": "stream",
     "text": [
      "+----------------+--------------------+-------------+-------------+---------------+\n",
      "|   CV Method    |     Optimal C      | regularizer | Train Error |   Test Error  |\n",
      "+----------------+--------------------+-------------+-------------+---------------+\n",
      "|  GridSearchCV  |       10000        |      l2     |      0      | 0.10926666666 |\n",
      "|  GridSearchCV  |       10000        |      l1     |      0      |     0.1096    |\n",
      "| RandomSearchCV | 2078.4790554231986 |      l2     |      0      | 0.10476666666 |\n",
      "| RandomSearchCV | 2078.4790554231986 |      l1     |      0      | 0.10536666666 |\n",
      "+----------------+--------------------+-------------+-------------+---------------+\n",
      "**C Vs Sparsity with l1 regularizer**\n",
      "+--------+----------+\n",
      "|   C    | Sparsity |\n",
      "+--------+----------+\n",
      "| 0.0001 |    2     |\n",
      "| 0.001  |   136    |\n",
      "|  0.01  |  22431   |\n",
      "|  0.1   |  38589   |\n",
      "|   1    |  50944   |\n",
      "|   10   |  100557  |\n",
      "|  100   |  252270  |\n",
      "+--------+----------+\n",
      "->There is no multicollinearity\n"
     ]
    }
   ],
   "source": [
    "from prettytable import PrettyTable\n",
    "t = PrettyTable()\n",
    "t.field_names = ['CV Method', 'Optimal C','regularizer','Train Error','Test Error']\n",
    "t.add_row([\"GridSearchCV\",\"10000\",\"l2\",\"0\",\"0.10926666666\"])\n",
    "t.add_row([\"GridSearchCV\",\"10000\",\"l1\",\"0\",\"0.1096\"])\n",
    "t.add_row([\"RandomSearchCV\",\"2078.4790554231986\",\"l2\",\"0\",\"0.10476666666\"])\n",
    "t.add_row([\"RandomSearchCV\",\"2078.4790554231986\",\"l1\",\"0\",\"0.10536666666\"])\n",
    "print(t)\n",
    "print(\"**C Vs Sparsity with l1 regularizer**\")\n",
    "t1 = PrettyTable()\n",
    "t1.field_names = ['C', 'Sparsity']\n",
    "t1.add_row([\"0.0001\",\"2\"])\n",
    "t1.add_row([\"0.001\",\"136\"])\n",
    "t1.add_row([\"0.01\",\"22431\"])\n",
    "t1.add_row([\"0.1\",\"38589\"])\n",
    "t1.add_row([\"1\",\"50944\"])\n",
    "t1.add_row([\"10\",\"100557\"])\n",
    "t1.add_row([\"100\",\"252270\"])\n",
    "print(t1)\n",
    "print(\"->->Features are not multicollnear hence |wj| can be taken for Feature Importance.\")"
   ]
  }
 ],
 "metadata": {
  "kernelspec": {
   "display_name": "Python 3",
   "language": "python",
   "name": "python3"
  },
  "language_info": {
   "codemirror_mode": {
    "name": "ipython",
    "version": 3
   },
   "file_extension": ".py",
   "mimetype": "text/x-python",
   "name": "python",
   "nbconvert_exporter": "python",
   "pygments_lexer": "ipython3",
   "version": "3.6.4"
  }
 },
 "nbformat": 4,
 "nbformat_minor": 2
}
