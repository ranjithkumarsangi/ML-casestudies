{
 "cells": [
  {
   "cell_type": "markdown",
   "metadata": {},
   "source": [
    "# Data Loading"
   ]
  },
  {
   "cell_type": "code",
   "execution_count": 1,
   "metadata": {},
   "outputs": [],
   "source": [
    "%matplotlib inline\n",
    "\n",
    "import sqlite3\n",
    "import pandas as pd\n",
    "import numpy as np\n",
    "import nltk\n",
    "import string\n",
    "import matplotlib.pyplot as plt\n",
    "import seaborn as sns\n",
    "from sklearn.feature_extraction.text import TfidfTransformer\n",
    "from sklearn.feature_extraction.text import TfidfVectorizer\n",
    "\n",
    "from sklearn.feature_extraction.text import CountVectorizer\n",
    "from sklearn.metrics import confusion_matrix\n",
    "from sklearn import metrics\n",
    "from sklearn.metrics import roc_curve, auc\n",
    "from nltk.stem.porter import PorterStemmer\n",
    "\n",
    "\n",
    "\n",
    "# using the SQLite Table to read data.\n",
    "con = sqlite3.connect('./amazon-fine-food-reviews/database.sqlite') \n",
    "\n",
    "\n",
    "\n",
    "#filtering only positive and negative reviews i.e. \n",
    "# not taking into consideration those reviews with Score=3\n",
    "filtered_data = pd.read_sql_query(\"\"\"\n",
    "SELECT *\n",
    "FROM Reviews\n",
    "WHERE Score != 3\n",
    "\"\"\", con) \n",
    "\n",
    "\n",
    "\n",
    "\n",
    "# Give reviews with Score>3 a positive rating, and reviews with a score<3 a negative rating.\n",
    "def partition(x):\n",
    "    if x < 3:\n",
    "        return 'negative'\n",
    "    return 'positive'\n",
    "\n",
    "#changing reviews with score less than 3 to be positive and vice-versa\n",
    "actualScore = filtered_data['Score']\n",
    "positiveNegative = actualScore.map(partition) \n",
    "filtered_data['Score'] = positiveNegative"
   ]
  },
  {
   "cell_type": "markdown",
   "metadata": {},
   "source": [
    "# Data Cleaning"
   ]
  },
  {
   "cell_type": "code",
   "execution_count": 2,
   "metadata": {},
   "outputs": [],
   "source": [
    "display= pd.read_sql_query(\"\"\"\n",
    "SELECT *\n",
    "FROM Reviews\n",
    "WHERE Score != 3 AND UserId=\"AR5J8UI46CURR\"\n",
    "ORDER BY ProductID\n",
    "\"\"\", con)"
   ]
  },
  {
   "cell_type": "code",
   "execution_count": 3,
   "metadata": {},
   "outputs": [],
   "source": [
    "#Sorting data according to ProductId in ascending order\n",
    "sorted_data=filtered_data.sort_values('ProductId', axis=0, ascending=True, inplace=False, kind='quicksort', na_position='last')"
   ]
  },
  {
   "cell_type": "code",
   "execution_count": 4,
   "metadata": {},
   "outputs": [
    {
     "data": {
      "text/plain": [
       "(364173, 10)"
      ]
     },
     "execution_count": 4,
     "metadata": {},
     "output_type": "execute_result"
    }
   ],
   "source": [
    "#Deduplication of entries\n",
    "final=sorted_data.drop_duplicates(subset={\"UserId\",\"ProfileName\",\"Time\",\"Text\"}, keep='first', inplace=False)\n",
    "final.shape"
   ]
  },
  {
   "cell_type": "code",
   "execution_count": 5,
   "metadata": {},
   "outputs": [],
   "source": [
    "final=final[final.HelpfulnessNumerator<=final.HelpfulnessDenominator]"
   ]
  },
  {
   "cell_type": "code",
   "execution_count": 6,
   "metadata": {},
   "outputs": [
    {
     "name": "stdout",
     "output_type": "stream",
     "text": [
      "(364171, 10)\n"
     ]
    },
    {
     "data": {
      "text/plain": [
       "positive    307061\n",
       "negative     57110\n",
       "Name: Score, dtype: int64"
      ]
     },
     "execution_count": 6,
     "metadata": {},
     "output_type": "execute_result"
    }
   ],
   "source": [
    "#Before starting the next phase of preprocessing lets see the number of entries left\n",
    "print(final.shape)\n",
    "\n",
    "#How many positive and negative reviews are present in our dataset?\n",
    "final['Score'].value_counts()"
   ]
  },
  {
   "cell_type": "markdown",
   "metadata": {},
   "source": [
    "# Text Preprocessing"
   ]
  },
  {
   "cell_type": "code",
   "execution_count": 7,
   "metadata": {},
   "outputs": [
    {
     "name": "stdout",
     "output_type": "stream",
     "text": [
      "6\n",
      "I set aside at least an hour each day to read to my son (3 y/o). At this point, I consider myself a connoisseur of children's books and this is one of the best. Santa Clause put this under the tree. Since then, we've read it perpetually and he loves it.<br /><br />First, this book taught him the months of the year.<br /><br />Second, it's a pleasure to read. Well suited to 1.5 y/o old to 4+.<br /><br />Very few children's books are worth owning. Most should be borrowed from the library. This book, however, deserves a permanent spot on your shelf. Sendak's best.\n"
     ]
    }
   ],
   "source": [
    "# find sentences containing HTML tags\n",
    "import re\n",
    "i=0;\n",
    "for sent in final['Text'].values:\n",
    "    if (len(re.findall('<.*?>', sent))):\n",
    "        print(i)\n",
    "        print(sent)\n",
    "        break;\n",
    "    i += 1;    \n"
   ]
  },
  {
   "cell_type": "code",
   "execution_count": 8,
   "metadata": {},
   "outputs": [],
   "source": [
    "import re\n",
    "# Tutorial about Python regular expressions: https://pymotw.com/2/re/\n",
    "import string\n",
    "from nltk.corpus import stopwords\n",
    "from nltk.stem import PorterStemmer\n",
    "from nltk.stem.wordnet import WordNetLemmatizer\n",
    "\n",
    "stop = set(stopwords.words('english')) #set of stopwords\n",
    "sno = nltk.stem.SnowballStemmer('english') #initialising the snowball stemmer\n",
    "\n",
    "def cleanhtml(sentence): #function to clean the word of any html-tags\n",
    "    cleanr = re.compile('<.*?>')\n",
    "    cleantext = re.sub(cleanr, ' ', sentence)\n",
    "    return cleantext\n",
    "def cleanpunc(sentence): #function to clean the word of any punctuation or special characters\n",
    "    cleaned = re.sub(r'[?|!|\\'|\"|#]',r'',sentence)\n",
    "    cleaned = re.sub(r'[.|,|)|(|\\|/]',r' ',cleaned)\n",
    "    return  cleaned"
   ]
  },
  {
   "cell_type": "code",
   "execution_count": 9,
   "metadata": {},
   "outputs": [],
   "source": [
    "#Code for implementing step-by-step the checks mentioned in the pre-processing phase\n",
    "# this code takes a while to run as it needs to run on 500k sentences.\n",
    "i=0\n",
    "str1=' '\n",
    "final_string=[]\n",
    "all_positive_words=[] # store words from +ve reviews here\n",
    "all_negative_words=[] # store words from -ve reviews here.\n",
    "s=''\n",
    "for sent in final['Text'].values:\n",
    "    filtered_sentence=[]\n",
    "    #print(sent);\n",
    "    sent=cleanhtml(sent) # remove HTMl tags\n",
    "    for w in sent.split():\n",
    "        for cleaned_words in cleanpunc(w).split():\n",
    "            if((cleaned_words.isalpha()) & (len(cleaned_words)>2)):    \n",
    "                if(cleaned_words.lower() not in stop):\n",
    "                    s=(sno.stem(cleaned_words.lower())).encode('utf8')\n",
    "                    filtered_sentence.append(s)\n",
    "                    if (final['Score'].values)[i] == 'positive': \n",
    "                        all_positive_words.append(s) #list of all words used to describe positive reviews\n",
    "                    if(final['Score'].values)[i] == 'negative':\n",
    "                        all_negative_words.append(s) #list of all words used to describe negative reviews reviews\n",
    "                else:\n",
    "                    continue\n",
    "            else:\n",
    "                continue \n",
    "    #print(filtered_sentence)\n",
    "    str1 = b\" \".join(filtered_sentence) #final string of cleaned words\n",
    "    #print(\"***********************************************************************\")\n",
    "    \n",
    "    final_string.append(str1)\n",
    "    i+=1"
   ]
  },
  {
   "cell_type": "code",
   "execution_count": 10,
   "metadata": {},
   "outputs": [],
   "source": [
    "final['CleanedText']=final_string #adding a column of CleanedText which displays the data after pre-processing of the review "
   ]
  },
  {
   "cell_type": "markdown",
   "metadata": {},
   "source": [
    "# Time Based Sorting"
   ]
  },
  {
   "cell_type": "code",
   "execution_count": 11,
   "metadata": {},
   "outputs": [],
   "source": [
    "final=final.sort_values('Time', axis=0, ascending=True, inplace=False, kind='quicksort', na_position='last')"
   ]
  },
  {
   "cell_type": "code",
   "execution_count": 12,
   "metadata": {},
   "outputs": [],
   "source": [
    "scores = final['Score']"
   ]
  },
  {
   "cell_type": "markdown",
   "metadata": {},
   "source": [
    "# Split the Data Set into train and test"
   ]
  },
  {
   "cell_type": "code",
   "execution_count": 13,
   "metadata": {},
   "outputs": [
    {
     "name": "stderr",
     "output_type": "stream",
     "text": [
      "/anaconda3/lib/python3.6/site-packages/sklearn/cross_validation.py:41: DeprecationWarning: This module was deprecated in version 0.18 in favor of the model_selection module into which all the refactored classes and functions are moved. Also note that the interface of the new CV iterators are different from that of this module. This module will be removed in 0.20.\n",
      "  \"This module will be removed in 0.20.\", DeprecationWarning)\n"
     ]
    }
   ],
   "source": [
    "# ============================== loading libraries ===========================================\n",
    "import numpy as np\n",
    "import pandas as pd\n",
    "import matplotlib.pyplot as plt\n",
    "from sklearn.cross_validation import train_test_split\n",
    "from sklearn.metrics import accuracy_score\n",
    "from sklearn.cross_validation import cross_val_score\n",
    "from collections import Counter\n",
    "from sklearn.metrics import accuracy_score\n",
    "from sklearn import cross_validation\n",
    "from sklearn.naive_bayes import BernoulliNB\n",
    "import warnings\n",
    "# =============================================================================================z\n",
    "\n",
    "warnings.filterwarnings(\"ignore\") \n",
    "# split the data set into train and test\n",
    "X_tr, X_test, y_tr, y_test = cross_validation.train_test_split(final['Text'].values, scores, test_size=0.3, random_state=0)\n",
    "\n",
    "y_test = y_test.values\n",
    "y_tr = y_tr.values\n",
    "\n",
    "#sampling data\n",
    "train_indices = np.random.choice(len(X_tr),70000,replace=False)\n",
    "test_indices = np.random.choice(len(X_test),30000,replace=False)\n",
    "X_tr = X_tr[train_indices]\n",
    "y_tr = y_tr[train_indices]\n",
    "X_test = X_test[test_indices]\n",
    "y_test = y_test[test_indices]\n",
    "\n",
    "\n",
    "#Converting text to vector(BOW)\n",
    "count_vect = CountVectorizer() #in scikit-learn\n",
    "count_vect.fit(X_tr)\n",
    "X_tr_vector = count_vect.transform(X_tr)\n",
    "X_test_vector = count_vect.transform(X_test)"
   ]
  },
  {
   "cell_type": "markdown",
   "metadata": {},
   "source": [
    "# Column Standardization"
   ]
  },
  {
   "cell_type": "code",
   "execution_count": 14,
   "metadata": {},
   "outputs": [],
   "source": [
    "from sklearn.preprocessing import StandardScaler\n",
    "warnings.filterwarnings(\"ignore\")\n",
    "scaler = StandardScaler(copy=True, with_mean=False, with_std=True)\n",
    "scaler.fit(X_tr_vector)\n",
    "X_tr_vector = scaler.transform(X_tr_vector)\n",
    "X_test_vector =scaler.transform(X_test_vector)"
   ]
  },
  {
   "cell_type": "markdown",
   "metadata": {},
   "source": [
    "# Finding Optimal Lamda using GridSearchCV"
   ]
  },
  {
   "cell_type": "code",
   "execution_count": 15,
   "metadata": {
    "scrolled": true
   },
   "outputs": [
    {
     "name": "stdout",
     "output_type": "stream",
     "text": [
      "LogisticRegression(C=0.01, class_weight=None, dual=False, fit_intercept=True,\n",
      "          intercept_scaling=1, max_iter=100, multi_class='ovr', n_jobs=1,\n",
      "          penalty='l2', random_state=None, solver='liblinear', tol=0.0001,\n",
      "          verbose=0, warm_start=False)\n",
      "0.9020666666666667\n"
     ]
    }
   ],
   "source": [
    "from sklearn.grid_search import GridSearchCV\n",
    "from sklearn.datasets import *\n",
    "from sklearn.linear_model import LogisticRegression\n",
    "\n",
    "tuned_parameters = [{'C': [10**-4, 10**-2, 10**0, 10**2, 10**4]}]\n",
    "#Using GridSearchCV\n",
    "model = GridSearchCV(LogisticRegression(), tuned_parameters, scoring = 'accuracy', cv=5)\n",
    "model.fit(X_tr_vector, y_tr)\n",
    "\n",
    "print(model.best_estimator_)\n",
    "print(model.score(X_test_vector, y_test))"
   ]
  },
  {
   "cell_type": "markdown",
   "metadata": {},
   "source": [
    "# l2 regularizer with Optimal C"
   ]
  },
  {
   "cell_type": "code",
   "execution_count": 38,
   "metadata": {},
   "outputs": [
    {
     "name": "stdout",
     "output_type": "stream",
     "text": [
      "             precision    recall  f1-score   support\n",
      "\n",
      "   negative       0.70      0.65      0.67      4697\n",
      "   positive       0.94      0.95      0.94     25303\n",
      "\n",
      "avg / total       0.90      0.90      0.90     30000\n",
      "\n",
      "Coefficient of each feature: [[-9.41592022e-02 -1.03160492e-02  2.39873414e-05 ... -1.18626779e-05\n",
      "   2.17030817e-04  1.95840613e-03]]\n",
      "Training accuracy: 0.9945714285714286\n",
      "Test accuracy: 0.9020666666666667\n"
     ]
    },
    {
     "data": {
      "image/png": "[encoded data removed]",
      "text/plain": [
       "<matplotlib.figure.Figure at 0x1a3354e6d8>"
      ]
     },
     "metadata": {},
     "output_type": "display_data"
    }
   ],
   "source": [
    "from sklearn.metrics import confusion_matrix\n",
    "from sklearn.metrics import classification_report\n",
    "import seaborn as sns\n",
    "classifier = LogisticRegression(C=0.01,penalty='l2')\n",
    "classifier.fit(X_tr_vector, y_tr)\n",
    "y_pred = classifier.predict(X_test_vector)\n",
    "confusion_matrix = confusion_matrix(y_test, y_pred)\n",
    "sns.heatmap(confusion_matrix)\n",
    "print(classification_report(y_test, y_pred))\n",
    "pre_weights =classifier.coef_\n",
    "print('Coefficient of each feature:', classifier.coef_)\n",
    "print('Training accuracy:', classifier.score(X_tr_vector, y_tr))\n",
    "print('Test accuracy:', classifier.score(X_test_vector, y_test))"
   ]
  },
  {
   "cell_type": "markdown",
   "metadata": {},
   "source": [
    "# l1 regularizer with Optimal C"
   ]
  },
  {
   "cell_type": "code",
   "execution_count": 39,
   "metadata": {},
   "outputs": [
    {
     "name": "stdout",
     "output_type": "stream",
     "text": [
      "             precision    recall  f1-score   support\n",
      "\n",
      "   negative       0.82      0.59      0.69      4697\n",
      "   positive       0.93      0.98      0.95     25303\n",
      "\n",
      "avg / total       0.91      0.92      0.91     30000\n",
      "\n",
      "Coefficient of each feature: [[-0.06083012  0.          0.         ...  0.          0.\n",
      "   0.        ]]\n",
      "Training accuracy: 0.9518\n",
      "Test accuracy: 0.916\n"
     ]
    },
    {
     "data": {
      "image/png": "[encoded data removed]",
      "text/plain": [
       "<matplotlib.figure.Figure at 0x1a335c4e10>"
      ]
     },
     "metadata": {},
     "output_type": "display_data"
    }
   ],
   "source": [
    "from sklearn.metrics import confusion_matrix\n",
    "from sklearn.metrics import classification_report\n",
    "import seaborn as sns\n",
    "classifier = LogisticRegression(C=0.01,penalty='l1')\n",
    "classifier.fit(X_tr_vector, y_tr)\n",
    "y_pred = classifier.predict(X_test_vector)\n",
    "confusion_matrix = confusion_matrix(y_test, y_pred)\n",
    "sns.heatmap(confusion_matrix)\n",
    "print(classification_report(y_test, y_pred))\n",
    "pre_weights =classifier.coef_\n",
    "print('Coefficient of each feature:', classifier.coef_)\n",
    "print('Training accuracy:', classifier.score(X_tr_vector, y_tr))\n",
    "print('Test accuracy:', classifier.score(X_test_vector, y_test))"
   ]
  },
  {
   "cell_type": "markdown",
   "metadata": {},
   "source": [
    "# Finding Optimal Lamda using RandomSearchCV"
   ]
  },
  {
   "cell_type": "code",
   "execution_count": 18,
   "metadata": {},
   "outputs": [
    {
     "name": "stdout",
     "output_type": "stream",
     "text": [
      "LogisticRegression(C=1397.6732812341104, class_weight=None, dual=False,\n",
      "          fit_intercept=True, intercept_scaling=1, max_iter=100,\n",
      "          multi_class='ovr', n_jobs=1, penalty='l2', random_state=None,\n",
      "          solver='liblinear', tol=0.0001, verbose=0, warm_start=False)\n",
      "0.8834\n"
     ]
    }
   ],
   "source": [
    "from sklearn.grid_search import GridSearchCV\n",
    "from sklearn.datasets import *\n",
    "from sklearn.linear_model import LogisticRegression\n",
    "from scipy import stats\n",
    "from sklearn.model_selection import GridSearchCV, RandomizedSearchCV \n",
    "\n",
    "warnings.filterwarnings(\"ignore\")\n",
    "tuned_parameters = {\"C\": stats.uniform(10**-4, 10**4)}\n",
    "#Using RandomsSearchCV\n",
    "model = RandomizedSearchCV(LogisticRegression(), tuned_parameters, scoring = 'accuracy', cv=5)\n",
    "model.fit(X_tr_vector, y_tr)\n",
    "\n",
    "print(model.best_estimator_)\n",
    "print(model.score(X_test_vector, y_test))"
   ]
  },
  {
   "cell_type": "markdown",
   "metadata": {},
   "source": [
    "# l2 Regularizer with Optimal C"
   ]
  },
  {
   "cell_type": "code",
   "execution_count": 19,
   "metadata": {},
   "outputs": [
    {
     "name": "stdout",
     "output_type": "stream",
     "text": [
      "             precision    recall  f1-score   support\n",
      "\n",
      "   negative       0.62      0.65      0.63      4697\n",
      "   positive       0.93      0.93      0.93     25303\n",
      "\n",
      "avg / total       0.89      0.88      0.88     30000\n",
      "\n",
      "Coefficient of each feature: [[-0.1568544  -0.03645294 -0.0009506  ... -0.00505665  0.00244679\n",
      "   0.00348764]]\n",
      "Training accuracy: 0.9995142857142857\n",
      "Test accuracy: 0.8834\n"
     ]
    },
    {
     "data": {
      "image/png": "[encoded data removed]",
      "text/plain": [
       "<matplotlib.figure.Figure at 0x1a23071c88>"
      ]
     },
     "metadata": {},
     "output_type": "display_data"
    }
   ],
   "source": [
    "from sklearn.metrics import confusion_matrix\n",
    "from sklearn.metrics import classification_report\n",
    "import seaborn as sns\n",
    "classifier = LogisticRegression(C=1397.6732812341104,penalty='l2')\n",
    "classifier.fit(X_tr_vector, y_tr)\n",
    "y_pred = classifier.predict(X_test_vector)\n",
    "confusion_matrix = confusion_matrix(y_test, y_pred)\n",
    "sns.heatmap(confusion_matrix)\n",
    "print(classification_report(y_test, y_pred))\n",
    "pre_weights =classifier.coef_\n",
    "print('Coefficient of each feature:', classifier.coef_)\n",
    "print('Training accuracy:', classifier.score(X_tr_vector, y_tr))\n",
    "print('Test accuracy:', classifier.score(X_test_vector, y_test))"
   ]
  },
  {
   "cell_type": "markdown",
   "metadata": {},
   "source": [
    "# l1 Regularizer with Optimal C"
   ]
  },
  {
   "cell_type": "code",
   "execution_count": 20,
   "metadata": {},
   "outputs": [
    {
     "name": "stdout",
     "output_type": "stream",
     "text": [
      "             precision    recall  f1-score   support\n",
      "\n",
      "   negative       0.53      0.60      0.56      4697\n",
      "   positive       0.92      0.90      0.91     25303\n",
      "\n",
      "avg / total       0.86      0.85      0.86     30000\n",
      "\n",
      "Coefficient of each feature: [[-0.26927122 -0.2815772   0.         ... -0.01142949  0.\n",
      "   0.002393  ]]\n",
      "Training accuracy: 1.0\n",
      "Test accuracy: 0.8526\n"
     ]
    },
    {
     "data": {
      "image/png": "[encoded data removed]",
      "text/plain": [
       "<matplotlib.figure.Figure at 0x1a28d312e8>"
      ]
     },
     "metadata": {},
     "output_type": "display_data"
    }
   ],
   "source": [
    "from sklearn.metrics import confusion_matrix\n",
    "from sklearn.metrics import classification_report\n",
    "import seaborn as sns\n",
    "classifier = LogisticRegression(C=1397.6732812341104,penalty='l1')\n",
    "classifier.fit(X_tr_vector, y_tr)\n",
    "y_pred = classifier.predict(X_test_vector)\n",
    "confusion_matrix = confusion_matrix(y_test, y_pred)\n",
    "sns.heatmap(confusion_matrix)\n",
    "print(classification_report(y_test, y_pred))\n",
    "print('Coefficient of each feature:', classifier.coef_)\n",
    "print('Training accuracy:', classifier.score(X_tr_vector, y_tr))\n",
    "print('Test accuracy:', classifier.score(X_test_vector, y_test))"
   ]
  },
  {
   "cell_type": "code",
   "execution_count": 21,
   "metadata": {},
   "outputs": [
    {
     "name": "stdout",
     "output_type": "stream",
     "text": [
      "             precision    recall  f1-score   support\n",
      "\n",
      "   negative       0.00      0.00      0.00      4697\n",
      "   positive       0.84      1.00      0.92     25303\n",
      "\n",
      "avg / total       0.71      0.84      0.77     30000\n",
      "\n",
      "Coefficient of each feature: [[0. 0. 0. ... 0. 0. 0.]]\n",
      "Training accuracy: 0.8437714285714286\n",
      "Test accuracy: 0.8434333333333334\n",
      "No of Non-zero elements: 0\n"
     ]
    },
    {
     "data": {
      "image/png": "[encoded data removed]",
      "text/plain": [
       "<matplotlib.figure.Figure at 0x1a46da89b0>"
      ]
     },
     "metadata": {},
     "output_type": "display_data"
    }
   ],
   "source": [
    "from sklearn.metrics import confusion_matrix\n",
    "from sklearn.metrics import classification_report\n",
    "import seaborn as sns\n",
    "C_values = []\n",
    "non_zero_values = []\n",
    "test_accuracy =[]\n",
    "classifier = LogisticRegression(C=0.0001,penalty='l1')\n",
    "classifier.fit(X_tr_vector, y_tr)\n",
    "y_pred = classifier.predict(X_test_vector)\n",
    "confusion_matrix = confusion_matrix(y_test, y_pred)\n",
    "sns.heatmap(confusion_matrix)\n",
    "print(classification_report(y_test, y_pred))\n",
    "print('Coefficient of each feature:', classifier.coef_)\n",
    "print('Training accuracy:', classifier.score(X_tr_vector, y_tr))\n",
    "print('Test accuracy:', classifier.score(X_test_vector, y_test))\n",
    "test_accuracy.append(classifier.score(X_test_vector, y_test))\n",
    "w = classifier.coef_\n",
    "non_zero_elements = np.count_nonzero(w)\n",
    "print('No of Non-zero elements:',non_zero_elements)\n",
    "non_zero_values.append(non_zero_elements)\n",
    "C_values.append(0.0001)"
   ]
  },
  {
   "cell_type": "code",
   "execution_count": 22,
   "metadata": {},
   "outputs": [
    {
     "name": "stdout",
     "output_type": "stream",
     "text": [
      "             precision    recall  f1-score   support\n",
      "\n",
      "   negative       0.85      0.18      0.30      4697\n",
      "   positive       0.87      0.99      0.93     25303\n",
      "\n",
      "avg / total       0.87      0.87      0.83     30000\n",
      "\n",
      "Coefficient of each feature: [[0. 0. 0. ... 0. 0. 0.]]\n",
      "Training accuracy: 0.8702\n",
      "Test accuracy: 0.8674\n",
      "No of Non-zero elements: 85\n"
     ]
    },
    {
     "data": {
      "image/png": "[encoded data removed]",
      "text/plain": [
       "<matplotlib.figure.Figure at 0x1a333e7518>"
      ]
     },
     "metadata": {},
     "output_type": "display_data"
    }
   ],
   "source": [
    "from sklearn.metrics import confusion_matrix\n",
    "from sklearn.metrics import classification_report\n",
    "import seaborn as sns\n",
    "classifier = LogisticRegression(C=0.001,penalty='l1')\n",
    "classifier.fit(X_tr_vector, y_tr)\n",
    "y_pred = classifier.predict(X_test_vector)\n",
    "confusion_matrix = confusion_matrix(y_test, y_pred)\n",
    "sns.heatmap(confusion_matrix)\n",
    "print(classification_report(y_test, y_pred))\n",
    "print('Coefficient of each feature:', classifier.coef_)\n",
    "print('Training accuracy:', classifier.score(X_tr_vector, y_tr))\n",
    "print('Test accuracy:', classifier.score(X_test_vector, y_test))\n",
    "test_accuracy.append(classifier.score(X_test_vector, y_test))\n",
    "w = classifier.coef_\n",
    "non_zero_elements = np.count_nonzero(w)\n",
    "print('No of Non-zero elements:',non_zero_elements)\n",
    "non_zero_values.append(non_zero_elements)\n",
    "C_values.append(0.001)"
   ]
  },
  {
   "cell_type": "code",
   "execution_count": 23,
   "metadata": {},
   "outputs": [
    {
     "name": "stdout",
     "output_type": "stream",
     "text": [
      "             precision    recall  f1-score   support\n",
      "\n",
      "   negative       0.82      0.59      0.69      4697\n",
      "   positive       0.93      0.98      0.95     25303\n",
      "\n",
      "avg / total       0.91      0.92      0.91     30000\n",
      "\n",
      "Coefficient of each feature: [[-0.06083557  0.          0.         ...  0.          0.\n",
      "   0.        ]]\n",
      "Training accuracy: 0.9518\n",
      "Test accuracy: 0.916\n",
      "No of Non-zero elements: 4655\n"
     ]
    },
    {
     "data": {
      "image/png": "[encoded data removed]",
      "text/plain": [
       "<matplotlib.figure.Figure at 0x1a28e6bf60>"
      ]
     },
     "metadata": {},
     "output_type": "display_data"
    }
   ],
   "source": [
    "from sklearn.metrics import confusion_matrix\n",
    "from sklearn.metrics import classification_report\n",
    "import seaborn as sns\n",
    "classifier = LogisticRegression(C=0.01,penalty='l1')\n",
    "classifier.fit(X_tr_vector, y_tr)\n",
    "y_pred = classifier.predict(X_test_vector)\n",
    "confusion_matrix = confusion_matrix(y_test, y_pred)\n",
    "sns.heatmap(confusion_matrix)\n",
    "print(classification_report(y_test, y_pred))\n",
    "print('Coefficient of each feature:', classifier.coef_)\n",
    "print('Training accuracy:', classifier.score(X_tr_vector, y_tr))\n",
    "print('Test accuracy:', classifier.score(X_test_vector, y_test))\n",
    "test_accuracy.append(classifier.score(X_test_vector, y_test))\n",
    "w = classifier.coef_\n",
    "non_zero_elements = np.count_nonzero(w)\n",
    "print('No of Non-zero elements:',non_zero_elements)\n",
    "non_zero_values.append(non_zero_elements)\n",
    "C_values.append(0.01)"
   ]
  },
  {
   "cell_type": "code",
   "execution_count": 24,
   "metadata": {},
   "outputs": [
    {
     "name": "stdout",
     "output_type": "stream",
     "text": [
      "             precision    recall  f1-score   support\n",
      "\n",
      "   negative       0.74      0.68      0.71      4697\n",
      "   positive       0.94      0.95      0.95     25303\n",
      "\n",
      "avg / total       0.91      0.91      0.91     30000\n",
      "\n",
      "Coefficient of each feature: [[-0.10526919  0.          0.         ...  0.          0.\n",
      "   0.00042518]]\n",
      "Training accuracy: 0.9905142857142857\n",
      "Test accuracy: 0.9123333333333333\n",
      "No of Non-zero elements: 12179\n"
     ]
    },
    {
     "data": {
      "image/png": "[encoded data removed]",
      "text/plain": [
       "<matplotlib.figure.Figure at 0x1a333830f0>"
      ]
     },
     "metadata": {},
     "output_type": "display_data"
    }
   ],
   "source": [
    "from sklearn.metrics import confusion_matrix\n",
    "from sklearn.metrics import classification_report\n",
    "import seaborn as sns\n",
    "classifier = LogisticRegression(C=0.1,penalty='l1')\n",
    "classifier.fit(X_tr_vector, y_tr)\n",
    "y_pred = classifier.predict(X_test_vector)\n",
    "confusion_matrix = confusion_matrix(y_test, y_pred)\n",
    "sns.heatmap(confusion_matrix)\n",
    "print(classification_report(y_test, y_pred))\n",
    "print('Coefficient of each feature:', classifier.coef_)\n",
    "print('Training accuracy:', classifier.score(X_tr_vector, y_tr))\n",
    "print('Test accuracy:', classifier.score(X_test_vector, y_test))\n",
    "test_accuracy.append(classifier.score(X_test_vector, y_test))\n",
    "w = classifier.coef_\n",
    "non_zero_elements = np.count_nonzero(w)\n",
    "print('No of Non-zero elements:',non_zero_elements)\n",
    "non_zero_values.append(non_zero_elements)\n",
    "C_values.append(0.1)"
   ]
  },
  {
   "cell_type": "code",
   "execution_count": 25,
   "metadata": {},
   "outputs": [
    {
     "name": "stdout",
     "output_type": "stream",
     "text": [
      "             precision    recall  f1-score   support\n",
      "\n",
      "   negative       0.65      0.67      0.66      4697\n",
      "   positive       0.94      0.93      0.94     25303\n",
      "\n",
      "avg / total       0.89      0.89      0.89     30000\n",
      "\n",
      "Coefficient of each feature: [[-0.1392241   0.          0.         ...  0.          0.\n",
      "   0.00148801]]\n",
      "Training accuracy: 0.9991571428571429\n",
      "Test accuracy: 0.8924333333333333\n",
      "No of Non-zero elements: 14078\n"
     ]
    },
    {
     "data": {
      "image/png": "[encoded data removed]",
      "text/plain": [
       "<matplotlib.figure.Figure at 0x1a33527358>"
      ]
     },
     "metadata": {},
     "output_type": "display_data"
    }
   ],
   "source": [
    "from sklearn.metrics import confusion_matrix\n",
    "from sklearn.metrics import classification_report\n",
    "import seaborn as sns\n",
    "classifier = LogisticRegression(C=1,penalty='l1')\n",
    "classifier.fit(X_tr_vector, y_tr)\n",
    "y_pred = classifier.predict(X_test_vector)\n",
    "confusion_matrix = confusion_matrix(y_test, y_pred)\n",
    "sns.heatmap(confusion_matrix)\n",
    "print(classification_report(y_test, y_pred))\n",
    "print('Coefficient of each feature:', classifier.coef_)\n",
    "print('Training accuracy:', classifier.score(X_tr_vector, y_tr))\n",
    "print('Test accuracy:', classifier.score(X_test_vector, y_test))\n",
    "test_accuracy.append(classifier.score(X_test_vector, y_test))\n",
    "w = classifier.coef_\n",
    "non_zero_elements = np.count_nonzero(w)\n",
    "print('No of Non-zero elements:',non_zero_elements)\n",
    "non_zero_values.append(non_zero_elements)\n",
    "C_values.append(1)"
   ]
  },
  {
   "cell_type": "code",
   "execution_count": 26,
   "metadata": {},
   "outputs": [
    {
     "name": "stdout",
     "output_type": "stream",
     "text": [
      "             precision    recall  f1-score   support\n",
      "\n",
      "   negative       0.61      0.65      0.63      4697\n",
      "   positive       0.93      0.92      0.93     25303\n",
      "\n",
      "avg / total       0.88      0.88      0.88     30000\n",
      "\n",
      "Coefficient of each feature: [[-0.2495171   0.          0.         ...  0.          0.\n",
      "   0.00070137]]\n",
      "Training accuracy: 1.0\n",
      "Test accuracy: 0.8792333333333333\n",
      "No of Non-zero elements: 15219\n"
     ]
    },
    {
     "data": {
      "image/png": "[encoded data removed]",
      "text/plain": [
       "<matplotlib.figure.Figure at 0x1a335db4a8>"
      ]
     },
     "metadata": {},
     "output_type": "display_data"
    }
   ],
   "source": [
    "from sklearn.metrics import confusion_matrix\n",
    "from sklearn.metrics import classification_report\n",
    "import seaborn as sns\n",
    "classifier = LogisticRegression(C=10,penalty='l1')\n",
    "classifier.fit(X_tr_vector, y_tr)\n",
    "y_pred = classifier.predict(X_test_vector)\n",
    "confusion_matrix = confusion_matrix(y_test, y_pred)\n",
    "sns.heatmap(confusion_matrix)\n",
    "print(classification_report(y_test, y_pred))\n",
    "print('Coefficient of each feature:', classifier.coef_)\n",
    "print('Training accuracy:', classifier.score(X_tr_vector, y_tr))\n",
    "print('Test accuracy:', classifier.score(X_test_vector, y_test))\n",
    "test_accuracy.append(classifier.score(X_test_vector, y_test))\n",
    "w = classifier.coef_\n",
    "non_zero_elements = np.count_nonzero(w)\n",
    "print('No of Non-zero elements:',non_zero_elements)\n",
    "non_zero_values.append(non_zero_elements)\n",
    "C_values.append(10)"
   ]
  },
  {
   "cell_type": "code",
   "execution_count": 27,
   "metadata": {},
   "outputs": [
    {
     "name": "stdout",
     "output_type": "stream",
     "text": [
      "             precision    recall  f1-score   support\n",
      "\n",
      "   negative       0.57      0.63      0.60      4697\n",
      "   positive       0.93      0.91      0.92     25303\n",
      "\n",
      "avg / total       0.87      0.87      0.87     30000\n",
      "\n",
      "Coefficient of each feature: [[-0.29179609 -0.01125762  0.         ...  0.          0.\n",
      "   0.        ]]\n",
      "Training accuracy: 1.0\n",
      "Test accuracy: 0.8673666666666666\n",
      "No of Non-zero elements: 19079\n"
     ]
    },
    {
     "data": {
      "image/png": "[encoded data removed]",
      "text/plain": [
       "<matplotlib.figure.Figure at 0x1a33664550>"
      ]
     },
     "metadata": {},
     "output_type": "display_data"
    }
   ],
   "source": [
    "from sklearn.metrics import confusion_matrix\n",
    "from sklearn.metrics import classification_report\n",
    "import seaborn as sns\n",
    "classifier = LogisticRegression(C=100,penalty='l1')\n",
    "classifier.fit(X_tr_vector, y_tr)\n",
    "y_pred = classifier.predict(X_test_vector)\n",
    "confusion_matrix = confusion_matrix(y_test, y_pred)\n",
    "sns.heatmap(confusion_matrix)\n",
    "print(classification_report(y_test, y_pred))\n",
    "print('Coefficient of each feature:', classifier.coef_)\n",
    "print('Training accuracy:', classifier.score(X_tr_vector, y_tr))\n",
    "print('Test accuracy:', classifier.score(X_test_vector, y_test))\n",
    "test_accuracy.append(classifier.score(X_test_vector, y_test))\n",
    "w = classifier.coef_\n",
    "non_zero_elements = np.count_nonzero(w)\n",
    "print('No of Non-zero elements:',non_zero_elements)\n",
    "non_zero_values.append(non_zero_elements)\n",
    "C_values.append(100)"
   ]
  },
  {
   "cell_type": "markdown",
   "metadata": {},
   "source": [
    "# C vs Sparsity"
   ]
  },
  {
   "cell_type": "code",
   "execution_count": 28,
   "metadata": {},
   "outputs": [
    {
     "data": {
      "image/png": "[encoded data removed]",
      "text/plain": [
       "<matplotlib.figure.Figure at 0x1a335dbcf8>"
      ]
     },
     "metadata": {},
     "output_type": "display_data"
    }
   ],
   "source": [
    "plt.plot(C_values, non_zero_values)\n",
    "plt.xlabel('C')\n",
    "plt.ylabel('Sparsity')\n",
    "plt.show()"
   ]
  },
  {
   "cell_type": "markdown",
   "metadata": {},
   "source": [
    "# C vs Test Accuracy"
   ]
  },
  {
   "cell_type": "code",
   "execution_count": 29,
   "metadata": {},
   "outputs": [
    {
     "data": {
      "image/png": "[encoded data removed]",
      "text/plain": [
       "<matplotlib.figure.Figure at 0x1a33551780>"
      ]
     },
     "metadata": {},
     "output_type": "display_data"
    }
   ],
   "source": [
    "plt.plot(C_values, test_accuracy)\n",
    "plt.xlabel('C')\n",
    "plt.ylabel('accuracy')\n",
    "plt.show()"
   ]
  },
  {
   "cell_type": "markdown",
   "metadata": {},
   "source": [
    "# Checking Multicollinearity"
   ]
  },
  {
   "cell_type": "code",
   "execution_count": 30,
   "metadata": {},
   "outputs": [
    {
     "name": "stdout",
     "output_type": "stream",
     "text": [
      "-0.0017567051926290365\n"
     ]
    }
   ],
   "source": [
    "#adding epsilon to train data for multicollinearity check\n",
    "import scipy.stats\n",
    "X_train = X_tr_vector.copy()\n",
    "X_train.todense()\n",
    "print(scipy.stats.norm.rvs(loc=0, scale=0.01))\n",
    "X_train.data += scipy.stats.norm.rvs(loc=0, scale=0.01)"
   ]
  },
  {
   "cell_type": "code",
   "execution_count": 31,
   "metadata": {},
   "outputs": [
    {
     "name": "stdout",
     "output_type": "stream",
     "text": [
      "             precision    recall  f1-score   support\n",
      "\n",
      "   negative       0.85      0.48      0.61      4697\n",
      "   positive       0.91      0.98      0.95     25303\n",
      "\n",
      "avg / total       0.90      0.91      0.89     30000\n",
      "\n",
      "Coefficient of each feature: [[-2.29079839e-02 -4.13221977e-03  6.55761799e-04 ...  1.85544995e-07\n",
      "   1.04850905e-03  8.74579290e-04]]\n",
      "Training accuracy: 0.9597857142857142\n",
      "Test accuracy: 0.9054666666666666\n"
     ]
    },
    {
     "data": {
      "image/png": "[encoded data removed]",
      "text/plain": [
       "<matplotlib.figure.Figure at 0x1a3352dba8>"
      ]
     },
     "metadata": {},
     "output_type": "display_data"
    }
   ],
   "source": [
    "from sklearn.metrics import confusion_matrix\n",
    "from sklearn.metrics import classification_report\n",
    "import seaborn as sns\n",
    "classifier = LogisticRegression(C=0.0001,penalty='l2')\n",
    "classifier.fit(X_train, y_tr)\n",
    "y_pred = classifier.predict(X_test_vector)\n",
    "confusion_matrix = confusion_matrix(y_test, y_pred)\n",
    "sns.heatmap(confusion_matrix)\n",
    "print(classification_report(y_test, y_pred))\n",
    "post_weights = classifier.coef_\n",
    "print('Coefficient of each feature:', classifier.coef_)\n",
    "print('Training accuracy:', classifier.score(X_train, y_tr))\n",
    "print('Test accuracy:', classifier.score(X_test_vector, y_test))"
   ]
  },
  {
   "cell_type": "code",
   "execution_count": 32,
   "metadata": {},
   "outputs": [
    {
     "data": {
      "text/plain": [
       "array([[-0.1568544 , -0.03645294, -0.0009506 , ..., -0.00505665,\n",
       "         0.00244679,  0.00348764]])"
      ]
     },
     "execution_count": 32,
     "metadata": {},
     "output_type": "execute_result"
    }
   ],
   "source": [
    "pre_weights"
   ]
  },
  {
   "cell_type": "code",
   "execution_count": 33,
   "metadata": {},
   "outputs": [
    {
     "data": {
      "text/plain": [
       "array([[-2.29079839e-02, -4.13221977e-03,  6.55761799e-04, ...,\n",
       "         1.85544995e-07,  1.04850905e-03,  8.74579290e-04]])"
      ]
     },
     "execution_count": 33,
     "metadata": {},
     "output_type": "execute_result"
    }
   ],
   "source": [
    "post_weights"
   ]
  },
  {
   "cell_type": "code",
   "execution_count": 34,
   "metadata": {},
   "outputs": [],
   "source": [
    "difference =[]\n",
    "for i in post_weights:\n",
    "    difference.append(np.abs(pre_weights-post_weights))"
   ]
  },
  {
   "cell_type": "code",
   "execution_count": 35,
   "metadata": {},
   "outputs": [
    {
     "data": {
      "text/plain": [
       "[<matplotlib.lines.Line2D at 0x1a27297f28>]"
      ]
     },
     "execution_count": 35,
     "metadata": {},
     "output_type": "execute_result"
    },
    {
     "data": {
      "image/png": "[encoded data removed]",
      "text/plain": [
       "<matplotlib.figure.Figure at 0x1a3367d1d0>"
      ]
     },
     "metadata": {},
     "output_type": "display_data"
    }
   ],
   "source": [
    "counts, bin_edges = np.histogram(difference, bins=500, density = True)\n",
    "pdf = counts/(sum(counts))\n",
    "cdf = np.cumsum(pdf)\n",
    "plt.plot(bin_edges[1:], cdf)"
   ]
  },
  {
   "cell_type": "markdown",
   "metadata": {},
   "source": [
    "# Most Important Features"
   ]
  },
  {
   "cell_type": "code",
   "execution_count": 36,
   "metadata": {},
   "outputs": [
    {
     "name": "stdout",
     "output_type": "stream",
     "text": [
      "Important words in reviews\n",
      "0.1896819267483305 great\n",
      "0.1271345853461609 love\n",
      "0.12289105135782658 best\n",
      "0.11066343900348279 good\n",
      "0.1062581377386342 delicious\n",
      "0.08274288753535143 perfect\n",
      "0.08208813737651653 loves\n",
      "0.07812554483789387 excellent\n",
      "0.07697117371050771 is\n",
      "0.0727555320545539 nice\n",
      "0.07113744483347002 wonderful\n",
      "0.07036076329245408 favorite\n",
      "0.06961380707126823 my\n",
      "0.06829997784341005 and\n",
      "0.06440080745311896 highly\n",
      "0.06405589587216608 easy\n",
      "0.060076538231934144 tasty\n",
      "0.0573498515682703 find\n",
      "0.056836555411040254 this\n",
      "0.0567110141374101 for\n"
     ]
    }
   ],
   "source": [
    "def important_features(vectorizer,classifier,n=20):\n",
    "    feature_names =vectorizer.get_feature_names()\n",
    "    topn = sorted(zip(classifier.coef_[0], feature_names),reverse=True)[:n]\n",
    "    print(\"Important words in reviews\")\n",
    "    for coef, feat in topn:\n",
    "        print(coef, feat)\n",
    "clf = LogisticRegression(C=0.0001,penalty='l2')\n",
    "clf.fit(X_tr_vector, y_tr)\n",
    "important_features(count_vect,clf)"
   ]
  },
  {
   "cell_type": "markdown",
   "metadata": {},
   "source": [
    "# Conclusion"
   ]
  },
  {
   "cell_type": "code",
   "execution_count": 1,
   "metadata": {},
   "outputs": [
    {
     "name": "stdout",
     "output_type": "stream",
     "text": [
      "+----------------+--------------------+-------------+---------------+---------------+\n",
      "|   CV Method    |     Optimal C      | regularizer |  Train Error  |   Test Error  |\n",
      "+----------------+--------------------+-------------+---------------+---------------+\n",
      "|  GridSearchCV  |        0.01        |      l2     | 0.00542857142 | 0.09793333333 |\n",
      "|  GridSearchCV  |        0.01        |      l1     |     0.0482    |     0.084     |\n",
      "| RandomSearchCV | 1397.6732812341104 |      l2     | 0.00048571428 |     0.1166    |\n",
      "| RandomSearchCV | 1397.6732812341104 |      l1     |       0       |     0.1474    |\n",
      "+----------------+--------------------+-------------+---------------+---------------+\n",
      "**C Vs Sparsity with l1 regularizer**\n",
      "+--------+----------+\n",
      "|   C    | Sparsity |\n",
      "+--------+----------+\n",
      "| 0.0001 |    0     |\n",
      "| 0.001  |    85    |\n",
      "|  0.01  |   4655   |\n",
      "|  0.1   |  12179   |\n",
      "|   1    |  14078   |\n",
      "|   10   |  15219   |\n",
      "|  100   |  19079   |\n",
      "+--------+----------+\n",
      "->Features are not multicollnear hence |wj| can be taken for Feature Importance.\n"
     ]
    }
   ],
   "source": [
    "from prettytable import PrettyTable\n",
    "t = PrettyTable()\n",
    "t.field_names = ['CV Method', 'Optimal C','regularizer','Train Error','Test Error']\n",
    "t.add_row([\"GridSearchCV\",\"0.01\",\"l2\",\"0.00542857142\",\"0.09793333333\"])\n",
    "t.add_row([\"GridSearchCV\",\"0.01\",\"l1\",\"0.0482\",\"0.084\"])\n",
    "t.add_row([\"RandomSearchCV\",\"1397.6732812341104\",\"l2\",\"0.00048571428\",\"0.1166\"])\n",
    "t.add_row([\"RandomSearchCV\",\"1397.6732812341104\",\"l1\",\"0\",\"0.1474\"])\n",
    "print(t)\n",
    "print(\"**C Vs Sparsity with l1 regularizer**\")\n",
    "t1 = PrettyTable()\n",
    "t1.field_names = ['C', 'Sparsity']\n",
    "t1.add_row([\"0.0001\",\"0\"])\n",
    "t1.add_row([\"0.001\",\"85\"])\n",
    "t1.add_row([\"0.01\",\"4655\"])\n",
    "t1.add_row([\"0.1\",\"12179\"])\n",
    "t1.add_row([\"1\",\"14078\"])\n",
    "t1.add_row([\"10\",\"15219\"])\n",
    "t1.add_row([\"100\",\"19079\"])\n",
    "print(t1)\n",
    "print(\"->Features are not multicollnear hence |wj| can be taken for Feature Importance.\")\n"
   ]
  },
  {
   "cell_type": "code",
   "execution_count": null,
   "metadata": {},
   "outputs": [],
   "source": []
  }
 ],
 "metadata": {
  "kernelspec": {
   "display_name": "Python 3",
   "language": "python",
   "name": "python3"
  },
  "language_info": {
   "codemirror_mode": {
    "name": "ipython",
    "version": 3
   },
   "file_extension": ".py",
   "mimetype": "text/x-python",
   "name": "python",
   "nbconvert_exporter": "python",
   "pygments_lexer": "ipython3",
   "version": "3.6.4"
  }
 },
 "nbformat": 4,
 "nbformat_minor": 2
}
