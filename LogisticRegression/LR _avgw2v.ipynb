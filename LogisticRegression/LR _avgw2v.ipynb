{
 "cells": [
  {
   "cell_type": "markdown",
   "metadata": {},
   "source": [
    "# Data Loading"
   ]
  },
  {
   "cell_type": "code",
   "execution_count": 1,
   "metadata": {},
   "outputs": [],
   "source": [
    "%matplotlib inline\n",
    "\n",
    "import sqlite3\n",
    "import pandas as pd\n",
    "import numpy as np\n",
    "import nltk\n",
    "import string\n",
    "import matplotlib.pyplot as plt\n",
    "import seaborn as sns\n",
    "from sklearn.feature_extraction.text import TfidfTransformer\n",
    "from sklearn.feature_extraction.text import TfidfVectorizer\n",
    "\n",
    "from sklearn.feature_extraction.text import CountVectorizer\n",
    "from sklearn.metrics import confusion_matrix\n",
    "from sklearn import metrics\n",
    "from sklearn.metrics import roc_curve, auc\n",
    "from nltk.stem.porter import PorterStemmer\n",
    "\n",
    "\n",
    "\n",
    "# using the SQLite Table to read data.\n",
    "con = sqlite3.connect('./amazon-fine-food-reviews/database.sqlite') \n",
    "\n",
    "\n",
    "\n",
    "#filtering only positive and negative reviews i.e. \n",
    "# not taking into consideration those reviews with Score=3\n",
    "filtered_data = pd.read_sql_query(\"\"\"\n",
    "SELECT *\n",
    "FROM Reviews\n",
    "WHERE Score != 3\n",
    "\"\"\", con) \n",
    "\n",
    "\n",
    "\n",
    "\n",
    "# Give reviews with Score>3 a positive rating, and reviews with a score<3 a negative rating.\n",
    "def partition(x):\n",
    "    if x < 3:\n",
    "        return 'negative'\n",
    "    return 'positive'\n",
    "\n",
    "#changing reviews with score less than 3 to be positive and vice-versa\n",
    "actualScore = filtered_data['Score']\n",
    "positiveNegative = actualScore.map(partition) \n",
    "filtered_data['Score'] = positiveNegative"
   ]
  },
  {
   "cell_type": "markdown",
   "metadata": {},
   "source": [
    "# Data Cleaning"
   ]
  },
  {
   "cell_type": "code",
   "execution_count": 2,
   "metadata": {},
   "outputs": [],
   "source": [
    "display= pd.read_sql_query(\"\"\"\n",
    "SELECT *\n",
    "FROM Reviews\n",
    "WHERE Score != 3 AND UserId=\"AR5J8UI46CURR\"\n",
    "ORDER BY ProductID\n",
    "\"\"\", con)"
   ]
  },
  {
   "cell_type": "code",
   "execution_count": 3,
   "metadata": {},
   "outputs": [],
   "source": [
    "#Sorting data according to ProductId in ascending order\n",
    "sorted_data=filtered_data.sort_values('ProductId', axis=0, ascending=True, inplace=False, kind='quicksort', na_position='last')"
   ]
  },
  {
   "cell_type": "code",
   "execution_count": 4,
   "metadata": {},
   "outputs": [
    {
     "data": {
      "text/plain": [
       "(364173, 10)"
      ]
     },
     "execution_count": 4,
     "metadata": {},
     "output_type": "execute_result"
    }
   ],
   "source": [
    "#Deduplication of entries\n",
    "final=sorted_data.drop_duplicates(subset={\"UserId\",\"ProfileName\",\"Time\",\"Text\"}, keep='first', inplace=False)\n",
    "final.shape"
   ]
  },
  {
   "cell_type": "code",
   "execution_count": 5,
   "metadata": {},
   "outputs": [],
   "source": [
    "final=final[final.HelpfulnessNumerator<=final.HelpfulnessDenominator]"
   ]
  },
  {
   "cell_type": "code",
   "execution_count": 6,
   "metadata": {},
   "outputs": [
    {
     "name": "stdout",
     "output_type": "stream",
     "text": [
      "(364171, 10)\n"
     ]
    },
    {
     "data": {
      "text/plain": [
       "positive    307061\n",
       "negative     57110\n",
       "Name: Score, dtype: int64"
      ]
     },
     "execution_count": 6,
     "metadata": {},
     "output_type": "execute_result"
    }
   ],
   "source": [
    "#Before starting the next phase of preprocessing lets see the number of entries left\n",
    "print(final.shape)\n",
    "\n",
    "#How many positive and negative reviews are present in our dataset?\n",
    "final['Score'].value_counts()"
   ]
  },
  {
   "cell_type": "markdown",
   "metadata": {},
   "source": [
    "# Text Preprocessing"
   ]
  },
  {
   "cell_type": "code",
   "execution_count": 7,
   "metadata": {},
   "outputs": [
    {
     "name": "stdout",
     "output_type": "stream",
     "text": [
      "6\n",
      "I set aside at least an hour each day to read to my son (3 y/o). At this point, I consider myself a connoisseur of children's books and this is one of the best. Santa Clause put this under the tree. Since then, we've read it perpetually and he loves it.<br /><br />First, this book taught him the months of the year.<br /><br />Second, it's a pleasure to read. Well suited to 1.5 y/o old to 4+.<br /><br />Very few children's books are worth owning. Most should be borrowed from the library. This book, however, deserves a permanent spot on your shelf. Sendak's best.\n"
     ]
    }
   ],
   "source": [
    "# find sentences containing HTML tags\n",
    "import re\n",
    "i=0;\n",
    "for sent in final['Text'].values:\n",
    "    if (len(re.findall('<.*?>', sent))):\n",
    "        print(i)\n",
    "        print(sent)\n",
    "        break;\n",
    "    i += 1;    \n"
   ]
  },
  {
   "cell_type": "code",
   "execution_count": 8,
   "metadata": {},
   "outputs": [],
   "source": [
    "import re\n",
    "# Tutorial about Python regular expressions: https://pymotw.com/2/re/\n",
    "import string\n",
    "from nltk.corpus import stopwords\n",
    "from nltk.stem import PorterStemmer\n",
    "from nltk.stem.wordnet import WordNetLemmatizer\n",
    "\n",
    "stop = set(stopwords.words('english')) #set of stopwords\n",
    "sno = nltk.stem.SnowballStemmer('english') #initialising the snowball stemmer\n",
    "\n",
    "def cleanhtml(sentence): #function to clean the word of any html-tags\n",
    "    cleanr = re.compile('<.*?>')\n",
    "    cleantext = re.sub(cleanr, ' ', sentence)\n",
    "    return cleantext\n",
    "def cleanpunc(sentence): #function to clean the word of any punctuation or special characters\n",
    "    cleaned = re.sub(r'[?|!|\\'|\"|#]',r'',sentence)\n",
    "    cleaned = re.sub(r'[.|,|)|(|\\|/]',r' ',cleaned)\n",
    "    return  cleaned"
   ]
  },
  {
   "cell_type": "code",
   "execution_count": 9,
   "metadata": {},
   "outputs": [],
   "source": [
    "#Code for implementing step-by-step the checks mentioned in the pre-processing phase\n",
    "# this code takes a while to run as it needs to run on 500k sentences.\n",
    "i=0\n",
    "str1=' '\n",
    "final_string=[]\n",
    "all_positive_words=[] # store words from +ve reviews here\n",
    "all_negative_words=[] # store words from -ve reviews here.\n",
    "s=''\n",
    "for sent in final['Text'].values:\n",
    "    filtered_sentence=[]\n",
    "    #print(sent);\n",
    "    sent=cleanhtml(sent) # remove HTMl tags\n",
    "    for w in sent.split():\n",
    "        for cleaned_words in cleanpunc(w).split():\n",
    "            if((cleaned_words.isalpha()) & (len(cleaned_words)>2)):    \n",
    "                if(cleaned_words.lower() not in stop):\n",
    "                    s=(sno.stem(cleaned_words.lower())).encode('utf8')\n",
    "                    filtered_sentence.append(s)\n",
    "                    if (final['Score'].values)[i] == 'positive': \n",
    "                        all_positive_words.append(s) #list of all words used to describe positive reviews\n",
    "                    if(final['Score'].values)[i] == 'negative':\n",
    "                        all_negative_words.append(s) #list of all words used to describe negative reviews reviews\n",
    "                else:\n",
    "                    continue\n",
    "            else:\n",
    "                continue \n",
    "    #print(filtered_sentence)\n",
    "    str1 = b\" \".join(filtered_sentence) #final string of cleaned words\n",
    "    #print(\"***********************************************************************\")\n",
    "    \n",
    "    final_string.append(str1)\n",
    "    i+=1"
   ]
  },
  {
   "cell_type": "code",
   "execution_count": 10,
   "metadata": {},
   "outputs": [],
   "source": [
    "final['CleanedText']=final_string #adding a column of CleanedText which displays the data after pre-processing of the review "
   ]
  },
  {
   "cell_type": "markdown",
   "metadata": {},
   "source": [
    "# Time Based Sorting"
   ]
  },
  {
   "cell_type": "code",
   "execution_count": 11,
   "metadata": {},
   "outputs": [],
   "source": [
    "final=final.sort_values('Time', axis=0, ascending=True, inplace=False, kind='quicksort', na_position='last')"
   ]
  },
  {
   "cell_type": "code",
   "execution_count": 12,
   "metadata": {},
   "outputs": [],
   "source": [
    "scores = final['Score']"
   ]
  },
  {
   "cell_type": "markdown",
   "metadata": {},
   "source": [
    "# Split the Data Set into train and test"
   ]
  },
  {
   "cell_type": "code",
   "execution_count": 13,
   "metadata": {},
   "outputs": [
    {
     "name": "stderr",
     "output_type": "stream",
     "text": [
      "/anaconda3/lib/python3.6/site-packages/sklearn/cross_validation.py:41: DeprecationWarning: This module was deprecated in version 0.18 in favor of the model_selection module into which all the refactored classes and functions are moved. Also note that the interface of the new CV iterators are different from that of this module. This module will be removed in 0.20.\n",
      "  \"This module will be removed in 0.20.\", DeprecationWarning)\n"
     ]
    }
   ],
   "source": [
    "# ============================== loading libraries ===========================================\n",
    "import numpy as np\n",
    "import pandas as pd\n",
    "import matplotlib.pyplot as plt\n",
    "from sklearn.cross_validation import train_test_split\n",
    "from sklearn.metrics import accuracy_score\n",
    "from sklearn.cross_validation import cross_val_score\n",
    "from collections import Counter\n",
    "from sklearn.metrics import accuracy_score\n",
    "from sklearn import cross_validation\n",
    "from sklearn.naive_bayes import BernoulliNB\n",
    "import warnings\n",
    "# =============================================================================================\n",
    "warnings.filterwarnings(\"ignore\")\n",
    "\n",
    "# split the data set into train and test\n",
    "X_tr, X_test, y_tr, y_test = cross_validation.train_test_split(final['Text'].values, scores, test_size=0.3, random_state=0)\n",
    "y_test = y_test.values\n",
    "y_tr = y_tr.values\n",
    "\n",
    "#sampling data\n",
    "train_indices = np.random.choice(len(X_tr),70000,replace=False)\n",
    "test_indices = np.random.choice(len(X_test),30000,replace=False)\n",
    "X_tr = X_tr[train_indices]\n",
    "y_tr = y_tr[train_indices]\n",
    "X_test = X_test[test_indices]\n",
    "y_test = y_test[test_indices]"
   ]
  },
  {
   "cell_type": "markdown",
   "metadata": {},
   "source": [
    "# Converting Text to AvgW2Vec"
   ]
  },
  {
   "cell_type": "code",
   "execution_count": 14,
   "metadata": {},
   "outputs": [],
   "source": [
    "# Train your own Word2Vec model using X_tr\n",
    "import gensim\n",
    "with warnings.catch_warnings():\n",
    "    warnings.simplefilter(\"ignore\")\n",
    "i=0\n",
    "list_of_sent_X_tr=[]\n",
    "for sent in X_tr:\n",
    "    filtered_sentence=[]\n",
    "    sent=cleanhtml(sent)\n",
    "    for w in sent.split():\n",
    "        for cleaned_words in cleanpunc(w).split():\n",
    "            if(cleaned_words.isalpha()):    \n",
    "                filtered_sentence.append(cleaned_words.lower())\n",
    "            else:\n",
    "                continue \n",
    "    list_of_sent_X_tr.append(filtered_sentence)"
   ]
  },
  {
   "cell_type": "code",
   "execution_count": 15,
   "metadata": {},
   "outputs": [],
   "source": [
    "import gensim\n",
    "with warnings.catch_warnings():\n",
    "    warnings.simplefilter(\"ignore\")\n",
    "i=0\n",
    "list_of_sent_X_test=[]\n",
    "for sent in X_test:\n",
    "    filtered_sentence=[]\n",
    "    sent=cleanhtml(sent)\n",
    "    for w in sent.split():\n",
    "        for cleaned_words in cleanpunc(w).split():\n",
    "            if(cleaned_words.isalpha()):    \n",
    "                filtered_sentence.append(cleaned_words.lower())\n",
    "            else:\n",
    "                continue \n",
    "    list_of_sent_X_test.append(filtered_sentence)"
   ]
  },
  {
   "cell_type": "code",
   "execution_count": 16,
   "metadata": {},
   "outputs": [],
   "source": [
    "w2v_model=gensim.models.Word2Vec(list_of_sent_X_tr,min_count=1,size=50, workers=4) "
   ]
  },
  {
   "cell_type": "code",
   "execution_count": 17,
   "metadata": {},
   "outputs": [],
   "source": [
    "# average Word2Vec\n",
    "# compute average word2vec for each review.\n",
    "sent_vectors_X_tr = []; # the avg-w2v for each sentence/review is stored in this list\n",
    "for sent in list_of_sent_X_tr: # for each review/sentence\n",
    "    sent_vec = np.zeros(50) # as word vectors are of zero length\n",
    "    cnt_words =0; # num of words with a valid vector in the sentence/review\n",
    "    for word in sent: # for each word in a review/sentence\n",
    "        try:\n",
    "            vec = w2v_model.wv[word]\n",
    "            sent_vec += vec\n",
    "            cnt_words += 1\n",
    "        except:\n",
    "            pass\n",
    "    sent_vec /= cnt_words\n",
    "    sent_vectors_X_tr.append(sent_vec)"
   ]
  },
  {
   "cell_type": "code",
   "execution_count": 18,
   "metadata": {},
   "outputs": [],
   "source": [
    "# average Word2Vec\n",
    "# compute average word2vec for each review.\n",
    "sent_vectors_X_test = []; # the avg-w2v for each sentence/review is stored in this list\n",
    "for sent in list_of_sent_X_test: # for each review/sentence\n",
    "    sent_vec = np.zeros(50) # as word vectors are of zero length\n",
    "    cnt_words =0; # num of words with a valid vector in the sentence/review\n",
    "    for word in sent: # for each word in a review/sentence\n",
    "        try:\n",
    "            vec = w2v_model.wv[word]\n",
    "            sent_vec += vec\n",
    "            cnt_words += 1\n",
    "        except:\n",
    "            pass\n",
    "    sent_vec /= cnt_words\n",
    "    sent_vectors_X_test.append(sent_vec)"
   ]
  },
  {
   "cell_type": "code",
   "execution_count": 19,
   "metadata": {},
   "outputs": [],
   "source": [
    "X_tr_vector = sent_vectors_X_tr\n",
    "X_test_vector = sent_vectors_X_test "
   ]
  },
  {
   "cell_type": "markdown",
   "metadata": {},
   "source": [
    "# Column Standardization"
   ]
  },
  {
   "cell_type": "code",
   "execution_count": 20,
   "metadata": {},
   "outputs": [],
   "source": [
    "from sklearn.preprocessing import Imputer\n",
    "X_test_vector = Imputer().fit_transform(X_test_vector)"
   ]
  },
  {
   "cell_type": "code",
   "execution_count": 21,
   "metadata": {},
   "outputs": [],
   "source": [
    "from sklearn.preprocessing import StandardScaler\n",
    "warnings.filterwarnings(\"ignore\")\n",
    "scaler = StandardScaler(copy=True, with_mean=False, with_std=True)\n",
    "scaler.fit(X_tr_vector)\n",
    "X_tr_vector = scaler.transform(X_tr_vector)\n",
    "X_test_vector =scaler.transform(X_test_vector)"
   ]
  },
  {
   "cell_type": "markdown",
   "metadata": {},
   "source": [
    "# Finding Optimal Lamda using GridSearchCV"
   ]
  },
  {
   "cell_type": "code",
   "execution_count": 22,
   "metadata": {},
   "outputs": [
    {
     "name": "stdout",
     "output_type": "stream",
     "text": [
      "LogisticRegression(C=1, class_weight=None, dual=False, fit_intercept=True,\n",
      "          intercept_scaling=1, max_iter=100, multi_class='ovr', n_jobs=1,\n",
      "          penalty='l2', random_state=None, solver='liblinear', tol=0.0001,\n",
      "          verbose=0, warm_start=False)\n",
      "0.8775333333333334\n"
     ]
    }
   ],
   "source": [
    "from sklearn.grid_search import GridSearchCV\n",
    "from sklearn.datasets import *\n",
    "from sklearn.linear_model import LogisticRegression\n",
    "\n",
    "tuned_parameters = [{'C': [10**-4, 10**-2, 10**0, 10**2, 10**4]}]\n",
    "#Using GridSearchCV\n",
    "model = GridSearchCV(LogisticRegression(), tuned_parameters, scoring = 'accuracy', cv=5)\n",
    "model.fit(X_tr_vector, y_tr)\n",
    "\n",
    "print(model.best_estimator_)\n",
    "print(model.score(X_test_vector, y_test))"
   ]
  },
  {
   "cell_type": "markdown",
   "metadata": {},
   "source": [
    "# l2 Regularizer"
   ]
  },
  {
   "cell_type": "code",
   "execution_count": 23,
   "metadata": {},
   "outputs": [
    {
     "name": "stdout",
     "output_type": "stream",
     "text": [
      "             precision    recall  f1-score   support\n",
      "\n",
      "   negative       0.68      0.40      0.50      4670\n",
      "   positive       0.90      0.97      0.93     25330\n",
      "\n",
      "avg / total       0.86      0.88      0.86     30000\n",
      "\n",
      "Coefficient of each feature: [[-0.04474106  0.05023028  0.30947473  0.26883436  0.61593005  0.32137446\n",
      "  -0.08436506  0.02265832 -0.19365834 -0.60049844  0.1430553   0.13158073\n",
      "  -0.13785966  0.3063757  -0.52468911 -0.19931238  0.35816764  0.12495786\n",
      "   0.37363064 -1.10535605 -0.29975482 -0.47264029  0.10353485  0.02574789\n",
      "  -0.4000574   0.01310611 -0.3429707  -0.18988819 -0.60849273  0.32696017\n",
      "  -0.22165892 -0.41347319 -0.57520354 -0.22178932 -0.11744562 -0.06772676\n",
      "  -0.00735442 -0.42328371  0.2033332  -0.09897825  0.09432611 -0.28771239\n",
      "  -0.40882181  0.25078754 -0.23642429 -0.34358359  0.04014162  0.23833506\n",
      "  -0.33266706 -0.30854417]]\n",
      "Training accuracy: 0.8816285714285714\n",
      "Test accuracy: 0.8775333333333334\n"
     ]
    },
    {
     "data": {
      "image/png": "[encoded data removed]",
      "text/plain": [
       "<matplotlib.figure.Figure at 0x1a2ee8ce10>"
      ]
     },
     "metadata": {},
     "output_type": "display_data"
    }
   ],
   "source": [
    "from sklearn.metrics import confusion_matrix\n",
    "from sklearn.metrics import classification_report\n",
    "import seaborn as sns\n",
    "classifier = LogisticRegression(C=1,penalty='l2')\n",
    "classifier.fit(X_tr_vector, y_tr)\n",
    "y_pred = classifier.predict(X_test_vector)\n",
    "confusion_matrix = confusion_matrix(y_test, y_pred)\n",
    "sns.heatmap(confusion_matrix)\n",
    "print(classification_report(y_test, y_pred))\n",
    "print('Coefficient of each feature:', classifier.coef_)\n",
    "pre_weights =classifier.coef_\n",
    "print('Training accuracy:', classifier.score(X_tr_vector, y_tr))\n",
    "print('Test accuracy:', classifier.score(X_test_vector, y_test))"
   ]
  },
  {
   "cell_type": "markdown",
   "metadata": {},
   "source": [
    "# l1 Regularizer"
   ]
  },
  {
   "cell_type": "code",
   "execution_count": 24,
   "metadata": {},
   "outputs": [
    {
     "name": "stdout",
     "output_type": "stream",
     "text": [
      "             precision    recall  f1-score   support\n",
      "\n",
      "   negative       0.68      0.40      0.50      4670\n",
      "   positive       0.90      0.97      0.93     25330\n",
      "\n",
      "avg / total       0.86      0.88      0.86     30000\n",
      "\n",
      "Coefficient of each feature: [[-0.03937462  0.04112243  0.28249609  0.24783485  0.61397728  0.32330601\n",
      "  -0.08588935  0.01779811 -0.18171418 -0.58577385  0.1310635   0.14032658\n",
      "  -0.13921314  0.29428635 -0.50182246 -0.17311829  0.36976362  0.1200566\n",
      "   0.41579796 -1.06072946 -0.29972407 -0.4688858   0.10388738  0.00656117\n",
      "  -0.37229063  0.00750403 -0.30263923 -0.19502433 -0.58590128  0.31523071\n",
      "  -0.20583845 -0.39187839 -0.5649124  -0.23207947 -0.10866033 -0.08253988\n",
      "  -0.01695506 -0.40796434  0.20502187 -0.10496559  0.07414264 -0.28150481\n",
      "  -0.40360019  0.22288375 -0.23984935 -0.34369674  0.02911708  0.22138967\n",
      "  -0.34119509 -0.29080789]]\n",
      "Training accuracy: 0.8814285714285715\n",
      "Test accuracy: 0.8775333333333334\n"
     ]
    },
    {
     "data": {
      "image/png": "[encoded data removed]",
      "text/plain": [
       "<matplotlib.figure.Figure at 0x1a33591fd0>"
      ]
     },
     "metadata": {},
     "output_type": "display_data"
    }
   ],
   "source": [
    "from sklearn.metrics import confusion_matrix\n",
    "from sklearn.metrics import classification_report\n",
    "import seaborn as sns\n",
    "classifier = LogisticRegression(C=1,penalty='l1')\n",
    "classifier.fit(X_tr_vector, y_tr)\n",
    "y_pred = classifier.predict(X_test_vector)\n",
    "confusion_matrix = confusion_matrix(y_test, y_pred)\n",
    "sns.heatmap(confusion_matrix)\n",
    "print(classification_report(y_test, y_pred))\n",
    "print('Coefficient of each feature:', classifier.coef_)\n",
    "pre_weights =classifier.coef_\n",
    "print('Training accuracy:', classifier.score(X_tr_vector, y_tr))\n",
    "print('Test accuracy:', classifier.score(X_test_vector, y_test))"
   ]
  },
  {
   "cell_type": "markdown",
   "metadata": {},
   "source": [
    "# Finding Optimal Lamda using RandomSearchCV"
   ]
  },
  {
   "cell_type": "code",
   "execution_count": 25,
   "metadata": {},
   "outputs": [
    {
     "name": "stdout",
     "output_type": "stream",
     "text": [
      "LogisticRegression(C=510.5950456056802, class_weight=None, dual=False,\n",
      "          fit_intercept=True, intercept_scaling=1, max_iter=100,\n",
      "          multi_class='ovr', n_jobs=1, penalty='l2', random_state=None,\n",
      "          solver='liblinear', tol=0.0001, verbose=0, warm_start=False)\n",
      "0.8774666666666666\n"
     ]
    }
   ],
   "source": [
    "from sklearn.grid_search import GridSearchCV\n",
    "from sklearn.datasets import *\n",
    "from sklearn.linear_model import LogisticRegression\n",
    "from scipy import stats\n",
    "from sklearn.model_selection import GridSearchCV, RandomizedSearchCV \n",
    "\n",
    "\n",
    "tuned_parameters = {\"C\": stats.uniform(10**-4, 10**4)}\n",
    "#Using GridSearchCV\n",
    "model = RandomizedSearchCV(LogisticRegression(), tuned_parameters, scoring = 'accuracy', cv=5)\n",
    "model.fit(X_tr_vector, y_tr)\n",
    "\n",
    "print(model.best_estimator_)\n",
    "print(model.score(X_test_vector, y_test))"
   ]
  },
  {
   "cell_type": "markdown",
   "metadata": {},
   "source": [
    "# L2 Regularizer"
   ]
  },
  {
   "cell_type": "code",
   "execution_count": 26,
   "metadata": {},
   "outputs": [
    {
     "name": "stdout",
     "output_type": "stream",
     "text": [
      "             precision    recall  f1-score   support\n",
      "\n",
      "   negative       0.68      0.40      0.50      4670\n",
      "   positive       0.90      0.97      0.93     25330\n",
      "\n",
      "avg / total       0.86      0.88      0.86     30000\n",
      "\n",
      "Coefficient of each feature: [[-0.05116482  0.06306457  0.34967999  0.29904146  0.61883563  0.31820175\n",
      "  -0.08112134  0.02828017 -0.2112174  -0.6226364   0.16072883  0.11774838\n",
      "  -0.13528494  0.32386764 -0.55846257 -0.23815412  0.34106275  0.1324485\n",
      "   0.31042386 -1.17148848 -0.299447   -0.47844105  0.10205708  0.05326872\n",
      "  -0.44098528  0.02188769 -0.40171883 -0.18084569 -0.6415288   0.34428858\n",
      "  -0.2445913  -0.44428067 -0.58957956 -0.20641247 -0.12960084 -0.04507886\n",
      "   0.00634441 -0.44581185  0.20028773 -0.08981917  0.12477555 -0.29700911\n",
      "  -0.41631294  0.28992171 -0.22992289 -0.344038    0.05608099  0.26236406\n",
      "  -0.32035554 -0.33352261]]\n",
      "Training accuracy: 0.8814\n",
      "Test accuracy: 0.8774666666666666\n"
     ]
    },
    {
     "data": {
      "image/png": "[encoded data removed]",
      "text/plain": [
       "<matplotlib.figure.Figure at 0x1a335c2518>"
      ]
     },
     "metadata": {},
     "output_type": "display_data"
    }
   ],
   "source": [
    "from sklearn.metrics import confusion_matrix\n",
    "from sklearn.metrics import classification_report\n",
    "import seaborn as sns\n",
    "classifier = LogisticRegression(C=510.5950456056802,penalty='l2')\n",
    "classifier.fit(X_tr_vector, y_tr)\n",
    "y_pred = classifier.predict(X_test_vector)\n",
    "confusion_matrix = confusion_matrix(y_test, y_pred)\n",
    "sns.heatmap(confusion_matrix)\n",
    "print(classification_report(y_test, y_pred))\n",
    "print('Coefficient of each feature:', classifier.coef_)\n",
    "pre_weights =classifier.coef_\n",
    "print('Training accuracy:', classifier.score(X_tr_vector, y_tr))\n",
    "print('Test accuracy:', classifier.score(X_test_vector, y_test))"
   ]
  },
  {
   "cell_type": "markdown",
   "metadata": {},
   "source": [
    "# L1 Regularizer"
   ]
  },
  {
   "cell_type": "code",
   "execution_count": 27,
   "metadata": {},
   "outputs": [
    {
     "name": "stdout",
     "output_type": "stream",
     "text": [
      "             precision    recall  f1-score   support\n",
      "\n",
      "   negative       0.68      0.40      0.50      4670\n",
      "   positive       0.90      0.97      0.93     25330\n",
      "\n",
      "avg / total       0.86      0.88      0.86     30000\n",
      "\n",
      "Coefficient of each feature: [[-0.04471199  0.05048445  0.30931772  0.26859912  0.6159553   0.32114837\n",
      "  -0.08454827  0.02219733 -0.19373118 -0.60063579  0.14315615  0.13183316\n",
      "  -0.13800631  0.30631762 -0.52429692 -0.19911774  0.3583777   0.12487704\n",
      "   0.3746724  -1.10510299 -0.29991658 -0.47284901  0.10359821  0.02543612\n",
      "  -0.39979317  0.01326775 -0.34212753 -0.19014892 -0.60783554  0.32717416\n",
      "  -0.22153039 -0.41357744 -0.5748529  -0.22174495 -0.11715714 -0.06822439\n",
      "  -0.00794178 -0.42364537  0.20335798 -0.0990259   0.09378631 -0.28786761\n",
      "  -0.40900022  0.25055197 -0.23664814 -0.34363792  0.04020365  0.23808884\n",
      "  -0.33302553 -0.30845062]]\n",
      "Training accuracy: 0.8816285714285714\n",
      "Test accuracy: 0.8775333333333334\n"
     ]
    },
    {
     "data": {
      "image/png": "[encoded data removed]",
      "text/plain": [
       "<matplotlib.figure.Figure at 0x1a3ace7898>"
      ]
     },
     "metadata": {},
     "output_type": "display_data"
    }
   ],
   "source": [
    "from sklearn.metrics import confusion_matrix\n",
    "from sklearn.metrics import classification_report\n",
    "import seaborn as sns\n",
    "import warnings\n",
    "\n",
    "warnings.filterwarnings(\"ignore\")\n",
    "classifier = LogisticRegression(C=510.5950456056802,penalty='l1')\n",
    "classifier.fit(X_tr_vector, y_tr)\n",
    "y_pred = classifier.predict(X_test_vector)\n",
    "confusion_matrix = confusion_matrix(y_test, y_pred)\n",
    "sns.heatmap(confusion_matrix)\n",
    "print(classification_report(y_test, y_pred))\n",
    "print('Coefficient of each feature:', classifier.coef_)\n",
    "print('Training accuracy:', classifier.score(X_tr_vector, y_tr))\n",
    "print('Test accuracy:', classifier.score(X_test_vector, y_test))"
   ]
  },
  {
   "cell_type": "code",
   "execution_count": 28,
   "metadata": {},
   "outputs": [
    {
     "name": "stdout",
     "output_type": "stream",
     "text": [
      "             precision    recall  f1-score   support\n",
      "\n",
      "   negative       0.33      0.00      0.00      4670\n",
      "   positive       0.84      1.00      0.92     25330\n",
      "\n",
      "avg / total       0.76      0.84      0.77     30000\n",
      "\n",
      "Coefficient of each feature: [[ 0.          0.          0.          0.          0.          0.\n",
      "   0.          0.          0.          0.          0.          0.\n",
      "   0.          0.          0.          0.          0.          0.\n",
      "   0.          0.          0.          0.          0.          0.\n",
      "  -0.19458123  0.          0.          0.         -0.2558558   0.\n",
      "   0.          0.          0.          0.          0.          0.\n",
      "   0.          0.          0.          0.          0.          0.\n",
      "   0.          0.          0.          0.          0.          0.\n",
      "   0.          0.        ]]\n",
      "Training accuracy: 0.8438142857142857\n",
      "Test accuracy: 0.8442333333333333\n",
      "No of Non-zero elements: 2\n"
     ]
    },
    {
     "data": {
      "image/png": "[encoded data removed]",
      "text/plain": [
       "<matplotlib.figure.Figure at 0x1a335b97b8>"
      ]
     },
     "metadata": {},
     "output_type": "display_data"
    }
   ],
   "source": [
    "from sklearn.metrics import confusion_matrix\n",
    "from sklearn.metrics import classification_report\n",
    "import seaborn as sns\n",
    "import warnings\n",
    "\n",
    "warnings.filterwarnings(\"ignore\")\n",
    "C_values = []\n",
    "non_zero_values = []\n",
    "test_accuracy =[]\n",
    "classifier = LogisticRegression(C=0.0001,penalty='l1')\n",
    "classifier.fit(X_tr_vector, y_tr)\n",
    "y_pred = classifier.predict(X_test_vector)\n",
    "confusion_matrix = confusion_matrix(y_test, y_pred)\n",
    "sns.heatmap(confusion_matrix)\n",
    "print(classification_report(y_test, y_pred))\n",
    "print('Coefficient of each feature:', classifier.coef_)\n",
    "print('Training accuracy:', classifier.score(X_tr_vector, y_tr))\n",
    "print('Test accuracy:', classifier.score(X_test_vector, y_test))\n",
    "test_accuracy.append(classifier.score(X_test_vector, y_test))\n",
    "w = classifier.coef_\n",
    "non_zero_elements = np.count_nonzero(w)\n",
    "print('No of Non-zero elements:',non_zero_elements)\n",
    "non_zero_values.append(non_zero_elements)\n",
    "C_values.append(0.0001)"
   ]
  },
  {
   "cell_type": "code",
   "execution_count": 29,
   "metadata": {},
   "outputs": [
    {
     "name": "stdout",
     "output_type": "stream",
     "text": [
      "             precision    recall  f1-score   support\n",
      "\n",
      "   negative       0.73      0.18      0.29      4670\n",
      "   positive       0.87      0.99      0.92     25330\n",
      "\n",
      "avg / total       0.85      0.86      0.82     30000\n",
      "\n",
      "Coefficient of each feature: [[ 0.          0.          0.          0.          0.34572334  0.14011832\n",
      "   0.          0.         -0.09846626 -0.23519853  0.          0.28581179\n",
      "   0.          0.          0.          0.          0.3778043   0.01055832\n",
      "   0.25179016 -0.21440397 -0.09992511 -0.36619866  0.         -0.02572893\n",
      "  -0.18022995  0.          0.          0.         -0.26961546  0.\n",
      "   0.          0.         -0.08412124 -0.13378478  0.         -0.04106009\n",
      "   0.          0.          0.08024188  0.          0.          0.\n",
      "  -0.06169154  0.          0.         -0.17975029  0.          0.\n",
      "  -0.37012104  0.        ]]\n",
      "Training accuracy: 0.8634714285714286\n",
      "Test accuracy: 0.8619\n",
      "No of Non-zero elements: 21\n"
     ]
    },
    {
     "data": {
      "image/png": "[encoded data removed]",
      "text/plain": [
       "<matplotlib.figure.Figure at 0x1a3aac50f0>"
      ]
     },
     "metadata": {},
     "output_type": "display_data"
    }
   ],
   "source": [
    "from sklearn.metrics import confusion_matrix\n",
    "from sklearn.metrics import classification_report\n",
    "import seaborn as sns\n",
    "import warnings\n",
    "\n",
    "warnings.filterwarnings(\"ignore\")\n",
    "classifier = LogisticRegression(C=0.001,penalty='l1')\n",
    "classifier.fit(X_tr_vector, y_tr)\n",
    "y_pred = classifier.predict(X_test_vector)\n",
    "confusion_matrix = confusion_matrix(y_test, y_pred)\n",
    "sns.heatmap(confusion_matrix)\n",
    "print(classification_report(y_test, y_pred))\n",
    "print('Coefficient of each feature:', classifier.coef_)\n",
    "print('Training accuracy:', classifier.score(X_tr_vector, y_tr))\n",
    "print('Test accuracy:', classifier.score(X_test_vector, y_test))\n",
    "test_accuracy.append(classifier.score(X_test_vector, y_test))\n",
    "w = classifier.coef_\n",
    "non_zero_elements = np.count_nonzero(w)\n",
    "print('No of Non-zero elements:',non_zero_elements)\n",
    "non_zero_values.append(non_zero_elements)\n",
    "C_values.append(0.001)"
   ]
  },
  {
   "cell_type": "code",
   "execution_count": 30,
   "metadata": {},
   "outputs": [
    {
     "name": "stdout",
     "output_type": "stream",
     "text": [
      "             precision    recall  f1-score   support\n",
      "\n",
      "   negative       0.69      0.37      0.48      4670\n",
      "   positive       0.89      0.97      0.93     25330\n",
      "\n",
      "avg / total       0.86      0.88      0.86     30000\n",
      "\n",
      "Coefficient of each feature: [[ 0.          0.          0.0662969   0.0823206   0.56279443  0.28840285\n",
      "  -0.00406242  0.         -0.08687807 -0.45145773  0.04482734  0.20446325\n",
      "  -0.11072668  0.13030286 -0.25722922  0.          0.4551338   0.10949184\n",
      "   0.61852658 -0.65392793 -0.26281099 -0.44205838  0.07260866 -0.09306205\n",
      "  -0.17944483  0.          0.         -0.1432359  -0.38709637  0.17806521\n",
      "  -0.03919769 -0.14403188 -0.42390683 -0.25304504  0.         -0.16455487\n",
      "  -0.06365778 -0.23887669  0.20565425 -0.096482    0.         -0.1813716\n",
      "  -0.32391798  0.         -0.1472004  -0.33894021  0.          0.05376884\n",
      "  -0.4198264  -0.08411915]]\n",
      "Training accuracy: 0.8801714285714286\n",
      "Test accuracy: 0.8766333333333334\n",
      "No of Non-zero elements: 40\n"
     ]
    },
    {
     "data": {
      "image/png": "[encoded data removed]",
      "text/plain": [
       "<matplotlib.figure.Figure at 0x1a3aac5940>"
      ]
     },
     "metadata": {},
     "output_type": "display_data"
    }
   ],
   "source": [
    "from sklearn.metrics import confusion_matrix\n",
    "from sklearn.metrics import classification_report\n",
    "import seaborn as sns\n",
    "classifier = LogisticRegression(C=0.01,penalty='l1')\n",
    "classifier.fit(X_tr_vector, y_tr)\n",
    "y_pred = classifier.predict(X_test_vector)\n",
    "confusion_matrix = confusion_matrix(y_test, y_pred)\n",
    "sns.heatmap(confusion_matrix)\n",
    "print(classification_report(y_test, y_pred))\n",
    "print('Coefficient of each feature:', classifier.coef_)\n",
    "print('Training accuracy:', classifier.score(X_tr_vector, y_tr))\n",
    "print('Test accuracy:', classifier.score(X_test_vector, y_test))\n",
    "test_accuracy.append(classifier.score(X_test_vector, y_test))\n",
    "w = classifier.coef_\n",
    "non_zero_elements = np.count_nonzero(w)\n",
    "print('No of Non-zero elements:',non_zero_elements)\n",
    "non_zero_values.append(non_zero_elements)\n",
    "C_values.append(0.01)"
   ]
  },
  {
   "cell_type": "code",
   "execution_count": 31,
   "metadata": {},
   "outputs": [
    {
     "name": "stdout",
     "output_type": "stream",
     "text": [
      "             precision    recall  f1-score   support\n",
      "\n",
      "   negative       0.69      0.39      0.50      4670\n",
      "   positive       0.90      0.97      0.93     25330\n",
      "\n",
      "avg / total       0.86      0.88      0.86     30000\n",
      "\n",
      "Coefficient of each feature: [[-0.00670447 -0.00181057  0.11900439  0.1260571   0.60037722  0.3330761\n",
      "  -0.08971257  0.         -0.10888681 -0.49628773  0.05902128  0.19450644\n",
      "  -0.14709467  0.21384376 -0.3600654  -0.01596691  0.4402349   0.09264251\n",
      "   0.66274999 -0.78823034 -0.30027089 -0.44670556  0.10530849 -0.09952014\n",
      "  -0.20721433 -0.0220113  -0.0644325  -0.22234809 -0.44773551  0.24044669\n",
      "  -0.10742067 -0.26105233 -0.50037315 -0.2880505  -0.05618643 -0.1706758\n",
      "  -0.0708499  -0.31141855  0.21640221 -0.13758403 -0.04061975 -0.23848186\n",
      "  -0.37083136  0.05665014 -0.25121848 -0.34025667 -0.02743829  0.12216869\n",
      "  -0.3920822  -0.18138124]]\n",
      "Training accuracy: 0.8813142857142857\n",
      "Test accuracy: 0.8776333333333334\n",
      "No of Non-zero elements: 49\n"
     ]
    },
    {
     "data": {
      "image/png": "[encoded data removed]",
      "text/plain": [
       "<matplotlib.figure.Figure at 0x1a4faec3c8>"
      ]
     },
     "metadata": {},
     "output_type": "display_data"
    }
   ],
   "source": [
    "from sklearn.metrics import confusion_matrix\n",
    "from sklearn.metrics import classification_report\n",
    "import seaborn as sns\n",
    "classifier = LogisticRegression(C=0.1,penalty='l1')\n",
    "classifier.fit(X_tr_vector, y_tr)\n",
    "y_pred = classifier.predict(X_test_vector)\n",
    "confusion_matrix = confusion_matrix(y_test, y_pred)\n",
    "sns.heatmap(confusion_matrix)\n",
    "print(classification_report(y_test, y_pred))\n",
    "print('Coefficient of each feature:', classifier.coef_)\n",
    "print('Training accuracy:', classifier.score(X_tr_vector, y_tr))\n",
    "print('Test accuracy:', classifier.score(X_test_vector, y_test))\n",
    "test_accuracy.append(classifier.score(X_test_vector, y_test))\n",
    "w = classifier.coef_\n",
    "non_zero_elements = np.count_nonzero(w)\n",
    "print('No of Non-zero elements:',non_zero_elements)\n",
    "non_zero_values.append(non_zero_elements)\n",
    "C_values.append(0.1)"
   ]
  },
  {
   "cell_type": "code",
   "execution_count": 32,
   "metadata": {},
   "outputs": [
    {
     "name": "stdout",
     "output_type": "stream",
     "text": [
      "             precision    recall  f1-score   support\n",
      "\n",
      "   negative       0.68      0.40      0.50      4670\n",
      "   positive       0.90      0.97      0.93     25330\n",
      "\n",
      "avg / total       0.86      0.88      0.86     30000\n",
      "\n",
      "Coefficient of each feature: [[-0.03988871  0.04187296  0.28524706  0.25006411  0.61412577  0.32318888\n",
      "  -0.08555026  0.01831849 -0.18302611 -0.58732053  0.13242987  0.13911885\n",
      "  -0.13908572  0.29558172 -0.5042532  -0.17568003  0.36851851  0.12069675\n",
      "   0.41127187 -1.06530478 -0.29969669 -0.46922508  0.10385     0.00821681\n",
      "  -0.37507485  0.00807214 -0.30677256 -0.19441567 -0.58813188  0.31643433\n",
      "  -0.20728297 -0.39394882 -0.56578683 -0.2308504  -0.10955416 -0.08088001\n",
      "  -0.01574591 -0.4093177   0.20496186 -0.10443117  0.07585913 -0.28216484\n",
      "  -0.40421694  0.22564921 -0.23929105 -0.34385052  0.03029752  0.22309997\n",
      "  -0.34039193 -0.29252212]]\n",
      "Training accuracy: 0.8814428571428572\n",
      "Test accuracy: 0.8776333333333334\n",
      "No of Non-zero elements: 50\n"
     ]
    },
    {
     "data": {
      "image/png": "[encoded data removed]",
      "text/plain": [
       "<matplotlib.figure.Figure at 0x1a4fb6f7f0>"
      ]
     },
     "metadata": {},
     "output_type": "display_data"
    }
   ],
   "source": [
    "from sklearn.metrics import confusion_matrix\n",
    "from sklearn.metrics import classification_report\n",
    "import seaborn as sns\n",
    "classifier = LogisticRegression(C=1,penalty='l1')\n",
    "classifier.fit(X_tr_vector, y_tr)\n",
    "y_pred = classifier.predict(X_test_vector)\n",
    "confusion_matrix = confusion_matrix(y_test, y_pred)\n",
    "sns.heatmap(confusion_matrix)\n",
    "print(classification_report(y_test, y_pred))\n",
    "print('Coefficient of each feature:', classifier.coef_)\n",
    "print('Training accuracy:', classifier.score(X_tr_vector, y_tr))\n",
    "print('Test accuracy:', classifier.score(X_test_vector, y_test))\n",
    "test_accuracy.append(classifier.score(X_test_vector, y_test))\n",
    "w = classifier.coef_\n",
    "non_zero_elements = np.count_nonzero(w)\n",
    "print('No of Non-zero elements:',non_zero_elements)\n",
    "non_zero_values.append(non_zero_elements)\n",
    "C_values.append(1)"
   ]
  },
  {
   "cell_type": "code",
   "execution_count": 33,
   "metadata": {},
   "outputs": [
    {
     "name": "stdout",
     "output_type": "stream",
     "text": [
      "             precision    recall  f1-score   support\n",
      "\n",
      "   negative       0.68      0.40      0.50      4670\n",
      "   positive       0.90      0.97      0.93     25330\n",
      "\n",
      "avg / total       0.86      0.88      0.86     30000\n",
      "\n",
      "Coefficient of each feature: [[-0.04408825  0.04961163  0.30702654  0.26678346  0.61575367  0.32164043\n",
      "  -0.08466555  0.02181306 -0.19266129 -0.59943774  0.14222705  0.13234685\n",
      "  -0.13821822  0.30522233 -0.52235678 -0.19689069  0.35954451  0.12441943\n",
      "   0.37817342 -1.10118871 -0.29987927 -0.47250738  0.10345639  0.0235542\n",
      "  -0.39710639  0.01286366 -0.338622   -0.19056569 -0.60581008  0.32604039\n",
      "  -0.22011418 -0.41172459 -0.57385687 -0.22283928 -0.11647036 -0.06934994\n",
      "  -0.00858566 -0.42210101  0.20370634 -0.09954367  0.09197106 -0.28745843\n",
      "  -0.40846025  0.24798199 -0.23679164 -0.34377281  0.03929455  0.23653047\n",
      "  -0.3337481  -0.30668488]]\n",
      "Training accuracy: 0.8815857142857143\n",
      "Test accuracy: 0.8775333333333334\n",
      "No of Non-zero elements: 50\n"
     ]
    },
    {
     "data": {
      "image/png": "[encoded data removed]",
      "text/plain": [
       "<matplotlib.figure.Figure at 0x1a4fc97668>"
      ]
     },
     "metadata": {},
     "output_type": "display_data"
    }
   ],
   "source": [
    "from sklearn.metrics import confusion_matrix\n",
    "from sklearn.metrics import classification_report\n",
    "import seaborn as sns\n",
    "classifier = LogisticRegression(C=10,penalty='l1')\n",
    "classifier.fit(X_tr_vector, y_tr)\n",
    "y_pred = classifier.predict(X_test_vector)\n",
    "confusion_matrix = confusion_matrix(y_test, y_pred)\n",
    "sns.heatmap(confusion_matrix)\n",
    "print(classification_report(y_test, y_pred))\n",
    "print('Coefficient of each feature:', classifier.coef_)\n",
    "print('Training accuracy:', classifier.score(X_tr_vector, y_tr))\n",
    "print('Test accuracy:', classifier.score(X_test_vector, y_test))\n",
    "test_accuracy.append(classifier.score(X_test_vector, y_test))\n",
    "w = classifier.coef_\n",
    "non_zero_elements = np.count_nonzero(w)\n",
    "print('No of Non-zero elements:',non_zero_elements)\n",
    "non_zero_values.append(non_zero_elements)\n",
    "C_values.append(10)"
   ]
  },
  {
   "cell_type": "code",
   "execution_count": 34,
   "metadata": {},
   "outputs": [
    {
     "name": "stdout",
     "output_type": "stream",
     "text": [
      "             precision    recall  f1-score   support\n",
      "\n",
      "   negative       0.68      0.40      0.50      4670\n",
      "   positive       0.90      0.97      0.93     25330\n",
      "\n",
      "avg / total       0.86      0.88      0.86     30000\n",
      "\n",
      "Coefficient of each feature: [[-0.0447887   0.05056427  0.30973519  0.26883788  0.61600215  0.32143794\n",
      "  -0.08447293  0.02249954 -0.19379796 -0.60091774  0.14340369  0.13138256\n",
      "  -0.13805916  0.30657199 -0.52462653 -0.19952423  0.35821394  0.12501326\n",
      "   0.37380741 -1.10599423 -0.29974877 -0.47284417  0.10341613  0.0256956\n",
      "  -0.4001952   0.01331499 -0.34253763 -0.18995489 -0.60825608  0.32732154\n",
      "  -0.22180544 -0.41382333 -0.57505664 -0.22181648 -0.1174327  -0.06799132\n",
      "  -0.00741719 -0.42381216  0.20345517 -0.09883273  0.09444785 -0.28787894\n",
      "  -0.40894457  0.25070017 -0.23663998 -0.34362535  0.04035089  0.23829559\n",
      "  -0.33288981 -0.30865943]]\n",
      "Training accuracy: 0.8816571428571428\n",
      "Test accuracy: 0.8775\n",
      "No of Non-zero elements: 50\n"
     ]
    },
    {
     "data": {
      "image/png": "[encoded data removed]",
      "text/plain": [
       "<matplotlib.figure.Figure at 0x1a5335f908>"
      ]
     },
     "metadata": {},
     "output_type": "display_data"
    }
   ],
   "source": [
    "from sklearn.metrics import confusion_matrix\n",
    "from sklearn.metrics import classification_report\n",
    "import seaborn as sns\n",
    "classifier = LogisticRegression(C=100,penalty='l1')\n",
    "classifier.fit(X_tr_vector, y_tr)\n",
    "y_pred = classifier.predict(X_test_vector)\n",
    "confusion_matrix = confusion_matrix(y_test, y_pred)\n",
    "sns.heatmap(confusion_matrix)\n",
    "print(classification_report(y_test, y_pred))\n",
    "print('Coefficient of each feature:', classifier.coef_)\n",
    "print('Training accuracy:', classifier.score(X_tr_vector, y_tr))\n",
    "print('Test accuracy:', classifier.score(X_test_vector, y_test))\n",
    "test_accuracy.append(classifier.score(X_test_vector, y_test))\n",
    "w = classifier.coef_\n",
    "non_zero_elements = np.count_nonzero(w)\n",
    "print('No of Non-zero elements:',non_zero_elements)\n",
    "non_zero_values.append(non_zero_elements)\n",
    "C_values.append(100)"
   ]
  },
  {
   "cell_type": "markdown",
   "metadata": {},
   "source": [
    "# C vs Sparsity"
   ]
  },
  {
   "cell_type": "code",
   "execution_count": 35,
   "metadata": {},
   "outputs": [
    {
     "data": {
      "image/png": "[encoded data removed]",
      "text/plain": [
       "<matplotlib.figure.Figure at 0x1a4fc9eba8>"
      ]
     },
     "metadata": {},
     "output_type": "display_data"
    }
   ],
   "source": [
    "plt.plot(C_values, non_zero_values)\n",
    "plt.xlabel('C')\n",
    "plt.ylabel('Sparsity')\n",
    "plt.show()"
   ]
  },
  {
   "cell_type": "markdown",
   "metadata": {},
   "source": [
    "# C vs Test Accuracy"
   ]
  },
  {
   "cell_type": "code",
   "execution_count": 36,
   "metadata": {},
   "outputs": [
    {
     "data": {
      "image/png": "[encoded data removed]",
      "text/plain": [
       "<matplotlib.figure.Figure at 0x1a4fb9bfd0>"
      ]
     },
     "metadata": {},
     "output_type": "display_data"
    }
   ],
   "source": [
    "plt.plot(C_values, test_accuracy)\n",
    "plt.xlabel('C')\n",
    "plt.ylabel('accuracy')\n",
    "plt.show()"
   ]
  },
  {
   "cell_type": "markdown",
   "metadata": {},
   "source": [
    "# Checking Multicollinearity"
   ]
  },
  {
   "cell_type": "code",
   "execution_count": 38,
   "metadata": {},
   "outputs": [
    {
     "name": "stdout",
     "output_type": "stream",
     "text": [
      "-0.011682088299242027\n"
     ]
    }
   ],
   "source": [
    "#adding epsilon to train data for multicollinearity check\n",
    "import scipy.stats\n",
    "X_train = X_tr_vector.copy()\n",
    "#X_train.todense()\n",
    "print(scipy.stats.norm.rvs(loc=0, scale=0.01))\n",
    "X_train.data += scipy.stats.norm.rvs(loc=0, scale=0.01)"
   ]
  },
  {
   "cell_type": "code",
   "execution_count": 39,
   "metadata": {},
   "outputs": [
    {
     "name": "stdout",
     "output_type": "stream",
     "text": [
      "             precision    recall  f1-score   support\n",
      "\n",
      "   negative       0.76      0.10      0.18      4670\n",
      "   positive       0.86      0.99      0.92     25330\n",
      "\n",
      "avg / total       0.84      0.86      0.81     30000\n",
      "\n",
      "Coefficient of each feature: [[-0.00287079 -0.01260627  0.07502428  0.01472845  0.20427124  0.12065061\n",
      "   0.04757557  0.09231643 -0.09525817 -0.104686    0.07532422  0.14198397\n",
      "  -0.06877499  0.03890592 -0.02273308 -0.06705268  0.16370965  0.04755213\n",
      "   0.17093158 -0.17070424 -0.10483075 -0.19564094  0.05270135 -0.07653927\n",
      "  -0.1578626   0.04736313  0.00874468  0.00297019 -0.14293439  0.0920632\n",
      "  -0.01510977 -0.00949208 -0.09718209 -0.11904097 -0.0451937  -0.10451352\n",
      "  -0.08868521 -0.0199895   0.08907949 -0.04864518  0.01160389 -0.04224785\n",
      "  -0.11909253 -0.05467344 -0.02473523 -0.10879113 -0.05647062  0.04688271\n",
      "  -0.18866737  0.00189825]]\n",
      "Training accuracy: 0.8564428571428572\n",
      "Test accuracy: 0.8552333333333333\n"
     ]
    },
    {
     "data": {
      "image/png": "[encoded data removed]",
      "text/plain": [
       "<matplotlib.figure.Figure at 0x1a33645ef0>"
      ]
     },
     "metadata": {},
     "output_type": "display_data"
    }
   ],
   "source": [
    "from sklearn.metrics import confusion_matrix\n",
    "from sklearn.metrics import classification_report\n",
    "import seaborn as sns\n",
    "classifier = LogisticRegression(C=0.0001,penalty='l2')\n",
    "classifier.fit(X_train, y_tr)\n",
    "y_pred = classifier.predict(X_test_vector)\n",
    "confusion_matrix = confusion_matrix(y_test, y_pred)\n",
    "sns.heatmap(confusion_matrix)\n",
    "print(classification_report(y_test, y_pred))\n",
    "post_weights = classifier.coef_\n",
    "print('Coefficient of each feature:', classifier.coef_)\n",
    "print('Training accuracy:', classifier.score(X_train, y_tr))\n",
    "print('Test accuracy:', classifier.score(X_test_vector, y_test))"
   ]
  },
  {
   "cell_type": "code",
   "execution_count": 40,
   "metadata": {},
   "outputs": [
    {
     "data": {
      "text/plain": [
       "array([[-0.05116482,  0.06306457,  0.34967999,  0.29904146,  0.61883563,\n",
       "         0.31820175, -0.08112134,  0.02828017, -0.2112174 , -0.6226364 ,\n",
       "         0.16072883,  0.11774838, -0.13528494,  0.32386764, -0.55846257,\n",
       "        -0.23815412,  0.34106275,  0.1324485 ,  0.31042386, -1.17148848,\n",
       "        -0.299447  , -0.47844105,  0.10205708,  0.05326872, -0.44098528,\n",
       "         0.02188769, -0.40171883, -0.18084569, -0.6415288 ,  0.34428858,\n",
       "        -0.2445913 , -0.44428067, -0.58957956, -0.20641247, -0.12960084,\n",
       "        -0.04507886,  0.00634441, -0.44581185,  0.20028773, -0.08981917,\n",
       "         0.12477555, -0.29700911, -0.41631294,  0.28992171, -0.22992289,\n",
       "        -0.344038  ,  0.05608099,  0.26236406, -0.32035554, -0.33352261]])"
      ]
     },
     "execution_count": 40,
     "metadata": {},
     "output_type": "execute_result"
    }
   ],
   "source": [
    "pre_weights"
   ]
  },
  {
   "cell_type": "code",
   "execution_count": 41,
   "metadata": {},
   "outputs": [
    {
     "data": {
      "text/plain": [
       "array([[-0.00287079, -0.01260627,  0.07502428,  0.01472845,  0.20427124,\n",
       "         0.12065061,  0.04757557,  0.09231643, -0.09525817, -0.104686  ,\n",
       "         0.07532422,  0.14198397, -0.06877499,  0.03890592, -0.02273308,\n",
       "        -0.06705268,  0.16370965,  0.04755213,  0.17093158, -0.17070424,\n",
       "        -0.10483075, -0.19564094,  0.05270135, -0.07653927, -0.1578626 ,\n",
       "         0.04736313,  0.00874468,  0.00297019, -0.14293439,  0.0920632 ,\n",
       "        -0.01510977, -0.00949208, -0.09718209, -0.11904097, -0.0451937 ,\n",
       "        -0.10451352, -0.08868521, -0.0199895 ,  0.08907949, -0.04864518,\n",
       "         0.01160389, -0.04224785, -0.11909253, -0.05467344, -0.02473523,\n",
       "        -0.10879113, -0.05647062,  0.04688271, -0.18866737,  0.00189825]])"
      ]
     },
     "execution_count": 41,
     "metadata": {},
     "output_type": "execute_result"
    }
   ],
   "source": [
    "post_weights"
   ]
  },
  {
   "cell_type": "code",
   "execution_count": 42,
   "metadata": {},
   "outputs": [],
   "source": [
    "difference =[]\n",
    "for i in post_weights:\n",
    "    difference.append(np.abs(pre_weights-post_weights))"
   ]
  },
  {
   "cell_type": "code",
   "execution_count": 43,
   "metadata": {},
   "outputs": [
    {
     "data": {
      "text/plain": [
       "[<matplotlib.lines.Line2D at 0x1a33637208>]"
      ]
     },
     "execution_count": 43,
     "metadata": {},
     "output_type": "execute_result"
    },
    {
     "data": {
      "image/png": "[encoded data removed]",
      "text/plain": [
       "<matplotlib.figure.Figure at 0x1a533dd908>"
      ]
     },
     "metadata": {},
     "output_type": "display_data"
    }
   ],
   "source": [
    "counts, bin_edges = np.histogram(difference, bins=500, density = True)\n",
    "pdf = counts/(sum(counts))\n",
    "cdf = np.cumsum(pdf)\n",
    "plt.plot(bin_edges[1:], cdf)"
   ]
  },
  {
   "cell_type": "markdown",
   "metadata": {},
   "source": [
    "# Conclusion"
   ]
  },
  {
   "cell_type": "code",
   "execution_count": 45,
   "metadata": {},
   "outputs": [
    {
     "name": "stdout",
     "output_type": "stream",
     "text": [
      "+----------------+-------------------+-------------+---------------+---------------+\n",
      "|   CV Method    |     Optimal C     | regularizer |  Train Error  |   Test Error  |\n",
      "+----------------+-------------------+-------------+---------------+---------------+\n",
      "|  GridSearchCV  |         1         |      l2     | 0.11837142857 | 0.12246666666 |\n",
      "|  GridSearchCV  |         1         |      l1     | 0.11857142857 | 0.12246666666 |\n",
      "| RandomSearchCV | 510.5950456056802 |      l2     |     0.1186    | 0.12253333333 |\n",
      "| RandomSearchCV | 510.5950456056802 |      l1     | 0.11837142857 | 0.12246666666 |\n",
      "+----------------+-------------------+-------------+---------------+---------------+\n",
      "**C Vs Sparsity with l1 regularizer**\n",
      "+--------+----------+\n",
      "|   C    | Sparsity |\n",
      "+--------+----------+\n",
      "| 0.0001 |    2     |\n",
      "| 0.001  |    21    |\n",
      "|  0.01  |    40    |\n",
      "|  0.1   |    49    |\n",
      "|   1    |    50    |\n",
      "|   10   |    50    |\n",
      "|  100   |    50    |\n",
      "+--------+----------+\n",
      "->Features are multicollinear hence |wj| can not be used for Feature Importance\n"
     ]
    }
   ],
   "source": [
    "from prettytable import PrettyTable\n",
    "t = PrettyTable()\n",
    "t.field_names = ['CV Method', 'Optimal C','regularizer','Train Error','Test Error']\n",
    "t.add_row([\"GridSearchCV\",\"1\",\"l2\",\"0.11837142857\",\"0.12246666666\"])\n",
    "t.add_row([\"GridSearchCV\",\"1\",\"l1\",\"0.11857142857\",\"0.12246666666\"])\n",
    "t.add_row([\"RandomSearchCV\",\"510.5950456056802\",\"l2\",\"0.1186\",\"0.12253333333\"])\n",
    "t.add_row([\"RandomSearchCV\",\"510.5950456056802\",\"l1\",\"0.11837142857\",\"0.12246666666\"])\n",
    "print(t)\n",
    "print(\"**C Vs Sparsity with l1 regularizer**\")\n",
    "t1 = PrettyTable()\n",
    "t1.field_names = ['C', 'Sparsity']\n",
    "t1.add_row([\"0.0001\",\"2\"])\n",
    "t1.add_row([\"0.001\",\"21\"])\n",
    "t1.add_row([\"0.01\",\"40\"])\n",
    "t1.add_row([\"0.1\",\"49\"])\n",
    "t1.add_row([\"1\",\"50\"])\n",
    "t1.add_row([\"10\",\"50\"])\n",
    "t1.add_row([\"100\",\"50\"])\n",
    "print(t1)\n",
    "print(\"->Features are multicollinear hence |wj| can not be used for Feature Importance\")\n",
    "\n",
    "\n"
   ]
  }
 ],
 "metadata": {
  "kernelspec": {
   "display_name": "Python 3",
   "language": "python",
   "name": "python3"
  },
  "language_info": {
   "codemirror_mode": {
    "name": "ipython",
    "version": 3
   },
   "file_extension": ".py",
   "mimetype": "text/x-python",
   "name": "python",
   "nbconvert_exporter": "python",
   "pygments_lexer": "ipython3",
   "version": "3.6.4"
  }
 },
 "nbformat": 4,
 "nbformat_minor": 2
}
