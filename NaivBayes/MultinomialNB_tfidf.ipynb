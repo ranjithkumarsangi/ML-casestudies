{
 "cells": [
  {
   "cell_type": "markdown",
   "metadata": {},
   "source": [
    "# Data Loading"
   ]
  },
  {
   "cell_type": "code",
   "execution_count": 4,
   "metadata": {},
   "outputs": [],
   "source": [
    "%matplotlib inline\n",
    "\n",
    "import sqlite3\n",
    "import pandas as pd\n",
    "import numpy as np\n",
    "import nltk\n",
    "import string\n",
    "import matplotlib.pyplot as plt\n",
    "import seaborn as sns\n",
    "from sklearn.feature_extraction.text import TfidfTransformer\n",
    "from sklearn.feature_extraction.text import TfidfVectorizer\n",
    "\n",
    "from sklearn.feature_extraction.text import CountVectorizer\n",
    "from sklearn.metrics import confusion_matrix\n",
    "from sklearn import metrics\n",
    "from sklearn.metrics import roc_curve, auc\n",
    "from nltk.stem.porter import PorterStemmer\n",
    "\n",
    "\n",
    "\n",
    "# using the SQLite Table to read data.\n",
    "con = sqlite3.connect('./amazon-fine-food-reviews/database.sqlite') \n",
    "\n",
    "\n",
    "\n",
    "#filtering only positive and negative reviews i.e. \n",
    "# not taking into consideration those reviews with Score=3\n",
    "filtered_data = pd.read_sql_query(\"\"\"\n",
    "SELECT *\n",
    "FROM Reviews\n",
    "WHERE Score != 3\n",
    "\"\"\", con) \n",
    "\n",
    "\n",
    "\n",
    "\n",
    "# Give reviews with Score>3 a positive rating, and reviews with a score<3 a negative rating.\n",
    "def partition(x):\n",
    "    if x < 3:\n",
    "        return 'negative'\n",
    "    return 'positive'\n",
    "\n",
    "#changing reviews with score less than 3 to be positive and vice-versa\n",
    "actualScore = filtered_data['Score']\n",
    "positiveNegative = actualScore.map(partition) \n",
    "filtered_data['Score'] = positiveNegative"
   ]
  },
  {
   "cell_type": "markdown",
   "metadata": {},
   "source": [
    "# Data Cleaning"
   ]
  },
  {
   "cell_type": "code",
   "execution_count": 5,
   "metadata": {},
   "outputs": [],
   "source": [
    "display= pd.read_sql_query(\"\"\"\n",
    "SELECT *\n",
    "FROM Reviews\n",
    "WHERE Score != 3 AND UserId=\"AR5J8UI46CURR\"\n",
    "ORDER BY ProductID\n",
    "\"\"\", con)"
   ]
  },
  {
   "cell_type": "code",
   "execution_count": 6,
   "metadata": {},
   "outputs": [],
   "source": [
    "#Sorting data according to ProductId in ascending order\n",
    "sorted_data=filtered_data.sort_values('ProductId', axis=0, ascending=True, inplace=False, kind='quicksort', na_position='last')"
   ]
  },
  {
   "cell_type": "code",
   "execution_count": 7,
   "metadata": {},
   "outputs": [
    {
     "data": {
      "text/plain": [
       "(364173, 10)"
      ]
     },
     "execution_count": 7,
     "metadata": {},
     "output_type": "execute_result"
    }
   ],
   "source": [
    "#Deduplication of entries\n",
    "final=sorted_data.drop_duplicates(subset={\"UserId\",\"ProfileName\",\"Time\",\"Text\"}, keep='first', inplace=False)\n",
    "final.shape"
   ]
  },
  {
   "cell_type": "code",
   "execution_count": 8,
   "metadata": {},
   "outputs": [],
   "source": [
    "final=final[final.HelpfulnessNumerator<=final.HelpfulnessDenominator]"
   ]
  },
  {
   "cell_type": "code",
   "execution_count": 9,
   "metadata": {},
   "outputs": [
    {
     "name": "stdout",
     "output_type": "stream",
     "text": [
      "(364171, 10)\n"
     ]
    },
    {
     "data": {
      "text/plain": [
       "positive    307061\n",
       "negative     57110\n",
       "Name: Score, dtype: int64"
      ]
     },
     "execution_count": 9,
     "metadata": {},
     "output_type": "execute_result"
    }
   ],
   "source": [
    "#Before starting the next phase of preprocessing lets see the number of entries left\n",
    "print(final.shape)\n",
    "\n",
    "#How many positive and negative reviews are present in our dataset?\n",
    "final['Score'].value_counts()"
   ]
  },
  {
   "cell_type": "markdown",
   "metadata": {},
   "source": [
    "# Text Preprocessing"
   ]
  },
  {
   "cell_type": "code",
   "execution_count": 10,
   "metadata": {},
   "outputs": [
    {
     "name": "stdout",
     "output_type": "stream",
     "text": [
      "6\n",
      "I set aside at least an hour each day to read to my son (3 y/o). At this point, I consider myself a connoisseur of children's books and this is one of the best. Santa Clause put this under the tree. Since then, we've read it perpetually and he loves it.<br /><br />First, this book taught him the months of the year.<br /><br />Second, it's a pleasure to read. Well suited to 1.5 y/o old to 4+.<br /><br />Very few children's books are worth owning. Most should be borrowed from the library. This book, however, deserves a permanent spot on your shelf. Sendak's best.\n"
     ]
    }
   ],
   "source": [
    "# find sentences containing HTML tags\n",
    "import re\n",
    "i=0;\n",
    "for sent in final['Text'].values:\n",
    "    if (len(re.findall('<.*?>', sent))):\n",
    "        print(i)\n",
    "        print(sent)\n",
    "        break;\n",
    "    i += 1;    \n"
   ]
  },
  {
   "cell_type": "code",
   "execution_count": 11,
   "metadata": {},
   "outputs": [],
   "source": [
    "import re\n",
    "# Tutorial about Python regular expressions: https://pymotw.com/2/re/\n",
    "import string\n",
    "from nltk.corpus import stopwords\n",
    "from nltk.stem import PorterStemmer\n",
    "from nltk.stem.wordnet import WordNetLemmatizer\n",
    "\n",
    "stop = set(stopwords.words('english')) #set of stopwords\n",
    "sno = nltk.stem.SnowballStemmer('english') #initialising the snowball stemmer\n",
    "\n",
    "def cleanhtml(sentence): #function to clean the word of any html-tags\n",
    "    cleanr = re.compile('<.*?>')\n",
    "    cleantext = re.sub(cleanr, ' ', sentence)\n",
    "    return cleantext\n",
    "def cleanpunc(sentence): #function to clean the word of any punctuation or special characters\n",
    "    cleaned = re.sub(r'[?|!|\\'|\"|#]',r'',sentence)\n",
    "    cleaned = re.sub(r'[.|,|)|(|\\|/]',r' ',cleaned)\n",
    "    return  cleaned"
   ]
  },
  {
   "cell_type": "code",
   "execution_count": 12,
   "metadata": {},
   "outputs": [],
   "source": [
    "#Code for implementing step-by-step the checks mentioned in the pre-processing phase\n",
    "# this code takes a while to run as it needs to run on 500k sentences.\n",
    "i=0\n",
    "str1=' '\n",
    "final_string=[]\n",
    "all_positive_words=[] # store words from +ve reviews here\n",
    "all_negative_words=[] # store words from -ve reviews here.\n",
    "s=''\n",
    "for sent in final['Text'].values:\n",
    "    filtered_sentence=[]\n",
    "    #print(sent);\n",
    "    sent=cleanhtml(sent) # remove HTMl tags\n",
    "    for w in sent.split():\n",
    "        for cleaned_words in cleanpunc(w).split():\n",
    "            if((cleaned_words.isalpha()) & (len(cleaned_words)>2)):    \n",
    "                if(cleaned_words.lower() not in stop):\n",
    "                    s=(sno.stem(cleaned_words.lower())).encode('utf8')\n",
    "                    filtered_sentence.append(s)\n",
    "                    if (final['Score'].values)[i] == 'positive': \n",
    "                        all_positive_words.append(s) #list of all words used to describe positive reviews\n",
    "                    if(final['Score'].values)[i] == 'negative':\n",
    "                        all_negative_words.append(s) #list of all words used to describe negative reviews reviews\n",
    "                else:\n",
    "                    continue\n",
    "            else:\n",
    "                continue \n",
    "    #print(filtered_sentence)\n",
    "    str1 = b\" \".join(filtered_sentence) #final string of cleaned words\n",
    "    #print(\"***********************************************************************\")\n",
    "    \n",
    "    final_string.append(str1)\n",
    "    i+=1"
   ]
  },
  {
   "cell_type": "code",
   "execution_count": 13,
   "metadata": {},
   "outputs": [],
   "source": [
    "final['CleanedText']=final_string #adding a column of CleanedText which displays the data after pre-processing of the review "
   ]
  },
  {
   "cell_type": "markdown",
   "metadata": {},
   "source": [
    "# Time Based Sorting"
   ]
  },
  {
   "cell_type": "code",
   "execution_count": 14,
   "metadata": {},
   "outputs": [],
   "source": [
    "final=final.sort_values('Time', axis=0, ascending=True, inplace=False, kind='quicksort', na_position='last')"
   ]
  },
  {
   "cell_type": "code",
   "execution_count": 15,
   "metadata": {},
   "outputs": [],
   "source": [
    "scores = final['Score']"
   ]
  },
  {
   "cell_type": "markdown",
   "metadata": {},
   "source": [
    "# Split the Data Set into train and test"
   ]
  },
  {
   "cell_type": "code",
   "execution_count": 16,
   "metadata": {},
   "outputs": [],
   "source": [
    "# ============================== loading libraries ===========================================\n",
    "import numpy as np\n",
    "import pandas as pd\n",
    "import matplotlib.pyplot as plt\n",
    "from sklearn.cross_validation import train_test_split\n",
    "from sklearn.metrics import accuracy_score\n",
    "from sklearn.cross_validation import cross_val_score\n",
    "from collections import Counter\n",
    "from sklearn.metrics import accuracy_score\n",
    "from sklearn import cross_validation\n",
    "from sklearn.naive_bayes import BernoulliNB\n",
    "import warnings\n",
    "# =============================================================================================\n",
    "#supress warnings\n",
    "warnings.filterwarnings(\"ignore\")\n",
    "# split the data set into train and test\n",
    "X_1, X_test, y_1, y_test = cross_validation.train_test_split(final['Text'].values, scores, test_size=0.3, random_state=0)\n",
    "\n",
    "# split the train data set into cross validation train and cross validation test\n",
    "X_tr, X_cv, y_tr, y_cv = cross_validation.train_test_split(X_1, y_1, test_size=0.3)\n",
    "\n",
    "tf_idf_vect = TfidfVectorizer(ngram_range=(1,2))\n",
    "final_tf_idf = tf_idf_vect.fit(X_tr)\n",
    "X_tr_vector = final_tf_idf.transform(X_tr)\n",
    "X_cv_vector = final_tf_idf.transform(X_cv)\n",
    "X_test_vector = final_tf_idf.transform(X_test)\n",
    "\n"
   ]
  },
  {
   "cell_type": "markdown",
   "metadata": {},
   "source": [
    "# CV Accuracy"
   ]
  },
  {
   "cell_type": "code",
   "execution_count": 17,
   "metadata": {},
   "outputs": [
    {
     "data": {
      "image/png": "[encoded data removed]",
      "text/plain": [
       "<matplotlib.figure.Figure at 0x47eb44cd68>"
      ]
     },
     "metadata": {},
     "output_type": "display_data"
    }
   ],
   "source": [
    "from sklearn.naive_bayes import MultinomialNB\n",
    "cv_scores = []\n",
    "alpha_values =[]\n",
    "i = .001\n",
    "while i <=1:\n",
    "    \n",
    "    clf = MultinomialNB(alpha=i)\n",
    "    \n",
    "    clf.fit(X_tr_vector, y_tr)\n",
    "\n",
    "    # predict the response on the crossvalidation train\n",
    "    pred = clf.predict(X_cv_vector)\n",
    "\n",
    "    # evaluate CV accuracy\n",
    "    acc = accuracy_score(y_cv, pred, normalize=True) * float(100)\n",
    "    cv_scores.append(acc)\n",
    "    alpha_values.append(i)\n",
    "    i +=.005\n",
    "plt.plot(alpha_values, cv_scores)\n",
    "plt.xlabel('alpha_values')\n",
    "plt.ylabel('cv accuracy scores')\n",
    "plt.show()"
   ]
  },
  {
   "cell_type": "markdown",
   "metadata": {},
   "source": [
    "# Test Accuarcy"
   ]
  },
  {
   "cell_type": "code",
   "execution_count": 18,
   "metadata": {},
   "outputs": [
    {
     "name": "stdout",
     "output_type": "stream",
     "text": [
      "\n",
      "****Test accuracy for alpha = 0.006000 is 91.291693%\n"
     ]
    }
   ],
   "source": [
    "clf = MultinomialNB(alpha=0.006000)\n",
    "clf.fit(X_tr_vector, y_tr)\n",
    "pred = clf.predict(X_test_vector)\n",
    "acc = accuracy_score(y_test, pred, normalize=True) * float(100)\n",
    "print('\\n****Test accuracy for alpha = 0.006000 is %f%%' % (acc))"
   ]
  },
  {
   "cell_type": "markdown",
   "metadata": {},
   "source": [
    "# Optimal alpha"
   ]
  },
  {
   "cell_type": "code",
   "execution_count": 19,
   "metadata": {},
   "outputs": [
    {
     "name": "stdout",
     "output_type": "stream",
     "text": [
      "\n",
      "The optimal alpha is 0.006000.\n"
     ]
    },
    {
     "data": {
      "image/png": "[encoded data removed]",
      "text/plain": [
       "<matplotlib.figure.Figure at 0x47aa5953c8>"
      ]
     },
     "metadata": {},
     "output_type": "display_data"
    },
    {
     "name": "stdout",
     "output_type": "stream",
     "text": [
      "the misclassification error for each alpha value is :  [0.107 0.083 0.14  0.152 0.155 0.156 0.156 0.156 0.156 0.156 0.156]\n"
     ]
    }
   ],
   "source": [
    "# creating odd list of alpha for NB\n",
    "alpha_values = [0.1,0.006,.2,.3,.4,.5,.6,.7,.8,.9,1]\n",
    "\n",
    "# empty list that will hold cv scores\n",
    "cv_scores = []\n",
    "\n",
    "# perform 10-fold cross validation\n",
    "for a in alpha_values:\n",
    "    clf = MultinomialNB(alpha=a)\n",
    "    scores = cross_val_score(clf, X_tr_vector, y_tr, cv=10, scoring='accuracy')\n",
    "    cv_scores.append(scores.mean())\n",
    "# changing to misclassification error\n",
    "MSE = [1 - x for x in cv_scores]\n",
    "\n",
    "# determining best alpha\n",
    "optimal_alpha = alpha_values[MSE.index(min(MSE))]\n",
    "print('\\nThe optimal alpha is %f.' % optimal_alpha)\n",
    "# plot misclassification error vs alpha\n",
    "plt.plot(alpha_values, MSE)\n",
    "\n",
    "for xy in zip(alpha_values, np.round(MSE,3)):\n",
    "    plt.annotate('(%s, %s)' % xy, xy=xy, textcoords='data')\n",
    "\n",
    "plt.xlabel('alpha values')\n",
    "plt.ylabel('Misclassification Error')\n",
    "plt.show()\n",
    "\n",
    "print(\"the misclassification error for each alpha value is : \", np.round(MSE,3))"
   ]
  },
  {
   "cell_type": "markdown",
   "metadata": {},
   "source": [
    "# Most Important features"
   ]
  },
  {
   "cell_type": "code",
   "execution_count": 20,
   "metadata": {},
   "outputs": [
    {
     "name": "stdout",
     "output_type": "stream",
     "text": [
      "Important words in negative reviews\n",
      "negative 1291.4140246952322 the\n",
      "negative 848.4659422567983 it\n",
      "negative 730.0483386775591 and\n",
      "negative 721.9951043790128 to\n",
      "negative 656.0796059559023 of\n",
      "negative 652.7736894624535 br\n",
      "negative 622.3703730883636 this\n",
      "negative 619.116390948637 not\n",
      "negative 594.5216855908126 was\n",
      "negative 522.8958803912823 is\n",
      "-----------------------------------------\n",
      "Important words in positive reviews\n",
      "positive 5877.660057158646 the\n",
      "positive 4707.391284643616 and\n",
      "positive 4642.18663739555 it\n",
      "positive 3877.295677473296 to\n",
      "positive 3390.3621874640553 is\n",
      "positive 3183.6990066874223 br\n",
      "positive 3165.145227204504 this\n",
      "positive 3136.3383401294077 of\n",
      "positive 2733.3236813691515 for\n",
      "positive 2633.6576029582598 in\n"
     ]
    }
   ],
   "source": [
    "def important_features(vectorizer,classifier,n=20):\n",
    "    class_labels = classifier.classes_\n",
    "    feature_names =vectorizer.get_feature_names()\n",
    "    topn_class1 = sorted(zip(classifier.feature_count_[0], feature_names),reverse=True)[:n]\n",
    "    topn_class2 = sorted(zip(classifier.feature_count_[1], feature_names),reverse=True)[:n]\n",
    "    print(\"Important words in negative reviews\")\n",
    "    for coef, feat in topn_class1:\n",
    "        print(class_labels[0], coef, feat)\n",
    "    print(\"-----------------------------------------\")\n",
    "    print(\"Important words in positive reviews\")\n",
    "    for coef, feat in topn_class2:\n",
    "        print(class_labels[1], coef, feat) \n",
    "    \n",
    "clf = MultinomialNB(alpha=optimal_alpha)\n",
    "clf.fit(X_tr_vector, y_tr)\n",
    "important_features(tf_idf_vect,clf,10)"
   ]
  },
  {
   "cell_type": "markdown",
   "metadata": {},
   "source": [
    "# Accuracy,Confusion Matrix,Precision_score,recall_score & f1_score"
   ]
  },
  {
   "cell_type": "code",
   "execution_count": 21,
   "metadata": {},
   "outputs": [
    {
     "name": "stdout",
     "output_type": "stream",
     "text": [
      "\n",
      "****Test accuracy for optimal alpha is 91.291693%\n",
      "\n",
      "****Confusion matrix**\n",
      "[[ 8728  8485]\n",
      " [ 1029 91010]]\n",
      "\n",
      "****precision score using average=macro**\n",
      "0.9046282939668324\n",
      "\n",
      "****precision score using average=micro**\n",
      "0.9129169260059312\n",
      "\n",
      "****precision score using average=weighted**\n",
      "0.9115395821720254\n",
      "\n",
      "****precision score using average=None**\n",
      "[0.89453726 0.91471933]\n",
      "\n",
      "****recall score using average=macro**\n",
      "0.7479392876217448\n",
      "\n",
      "****recall score using average=micro**\n",
      "0.9129169260059312\n",
      "\n",
      "****recall score using average=weighted**\n",
      "0.9129169260059312\n",
      "\n",
      "****recall score using average=None**\n",
      "[0.50705862 0.98881996]\n",
      "\n",
      "****f1 score using average=macro**\n",
      "0.7987825142548056\n",
      "\n",
      "****f1 score using average=micro**\n",
      "0.9129169260059312\n",
      "\n",
      "****f1 score using average=weighted**\n",
      "0.9025746133006448\n",
      "\n",
      "****f1 score using average=None**\n",
      "[0.64723767 0.95032736]\n"
     ]
    }
   ],
   "source": [
    "from sklearn.metrics import confusion_matrix\n",
    "from sklearn.metrics import precision_score\n",
    "from sklearn.metrics import recall_score\n",
    "from sklearn.metrics import f1_score\n",
    "clf = MultinomialNB(alpha=optimal_alpha)\n",
    "clf.fit(X_tr_vector, y_tr)\n",
    "pred = clf.predict(X_test_vector)\n",
    "acc = accuracy_score(y_test, pred, normalize=True) * float(100)\n",
    "print('\\n****Test accuracy for optimal alpha is %f%%' % (acc))\n",
    "print('\\n****Confusion matrix**')\n",
    "c = confusion_matrix(y_test, pred)\n",
    "print(c)\n",
    "print('\\n****precision score using average=macro**')\n",
    "print(precision_score(y_test, pred, average='macro'))\n",
    "print('\\n****precision score using average=micro**')\n",
    "print(precision_score(y_test, pred, average='micro'))\n",
    "print('\\n****precision score using average=weighted**')\n",
    "print(precision_score(y_test, pred, average='weighted'))\n",
    "print('\\n****precision score using average=None**')\n",
    "print(precision_score(y_test, pred, average=None))\n",
    "print('\\n****recall score using average=macro**')\n",
    "print(recall_score(y_test, pred, average='macro'))\n",
    "print('\\n****recall score using average=micro**')\n",
    "print(recall_score(y_test, pred, average='micro'))\n",
    "print('\\n****recall score using average=weighted**')\n",
    "print(recall_score(y_test, pred, average='weighted'))\n",
    "print('\\n****recall score using average=None**')\n",
    "print(recall_score(y_test, pred, average=None))\n",
    "print('\\n****f1 score using average=macro**')\n",
    "print(f1_score(y_test, pred, average='macro'))\n",
    "print('\\n****f1 score using average=micro**')\n",
    "print(f1_score(y_test, pred, average='micro'))\n",
    "print('\\n****f1 score using average=weighted**')\n",
    "print(f1_score(y_test, pred, average='weighted'))\n",
    "print('\\n****f1 score using average=None**')\n",
    "print(f1_score(y_test, pred, average=None))"
   ]
  },
  {
   "cell_type": "markdown",
   "metadata": {},
   "source": [
    "# TPR,TNR,FPR &FNR"
   ]
  },
  {
   "cell_type": "code",
   "execution_count": 22,
   "metadata": {},
   "outputs": [
    {
     "name": "stdout",
     "output_type": "stream",
     "text": [
      "TPR:0.8945372553038844\n",
      "TNR:0.9147193326297804\n",
      "FPR:0.08528066737021961\n",
      "FNR:0.1054627446961156\n",
      "Accuracy:0.9129169260059312\n"
     ]
    }
   ],
   "source": [
    "TP = c[0][0]\n",
    "FP = c[0][1]\n",
    "FN = c[1][0]\n",
    "TN = c[1][1]\n",
    "\n",
    "# Sensitivity, hit rate, recall, or true positive rate\n",
    "TPR = TP/(TP+FN)\n",
    "# Specificity or true negative rate\n",
    "TNR = TN/(TN+FP) \n",
    "# Fall out or false positive rate\n",
    "FPR = FP/(FP+TN)\n",
    "# False negative rate\n",
    "FNR = FN/(TP+FN)\n",
    "# False discovery rate\n",
    "FDR = FP/(TP+FP)\n",
    "\n",
    "# Overall accuracy\n",
    "ACC = (TP+TN)/(TP+FP+FN+TN)\n",
    "\n",
    "print(\"TPR:\"+str(TPR))\n",
    "print(\"TNR:\"+str(TNR))\n",
    "print(\"FPR:\"+str(FPR))\n",
    "print(\"FNR:\"+str(FNR))\n",
    "print(\"Accuracy:\"+str(ACC))"
   ]
  },
  {
   "cell_type": "code",
   "execution_count": 23,
   "metadata": {},
   "outputs": [
    {
     "name": "stdout",
     "output_type": "stream",
     "text": [
      "[[ 8728  8485]\n",
      " [ 1029 91010]]\n"
     ]
    },
    {
     "data": {
      "image/png": "[encoded data removed]",
      "text/plain": [
       "<matplotlib.figure.Figure at 0x47f07e6470>"
      ]
     },
     "metadata": {},
     "output_type": "display_data"
    }
   ],
   "source": [
    "import seaborn as sns\n",
    "ax = sns.heatmap(c)\n",
    "print(c)"
   ]
  },
  {
   "cell_type": "markdown",
   "metadata": {},
   "source": [
    "# Conclusion"
   ]
  },
  {
   "cell_type": "raw",
   "metadata": {},
   "source": [
    "1)Test Accuracy for alpha = 0.006000 is 91.649581% and CV accuracy for alpha=0.006000 is 91.756891%.     \n",
    "2)The optimal alpha using 10-fold cross validation is 0.006000 and calculated 10 Most important postive and negative features using optimal alpha.      \n",
    "3)Accuracy using MultinomialNB classifier and optimal alpha is 91.649581%.    \n",
    "4)Confusion matrix\n",
    "[[11867  5346]\n",
    " [ 3777 88262]]\n",
    "5)precision score is 0.9164958078570644.\n",
    "6)recall score is 0.9164958078570644.\n",
    "7)f1 score is 0.9164958078570644.\n",
    "8)TPR:0.7585655842495526.  \n",
    "9)TNR:0.9428894966242202.  \n",
    "10)FPR:0.057110503375779845.  \n",
    "11)FNR:0.24143441575044747.  \n",
    "12)Accuracy:0.9164958078570644.  \n",
    "13)Test error:0.083\n",
    "14)Train error:0.082"
   ]
  },
  {
   "cell_type": "code",
   "execution_count": 25,
   "metadata": {},
   "outputs": [
    {
     "name": "stdout",
     "output_type": "stream",
     "text": [
      "+--------------------------------------+----------------+-------------+------------+\n",
      "|                Model                 | Hyperparameter | Train Error | Test Error |\n",
      "+--------------------------------------+----------------+-------------+------------+\n",
      "| MultinomialNB using tfidf vectorizer |    0.006000    |    0.082    |   0.083    |\n",
      "|  MultinomialNB using BOW vectorizer  |       1        |    0.094    |   0.0908   |\n",
      "+--------------------------------------+----------------+-------------+------------+\n"
     ]
    }
   ],
   "source": [
    "from prettytable import PrettyTable\n",
    "t = PrettyTable()\n",
    "t.field_names = ['Model', 'Hyperparameter','Train Error','Test Error']\n",
    "t.add_row([\"MultinomialNB using tfidf vectorizer\",\"0.006000\",\"0.082\",\"0.083\"])\n",
    "t.add_row([\"MultinomialNB using BOW vectorizer\",\"1\",\"0.094\",\"0.0908\"])\n",
    "print(t)"
   ]
  }
 ],
 "metadata": {
  "kernelspec": {
   "display_name": "Python 3",
   "language": "python",
   "name": "python3"
  },
  "language_info": {
   "codemirror_mode": {
    "name": "ipython",
    "version": 3
   },
   "file_extension": ".py",
   "mimetype": "text/x-python",
   "name": "python",
   "nbconvert_exporter": "python",
   "pygments_lexer": "ipython3",
   "version": "3.6.4"
  }
 },
 "nbformat": 4,
 "nbformat_minor": 2
}
