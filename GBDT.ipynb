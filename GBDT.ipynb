{
 "cells": [
  {
   "cell_type": "markdown",
   "metadata": {},
   "source": [
    "# Data Loading"
   ]
  },
  {
   "cell_type": "code",
   "execution_count": 1,
   "metadata": {},
   "outputs": [],
   "source": [
    "%matplotlib inline\n",
    "\n",
    "import sqlite3\n",
    "import pandas as pd\n",
    "import numpy as np\n",
    "import nltk\n",
    "import string\n",
    "import matplotlib.pyplot as plt\n",
    "import seaborn as sns\n",
    "from sklearn.feature_extraction.text import TfidfTransformer\n",
    "from sklearn.feature_extraction.text import TfidfVectorizer\n",
    "\n",
    "from sklearn.feature_extraction.text import CountVectorizer\n",
    "from sklearn.metrics import confusion_matrix\n",
    "from sklearn import metrics\n",
    "from sklearn.metrics import roc_curve, auc\n",
    "from nltk.stem.porter import PorterStemmer\n",
    "\n",
    "\n",
    "\n",
    "# using the SQLite Table to read data.\n",
    "con = sqlite3.connect('./amazon-fine-food-reviews/database.sqlite') \n",
    "\n",
    "\n",
    "\n",
    "#filtering only positive and negative reviews i.e. \n",
    "# not taking into consideration those reviews with Score=3\n",
    "filtered_data = pd.read_sql_query(\"\"\"\n",
    "SELECT *\n",
    "FROM Reviews\n",
    "WHERE Score != 3\n",
    "\"\"\", con) \n",
    "\n",
    "\n",
    "\n",
    "\n",
    "# Give reviews with Score>3 a positive rating, and reviews with a score<3 a negative rating.\n",
    "def partition(x):\n",
    "    if x < 3:\n",
    "        return 'negative'\n",
    "    return 'positive'\n",
    "\n",
    "#changing reviews with score less than 3 to be positive and vice-versa\n",
    "actualScore = filtered_data['Score']\n",
    "positiveNegative = actualScore.map(partition) \n",
    "filtered_data['Score'] = positiveNegative"
   ]
  },
  {
   "cell_type": "markdown",
   "metadata": {},
   "source": [
    "# Data Cleaning"
   ]
  },
  {
   "cell_type": "code",
   "execution_count": 2,
   "metadata": {},
   "outputs": [],
   "source": [
    "display= pd.read_sql_query(\"\"\"\n",
    "SELECT *\n",
    "FROM Reviews\n",
    "WHERE Score != 3 AND UserId=\"AR5J8UI46CURR\"\n",
    "ORDER BY ProductID\n",
    "\"\"\", con)\n",
    "\n",
    "#Sorting data according to ProductId in ascending order\n",
    "sorted_data=filtered_data.sort_values('ProductId', axis=0, ascending=True, inplace=False, kind='quicksort', na_position='last')\n",
    "#Deduplication of entries\n",
    "final=sorted_data.drop_duplicates(subset={\"UserId\",\"ProfileName\",\"Time\",\"Text\"}, keep='first', inplace=False)\n",
    "final=final[final.HelpfulnessNumerator<=final.HelpfulnessDenominator]"
   ]
  },
  {
   "cell_type": "markdown",
   "metadata": {},
   "source": [
    "# Data Pre-processing"
   ]
  },
  {
   "cell_type": "code",
   "execution_count": 3,
   "metadata": {},
   "outputs": [],
   "source": [
    "import re\n",
    "# Tutorial about Python regular expressions: https://pymotw.com/2/re/\n",
    "import string\n",
    "from nltk.corpus import stopwords\n",
    "from nltk.stem import PorterStemmer\n",
    "from nltk.stem.wordnet import WordNetLemmatizer\n",
    "\n",
    "stop = set(stopwords.words('english')) #set of stopwords\n",
    "sno = nltk.stem.SnowballStemmer('english') #initialising the snowball stemmer\n",
    "\n",
    "def cleanhtml(sentence): #function to clean the word of any html-tags\n",
    "    cleanr = re.compile('<.*?>')\n",
    "    cleantext = re.sub(cleanr, ' ', sentence)\n",
    "    return cleantext\n",
    "def cleanpunc(sentence): #function to clean the word of any punctuation or special characters\n",
    "    cleaned = re.sub(r'[?|!|\\'|\"|#]',r'',sentence)\n",
    "    cleaned = re.sub(r'[.|,|)|(|\\|/]',r' ',cleaned)\n",
    "    return  cleaned"
   ]
  },
  {
   "cell_type": "code",
   "execution_count": 4,
   "metadata": {},
   "outputs": [],
   "source": [
    "#Code for implementing step-by-step the checks mentioned in the pre-processing phase\n",
    "# this code takes a while to run as it needs to run on 500k sentences.\n",
    "i=0\n",
    "str1=' '\n",
    "final_string=[]\n",
    "all_positive_words=[] # store words from +ve reviews here\n",
    "all_negative_words=[] # store words from -ve reviews here.\n",
    "s=''\n",
    "for sent in final['Text'].values:\n",
    "    filtered_sentence=[]\n",
    "    #print(sent);\n",
    "    sent=cleanhtml(sent) # remove HTMl tags\n",
    "    for w in sent.split():\n",
    "        for cleaned_words in cleanpunc(w).split():\n",
    "            if((cleaned_words.isalpha()) & (len(cleaned_words)>2)):    \n",
    "                if(cleaned_words.lower() not in stop):\n",
    "                    s=(sno.stem(cleaned_words.lower())).encode('utf8')\n",
    "                    filtered_sentence.append(s)\n",
    "                    if (final['Score'].values)[i] == 'positive': \n",
    "                        all_positive_words.append(s) #list of all words used to describe positive reviews\n",
    "                    if(final['Score'].values)[i] == 'negative':\n",
    "                        all_negative_words.append(s) #list of all words used to describe negative reviews reviews\n",
    "                else:\n",
    "                    continue\n",
    "            else:\n",
    "                continue \n",
    "    #print(filtered_sentence)\n",
    "    str1 = b\" \".join(filtered_sentence) #final string of cleaned words\n",
    "    #print(\"***********************************************************************\")\n",
    "    \n",
    "    final_string.append(str1)\n",
    "    i+=1"
   ]
  },
  {
   "cell_type": "code",
   "execution_count": 5,
   "metadata": {},
   "outputs": [],
   "source": [
    "final['CleanedText']=final_string #adding a column of CleanedText which displays the data after pre-processing of the review "
   ]
  },
  {
   "cell_type": "markdown",
   "metadata": {},
   "source": [
    "# Time Based Sorting"
   ]
  },
  {
   "cell_type": "code",
   "execution_count": 6,
   "metadata": {},
   "outputs": [],
   "source": [
    "final=final.sort_values('Time', axis=0, ascending=True, inplace=False, kind='quicksort', na_position='last')"
   ]
  },
  {
   "cell_type": "code",
   "execution_count": 7,
   "metadata": {},
   "outputs": [],
   "source": [
    "final = final.iloc[0:10000]\n",
    "scores = final['Score']"
   ]
  },
  {
   "cell_type": "markdown",
   "metadata": {},
   "source": [
    "# Split the Data Set into train and test"
   ]
  },
  {
   "cell_type": "code",
   "execution_count": 10,
   "metadata": {},
   "outputs": [],
   "source": [
    "# ============================== loading libraries ===========================================\n",
    "import numpy as np\n",
    "import pandas as pd\n",
    "import matplotlib.pyplot as plt\n",
    "from sklearn.cross_validation import train_test_split\n",
    "from sklearn.metrics import accuracy_score\n",
    "from sklearn.cross_validation import cross_val_score\n",
    "from collections import Counter\n",
    "from sklearn.metrics import accuracy_score\n",
    "from sklearn import cross_validation\n",
    "from sklearn.naive_bayes import BernoulliNB\n",
    "import warnings\n",
    "# =============================================================================================\n",
    "#supress warnings\n",
    "warnings.filterwarnings(\"ignore\")\n",
    "\n",
    "# split the data set into train and test\n",
    "X_1, X_test, y_1, y_test = cross_validation.train_test_split(final['CleanedText'].values, scores, test_size=0.3, random_state=0)\n",
    "\n",
    "y_test = y_test.values\n",
    "y_1 = y_1.values\n",
    "\n",
    "\n",
    "# split the train data set into cross validation train and cross validation test\n",
    "X_tr, X_cv, y_tr, y_cv = cross_validation.train_test_split(X_1, y_1, test_size=0.3)\n"
   ]
  },
  {
   "cell_type": "markdown",
   "metadata": {},
   "source": [
    "# Hyper Parameter tuning using GridSearchCV"
   ]
  },
  {
   "cell_type": "code",
   "execution_count": 9,
   "metadata": {
    "collapsed": true
   },
   "outputs": [],
   "source": [
    "#function to get optimal n_estimators,max_depth\n",
    "from sklearn.grid_search import GridSearchCV\n",
    "from sklearn.grid_search import RandomizedSearchCV\n",
    "from sklearn.svm import SVC\n",
    "from sklearn.preprocessing import LabelEncoder\n",
    "from sklearn.ensemble import (RandomTreesEmbedding, RandomForestClassifier,\n",
    "                              GradientBoostingClassifier)\n",
    "\n",
    "def findGridSearchCVBestParameters(x_tr,y_tr):\n",
    "    param_grid = {\n",
    "    'max_depth': [10,20,40,80,100],\n",
    "    'n_estimators': [40,60,80,100,200]}\n",
    "    gridmodel = GridSearchCV(GradientBoostingClassifier(), param_grid=param_grid,scoring = 'accuracy', cv=5)\n",
    "    gridmodel.fit(x_tr, y_tr)\n",
    "    grid_best_params = gridmodel.best_estimator_\n",
    "    gridmodel_best_score = gridmodel.best_score_\n",
    "    return grid_best_params,gridmodel_best_score"
   ]
  },
  {
   "cell_type": "markdown",
   "metadata": {},
   "source": [
    "# GradientBoostingClassifier"
   ]
  },
  {
   "cell_type": "code",
   "execution_count": 10,
   "metadata": {
    "collapsed": true
   },
   "outputs": [],
   "source": [
    "#function to apply GradientBoostingClassifier model\n",
    "def applyGradientBoostingClassifierModel(x_tr,y_tr,e,d):\n",
    "    classifier= GradientBoostingClassifier(n_estimators=e,max_depth=d)\n",
    "    classifier.fit(x_tr, y_tr)\n",
    "    return classifier"
   ]
  },
  {
   "cell_type": "markdown",
   "metadata": {},
   "source": [
    "# Finding Accuracy"
   ]
  },
  {
   "cell_type": "code",
   "execution_count": 11,
   "metadata": {
    "collapsed": true
   },
   "outputs": [],
   "source": [
    "from sklearn.metrics import classification_report\n",
    "import seaborn as sns\n",
    "from sklearn.svm import SVC\n",
    "\n",
    "#fucntion to get Test and Train Accuracy details\n",
    "def getAccuracyReport(x_tr,x_test,y_tr,y_test,e,d):\n",
    "    classifier = applyGradientBoostingClassifierModel(x_tr,y_tr,e,d)\n",
    "    y_pred = classifier.predict(x_test)\n",
    "    print(classification_report(y_test, y_pred))\n",
    "    print('Training accuracy:', classifier.score(x_tr, y_tr))\n",
    "    print('Test accuracy:', classifier.score(x_test, y_test))\n",
    "    cm = confusion_matrix(y_test, y_pred)\n",
    "    sns.set(font_scale=1.4)#for label size\n",
    "    sns.heatmap(cm, annot=True,annot_kws={\"size\": 16})"
   ]
  },
  {
   "cell_type": "markdown",
   "metadata": {},
   "source": [
    "# BOW Featurization"
   ]
  },
  {
   "cell_type": "code",
   "execution_count": 12,
   "metadata": {
    "collapsed": true
   },
   "outputs": [],
   "source": [
    "#supress warnings\n",
    "warnings.filterwarnings(\"ignore\")\n",
    "\n",
    "#Converting text to vector(BOW)\n",
    "count_vect = CountVectorizer() #in scikit-learn\n",
    "count_vect.fit(X_tr)\n",
    "X_tr_vector_bow = count_vect.transform(X_tr)\n",
    "X_test_vector_bow = count_vect.transform(X_test)"
   ]
  },
  {
   "cell_type": "markdown",
   "metadata": {},
   "source": [
    "# Optimal number of estimators & max_depth"
   ]
  },
  {
   "cell_type": "code",
   "execution_count": 13,
   "metadata": {},
   "outputs": [
    {
     "name": "stdout",
     "output_type": "stream",
     "text": [
      "Grid Search Best Params:\n",
      " GradientBoostingClassifier(criterion='friedman_mse', init=None,\n",
      "              learning_rate=0.1, loss='deviance', max_depth=10,\n",
      "              max_features=None, max_leaf_nodes=None,\n",
      "              min_impurity_decrease=0.0, min_impurity_split=None,\n",
      "              min_samples_leaf=1, min_samples_split=2,\n",
      "              min_weight_fraction_leaf=0.0, n_estimators=100,\n",
      "              presort='auto', random_state=None, subsample=1.0, verbose=0,\n",
      "              warm_start=False)\n",
      "Grid Search Best Score:\n",
      " 0.8873469387755102\n"
     ]
    }
   ],
   "source": [
    "#getting optimal parameters -- BOW \n",
    "gridsearch_best_params_bow,gridsearch_best_score_bow = findGridSearchCVBestParameters(X_tr_vector_bow,y_tr)\n",
    "print('Grid Search Best Params:\\n',gridsearch_best_params_bow)\n",
    "print('Grid Search Best Score:\\n',gridsearch_best_score_bow)"
   ]
  },
  {
   "cell_type": "markdown",
   "metadata": {},
   "source": [
    "# Train and Test Accuracy using Optimal parameters"
   ]
  },
  {
   "cell_type": "code",
   "execution_count": 43,
   "metadata": {},
   "outputs": [
    {
     "name": "stdout",
     "output_type": "stream",
     "text": [
      "             precision    recall  f1-score   support\n",
      "\n",
      "   negative       0.61      0.21      0.31       176\n",
      "   positive       0.90      0.98      0.94      1324\n",
      "\n",
      "avg / total       0.87      0.89      0.87      1500\n",
      "\n",
      "Training accuracy: 0.9893877551020408\n",
      "Test accuracy: 0.8913333333333333\n"
     ]
    },
    {
     "data": {
      "image/png": "[encoded data removed]",
      "text/plain": [
       "<matplotlib.figure.Figure at 0x7fb91088d198>"
      ]
     },
     "metadata": {},
     "output_type": "display_data"
    }
   ],
   "source": [
    "#finding train and test accuracy measurements -- BOW\n",
    "getAccuracyReport(X_tr_vector_bow,X_test_vector_bow,y_tr, y_test,100,10)"
   ]
  },
  {
   "cell_type": "markdown",
   "metadata": {},
   "source": [
    "# Important Features"
   ]
  },
  {
   "cell_type": "code",
   "execution_count": 44,
   "metadata": {},
   "outputs": [
    {
     "name": "stdout",
     "output_type": "stream",
     "text": [
      "0.013800445169730067 horribl\n",
      "0.011068093130995525 wors\n",
      "0.010964959687082599 disappoint\n",
      "0.010285563289256276 flavorless\n",
      "0.010015661423180697 archer\n",
      "0.009580461827034599 bad\n",
      "0.008696002993438288 sourish\n",
      "0.008692895460067098 spammer\n",
      "0.00857574553048882 spaghetti\n",
      "0.008574572460441531 aw\n",
      "0.008571246151998677 liquer\n",
      "0.008550393710759937 liptun\n",
      "0.008540477534414738 whatchamacallit\n",
      "0.008289277810406314 hfcs\n",
      "0.008268510175954204 unaccept\n",
      "0.008159797941318178 pbj\n",
      "0.00806759716152297 peic\n",
      "0.007928665319025969 typeo\n",
      "0.007586541978766331 ravioli\n",
      "0.007429093039071275 parmeson\n"
     ]
    }
   ],
   "source": [
    "#finding 20 important features --BOW\n",
    "bow_rclf = applyGradientBoostingClassifierModel(X_tr_vector_bow,y_tr,100,10)\n",
    "importances = bow_rclf.feature_importances_ \n",
    "feature_names =count_vect.get_feature_names() \n",
    "imp = sorted(zip(importances, feature_names),reverse=True)[:20] \n",
    "for imortance,feature in imp:    \n",
    "    print(imortance,feature)"
   ]
  },
  {
   "cell_type": "markdown",
   "metadata": {},
   "source": [
    "# TFIDF Featurization"
   ]
  },
  {
   "cell_type": "code",
   "execution_count": 16,
   "metadata": {
    "collapsed": true
   },
   "outputs": [],
   "source": [
    "#Converting text to tfidf vector(tfidf)\n",
    "tf_idf_vect = TfidfVectorizer()\n",
    "final_tf_idf = tf_idf_vect.fit(X_tr)\n",
    "X_tr_vector_tfidf = final_tf_idf.transform(X_tr)\n",
    "X_test_vector_tfidf = final_tf_idf.transform(X_test)"
   ]
  },
  {
   "cell_type": "markdown",
   "metadata": {},
   "source": [
    "# Optimal numbers of estimator and max_depth"
   ]
  },
  {
   "cell_type": "code",
   "execution_count": 17,
   "metadata": {},
   "outputs": [
    {
     "name": "stdout",
     "output_type": "stream",
     "text": [
      "Grid Search Best Params:\n",
      " GradientBoostingClassifier(criterion='friedman_mse', init=None,\n",
      "              learning_rate=0.1, loss='deviance', max_depth=10,\n",
      "              max_features=None, max_leaf_nodes=None,\n",
      "              min_impurity_decrease=0.0, min_impurity_split=None,\n",
      "              min_samples_leaf=1, min_samples_split=2,\n",
      "              min_weight_fraction_leaf=0.0, n_estimators=60,\n",
      "              presort='auto', random_state=None, subsample=1.0, verbose=0,\n",
      "              warm_start=False)\n",
      "Grid Search Best Score:\n",
      " 0.8889795918367347\n"
     ]
    }
   ],
   "source": [
    "#getting optimal parameters -- tfidf\n",
    "gridsearch_best_params_tfidf,gridsearch_best_score_tfidf = findGridSearchCVBestParameters(X_tr_vector_tfidf,y_tr)\n",
    "print('Grid Search Best Params:\\n',gridsearch_best_params_tfidf)\n",
    "print('Grid Search Best Score:\\n',gridsearch_best_score_tfidf)"
   ]
  },
  {
   "cell_type": "markdown",
   "metadata": {},
   "source": [
    "# Train and Test Accuracy using Optimal parameters"
   ]
  },
  {
   "cell_type": "code",
   "execution_count": 41,
   "metadata": {},
   "outputs": [
    {
     "name": "stdout",
     "output_type": "stream",
     "text": [
      "             precision    recall  f1-score   support\n",
      "\n",
      "   negative       0.55      0.17      0.26       176\n",
      "   positive       0.90      0.98      0.94      1324\n",
      "\n",
      "avg / total       0.86      0.89      0.86      1500\n",
      "\n",
      "Training accuracy: 0.9767346938775511\n",
      "Test accuracy: 0.886\n"
     ]
    },
    {
     "data": {
      "image/png": "[encoded data removed]",
      "text/plain": [
       "<matplotlib.figure.Figure at 0x7fb9108c97b8>"
      ]
     },
     "metadata": {},
     "output_type": "display_data"
    }
   ],
   "source": [
    "#finding train and test accuracy measurements -- tfidf\n",
    "getAccuracyReport(X_tr_vector_tfidf,X_test_vector_tfidf,y_tr, y_test,60,10)"
   ]
  },
  {
   "cell_type": "markdown",
   "metadata": {},
   "source": [
    "# Important Features"
   ]
  },
  {
   "cell_type": "code",
   "execution_count": 42,
   "metadata": {},
   "outputs": [
    {
     "name": "stdout",
     "output_type": "stream",
     "text": [
      "0.019055517430652456 horribl\n",
      "0.015914791843975408 aw\n",
      "0.01578902952395746 bad\n",
      "0.015619801363409378 return\n",
      "0.014759051705581443 box\n",
      "0.013925444110643824 stuck\n",
      "0.013770960064857658 disappoint\n",
      "0.013439939233857407 worst\n",
      "0.013396098692607637 order\n",
      "0.013146299214473692 took\n",
      "0.01287844115496534 wors\n",
      "0.012687056363181544 disgust\n",
      "0.012015956261276635 poor\n",
      "0.011900704316059189 expens\n",
      "0.01164471868333904 dollar\n",
      "0.011642970398717721 archer\n",
      "0.010607368361373182 perhap\n",
      "0.010607169427964767 tast\n",
      "0.010567088828966065 email\n",
      "0.01049356104881973 elsewher\n"
     ]
    }
   ],
   "source": [
    "#finding 20 important features --tfidf\n",
    "tfidf_rclf = applyGradientBoostingClassifierModel(X_tr_vector_tfidf,y_tr,60,10)\n",
    "importances = tfidf_rclf.feature_importances_ \n",
    "feature_names =count_vect.get_feature_names() \n",
    "imp = sorted(zip(importances, feature_names),reverse=True)[:20] \n",
    "for imortance,feature in imp:    \n",
    "    print(imortance,feature)"
   ]
  },
  {
   "cell_type": "markdown",
   "metadata": {},
   "source": [
    "# AVGW2V Featurization"
   ]
  },
  {
   "cell_type": "code",
   "execution_count": 20,
   "metadata": {
    "collapsed": true
   },
   "outputs": [],
   "source": [
    "import gensim\n",
    "import warnings\n",
    "#supress warning\n",
    "warnings.filterwarnings(\"ignore\") \n",
    "i=0\n",
    "list_of_sent_X_tr=[]\n",
    "for sent in X_tr:\n",
    "    filtered_sentence=[]\n",
    "    sent = sent.decode('utf-8')\n",
    "    sent=cleanhtml(sent)\n",
    "    for w in sent.split():\n",
    "        for cleaned_words in cleanpunc(w).split():\n",
    "            if(cleaned_words.isalpha()):    \n",
    "                filtered_sentence.append(cleaned_words.lower())\n",
    "            else:\n",
    "                continue \n",
    "    list_of_sent_X_tr.append(filtered_sentence)"
   ]
  },
  {
   "cell_type": "code",
   "execution_count": 21,
   "metadata": {
    "collapsed": true
   },
   "outputs": [],
   "source": [
    "import gensim\n",
    "\n",
    "#supress warnings\n",
    "warnings.filterwarnings(\"ignore\")\n",
    "\n",
    "i=0\n",
    "list_of_sent_X_test=[]\n",
    "for sent in X_test:\n",
    "    filtered_sentence=[]\n",
    "    sent = sent.decode('utf-8')\n",
    "    sent=cleanhtml(sent)\n",
    "    for w in sent.split():\n",
    "        for cleaned_words in cleanpunc(w).split():\n",
    "            if(cleaned_words.isalpha()):    \n",
    "                filtered_sentence.append(cleaned_words.lower())\n",
    "            else:\n",
    "                continue \n",
    "    list_of_sent_X_test.append(filtered_sentence)"
   ]
  },
  {
   "cell_type": "code",
   "execution_count": 22,
   "metadata": {
    "collapsed": true
   },
   "outputs": [],
   "source": [
    "w2v_model=gensim.models.Word2Vec(list_of_sent_X_tr,min_count=1,size=50, workers=4) "
   ]
  },
  {
   "cell_type": "code",
   "execution_count": 23,
   "metadata": {
    "collapsed": true
   },
   "outputs": [],
   "source": [
    "# average Word2Vec\n",
    "# compute average word2vec for each review.\n",
    "sent_vectors_X_tr = []; # the avg-w2v for each sentence/review is stored in this list\n",
    "for sent in list_of_sent_X_tr: # for each review/sentence\n",
    "    sent_vec = np.zeros(50) # as word vectors are of zero length\n",
    "    cnt_words =0; # num of words with a valid vector in the sentence/review\n",
    "    for word in sent: # for each word in a review/sentence\n",
    "        try:\n",
    "            vec = w2v_model.wv[word]\n",
    "            sent_vec += vec\n",
    "            cnt_words += 1\n",
    "        except:\n",
    "            pass\n",
    "    sent_vec /= cnt_words\n",
    "    sent_vectors_X_tr.append(sent_vec)"
   ]
  },
  {
   "cell_type": "code",
   "execution_count": 24,
   "metadata": {
    "collapsed": true
   },
   "outputs": [],
   "source": [
    "# average Word2Vec\n",
    "# compute average word2vec for each review.\n",
    "sent_vectors_X_test = []; # the avg-w2v for each sentence/review is stored in this list\n",
    "for sent in list_of_sent_X_test: # for each review/sentence\n",
    "    sent_vec = np.zeros(50) # as word vectors are of zero length\n",
    "    cnt_words =0; # num of words with a valid vector in the sentence/review\n",
    "    for word in sent: # for each word in a review/sentence\n",
    "        try:\n",
    "            vec = w2v_model.wv[word]\n",
    "            sent_vec += vec\n",
    "            cnt_words += 1\n",
    "        except:\n",
    "            pass\n",
    "    sent_vec /= cnt_words\n",
    "    sent_vectors_X_test.append(sent_vec)"
   ]
  },
  {
   "cell_type": "code",
   "execution_count": 25,
   "metadata": {
    "collapsed": true
   },
   "outputs": [],
   "source": [
    "X_tr_vector_avgW2V = sent_vectors_X_tr\n",
    "X_test_vector_avgW2V = sent_vectors_X_test "
   ]
  },
  {
   "cell_type": "code",
   "execution_count": 26,
   "metadata": {
    "collapsed": true
   },
   "outputs": [],
   "source": [
    "from sklearn.preprocessing import Imputer\n",
    "X_test_vector_avgW2V = Imputer().fit_transform(X_test_vector_avgW2V)"
   ]
  },
  {
   "cell_type": "markdown",
   "metadata": {},
   "source": [
    "# Optimal numbers of estimator & max_depth"
   ]
  },
  {
   "cell_type": "code",
   "execution_count": 27,
   "metadata": {},
   "outputs": [
    {
     "name": "stdout",
     "output_type": "stream",
     "text": [
      "Grid Search Best Params:\n",
      " GradientBoostingClassifier(criterion='friedman_mse', init=None,\n",
      "              learning_rate=0.1, loss='deviance', max_depth=10,\n",
      "              max_features=None, max_leaf_nodes=None,\n",
      "              min_impurity_decrease=0.0, min_impurity_split=None,\n",
      "              min_samples_leaf=1, min_samples_split=2,\n",
      "              min_weight_fraction_leaf=0.0, n_estimators=100,\n",
      "              presort='auto', random_state=None, subsample=1.0, verbose=0,\n",
      "              warm_start=False)\n",
      "Grid Search Best Score:\n",
      " 0.8783673469387755\n"
     ]
    }
   ],
   "source": [
    "#getting optimal parameters -- avgW2V\n",
    "gridsearch_best_params_avgW2v,gridsearch_best_score_avgW2V = findGridSearchCVBestParameters(X_tr_vector_avgW2V,y_tr)\n",
    "print('Grid Search Best Params:\\n',gridsearch_best_params_avgW2v)\n",
    "print('Grid Search Best Score:\\n',gridsearch_best_score_avgW2V)"
   ]
  },
  {
   "cell_type": "markdown",
   "metadata": {},
   "source": [
    "# Train and Test Accuracy using Optimal parameters"
   ]
  },
  {
   "cell_type": "code",
   "execution_count": 37,
   "metadata": {},
   "outputs": [
    {
     "name": "stdout",
     "output_type": "stream",
     "text": [
      "             precision    recall  f1-score   support\n",
      "\n",
      "   negative       0.29      0.05      0.08       176\n",
      "   positive       0.89      0.98      0.93      1324\n",
      "\n",
      "avg / total       0.82      0.87      0.83      1500\n",
      "\n",
      "Training accuracy: 1.0\n",
      "Test accuracy: 0.8746666666666667\n"
     ]
    },
    {
     "data": {
      "image/png": "[encoded data removed]",
      "text/plain": [
       "<matplotlib.figure.Figure at 0x7fb910a68e80>"
      ]
     },
     "metadata": {},
     "output_type": "display_data"
    }
   ],
   "source": [
    "#finding train and test accuracy measurements -- avgW2V\n",
    "getAccuracyReport(X_tr_vector_avgW2V,X_test_vector_avgW2V,y_tr, y_test,100,10)"
   ]
  },
  {
   "cell_type": "markdown",
   "metadata": {},
   "source": [
    "# Important Features"
   ]
  },
  {
   "cell_type": "code",
   "execution_count": 38,
   "metadata": {},
   "outputs": [
    {
     "name": "stdout",
     "output_type": "stream",
     "text": [
      "0.06588382466036595 abysm\n",
      "0.04729128136413907 absenc\n",
      "0.0470623421453522 accur\n",
      "0.04628681099150406 acerola\n",
      "0.04490882865534225 acesuflamek\n",
      "0.044110183692547336 abliti\n",
      "0.043323331465821235 abund\n",
      "0.040705072280876074 abil\n",
      "0.036223867806625884 acknowledg\n",
      "0.031347481399760804 accept\n",
      "0.029787464878071098 absent\n",
      "0.02862006878298456 accordion\n",
      "0.027842104786126493 achiev\n",
      "0.0261928022700215 abandon\n",
      "0.026107007525913856 absorb\n",
      "0.02293721349252433 abid\n",
      "0.022422962202944718 abroad\n",
      "0.020720199000761844 acclaim\n",
      "0.020567747198048044 acid\n",
      "0.019922756619767792 accent\n"
     ]
    }
   ],
   "source": [
    "#finding 20 important features --avgW2V\n",
    "avgW2v_rclf = applyGradientBoostingClassifierModel(X_tr_vector_avgW2V,y_tr,100,10)\n",
    "importances = avgW2v_rclf.feature_importances_ \n",
    "feature_names =count_vect.get_feature_names() \n",
    "imp = sorted(zip(importances, feature_names),reverse=True)[:20] \n",
    "for imortance,feature in imp:    \n",
    "    print(imortance,feature)"
   ]
  },
  {
   "cell_type": "markdown",
   "metadata": {},
   "source": [
    "# TFIDFW2Vec Featurization"
   ]
  },
  {
   "cell_type": "code",
   "execution_count": 30,
   "metadata": {
    "collapsed": true
   },
   "outputs": [],
   "source": [
    "tf_idf_X_tr_vect = TfidfVectorizer()\n",
    "tf_idf_X_tr_vect.fit(X_tr)\n",
    "final_tf_idf_X_tr_vect = tf_idf_X_tr_vect.transform(X_tr)\n",
    "final_tf_idf_X_test_vect = tf_idf_X_tr_vect.transform(X_test)"
   ]
  },
  {
   "cell_type": "code",
   "execution_count": 31,
   "metadata": {
    "collapsed": true
   },
   "outputs": [],
   "source": [
    "# TF-IDF weighted Word2Vec\n",
    "tfidf_feat = tf_idf_X_tr_vect.get_feature_names() # tfidf words/col-names\n",
    "# final_tf_idf is the sparse matrix with row= sentence, col=word and cell_val = tfidf\n",
    "\n",
    "tfidf_sent_X_tr_vectors = []; # the tfidf-w2v for each sentence/review is stored in this list\n",
    "row=0;\n",
    "for sent in list_of_sent_X_tr: # for each review/sentence\n",
    "    sent_vec = np.zeros(50) # as word vectors are of zero length\n",
    "    weight_sum =0; # num of words with a valid vector in the sentence/review\n",
    "    for word in sent: # for each word in a review/sentence\n",
    "        try: \n",
    "            \n",
    "            vec = w2v_model.wv[word]\n",
    "            # obtain the tf_idfidf of a word in a sentence/review\n",
    "            tf_idf = final_tf_idf_X_tr_vect[row, tfidf_feat.index(word)]\n",
    "            sent_vec +=(vec * tf_idf)\n",
    "            weight_sum += tf_idf\n",
    "        except:\n",
    "            pass\n",
    "    sent_vec /= weight_sum\n",
    "    tfidf_sent_X_tr_vectors.append(sent_vec)\n",
    "    row += 1"
   ]
  },
  {
   "cell_type": "code",
   "execution_count": 32,
   "metadata": {
    "collapsed": true
   },
   "outputs": [],
   "source": [
    "# TF-IDF weighted Word2Vec\n",
    "tfidf_feat = tf_idf_X_tr_vect.get_feature_names() # tfidf words/col-names\n",
    "# final_tf_idf is the sparse matrix with row= sentence, col=word and cell_val = tfidf\n",
    "\n",
    "tfidf_sent_X_test_vectors = []; # the tfidf-w2v for each sentence/review is stored in this list\n",
    "row=0;\n",
    "for sent in list_of_sent_X_test: # for each review/sentence\n",
    "    sent_vec = np.zeros(50) # as word vectors are of zero length\n",
    "    weight_sum =0; # num of words with a valid vector in the sentence/review\n",
    "    for word in sent: # for each word in a review/sentence\n",
    "        try:\n",
    "            \n",
    "            vec = w2v_model.wv[word]\n",
    "            # obtain the tf_idfidf of a word in a sentence/review\n",
    "            tf_idf = final_tf_idf_X_test_vect[row, tfidf_feat.index(word)]\n",
    "            sent_vec +=(vec * tf_idf)\n",
    "            weight_sum += tf_idf\n",
    "        except:\n",
    "            pass\n",
    "    sent_vec /= weight_sum\n",
    "    tfidf_sent_X_test_vectors.append(sent_vec)\n",
    "    row += 1"
   ]
  },
  {
   "cell_type": "code",
   "execution_count": 33,
   "metadata": {
    "collapsed": true
   },
   "outputs": [],
   "source": [
    "from sklearn.preprocessing import Imputer\n",
    "X_tr_vector_tfidfW2V = tfidf_sent_X_tr_vectors\n",
    "X_test_vector_tfidfW2V = tfidf_sent_X_test_vectors\n",
    "X_tr_vector = Imputer().fit_transform(X_tr_vector_tfidfW2V)\n",
    "X_test_vector = Imputer().fit_transform(X_test_vector_tfidfW2V)"
   ]
  },
  {
   "cell_type": "markdown",
   "metadata": {},
   "source": [
    "# Optimal numbers of estimator and max_depth"
   ]
  },
  {
   "cell_type": "code",
   "execution_count": 34,
   "metadata": {},
   "outputs": [
    {
     "name": "stdout",
     "output_type": "stream",
     "text": [
      "Grid Search Best Params:\n",
      " GradientBoostingClassifier(criterion='friedman_mse', init=None,\n",
      "              learning_rate=0.1, loss='deviance', max_depth=10,\n",
      "              max_features=None, max_leaf_nodes=None,\n",
      "              min_impurity_decrease=0.0, min_impurity_split=None,\n",
      "              min_samples_leaf=1, min_samples_split=2,\n",
      "              min_weight_fraction_leaf=0.0, n_estimators=200,\n",
      "              presort='auto', random_state=None, subsample=1.0, verbose=0,\n",
      "              warm_start=False)\n",
      "Grid Search Best Score:\n",
      " 0.8787755102040816\n"
     ]
    }
   ],
   "source": [
    "#getting optimal parameters -- tfidfW2V\n",
    "gridsearch_best_params_tfidfW2V,gridsearch_best_score_tfidfW2V = findGridSearchCVBestParameters(X_tr_vector_tfidfW2V,y_tr)\n",
    "print('Grid Search Best Params:\\n',gridsearch_best_params_tfidfW2V)\n",
    "print('Grid Search Best Score:\\n',gridsearch_best_score_tfidfW2V)"
   ]
  },
  {
   "cell_type": "markdown",
   "metadata": {},
   "source": [
    "# Train and Test Accuracy using Optimal parameters"
   ]
  },
  {
   "cell_type": "code",
   "execution_count": 36,
   "metadata": {},
   "outputs": [
    {
     "name": "stdout",
     "output_type": "stream",
     "text": [
      "             precision    recall  f1-score   support\n",
      "\n",
      "   negative       0.32      0.04      0.07       176\n",
      "   positive       0.89      0.99      0.93      1324\n",
      "\n",
      "avg / total       0.82      0.88      0.83      1500\n",
      "\n",
      "Training accuracy: 1.0\n",
      "Test accuracy: 0.8773333333333333\n"
     ]
    },
    {
     "data": {
      "image/png": "[encoded data removed]",
      "text/plain": [
       "<matplotlib.figure.Figure at 0x7fb910a6cac8>"
      ]
     },
     "metadata": {},
     "output_type": "display_data"
    }
   ],
   "source": [
    "#finding train and test accuracy measurements -- tfidfW2V\n",
    "getAccuracyReport(X_tr_vector_tfidfW2V,X_test_vector_tfidfW2V,y_tr, y_test,200,10)"
   ]
  },
  {
   "cell_type": "markdown",
   "metadata": {},
   "source": [
    "# Important Features"
   ]
  },
  {
   "cell_type": "code",
   "execution_count": 40,
   "metadata": {},
   "outputs": [
    {
     "name": "stdout",
     "output_type": "stream",
     "text": [
      "0.0692040918067005 even\n",
      "0.061285537693417845 realli\n",
      "0.051293216519857784 good\n",
      "0.043909313717337764 mix\n",
      "0.03940613565850673 cup\n",
      "0.03716749012468737 coffe\n",
      "0.03421537377507401 product\n",
      "0.03353867989241923 drink\n",
      "0.03324681901720305 hot\n",
      "0.031764976506626255 also\n"
     ]
    }
   ],
   "source": [
    "#finding 20 important features --tfidfW2V\n",
    "tfidfW2v_rclf = applyGradientBoostingClassifierModel(X_tr_vector_tfidfW2V,y_tr,200,10)\n",
    "importances = tfidfW2v_rclf.feature_importances_\n",
    "words = w2v_model.wv.index2word\n",
    "imp = sorted(zip(importances, words),reverse=True)[:10]\n",
    "for imortance,feature in imp:\n",
    "    print(imortance,feature)"
   ]
  },
  {
   "cell_type": "markdown",
   "metadata": {},
   "source": [
    "# Conclusion"
   ]
  },
  {
   "cell_type": "code",
   "execution_count": 9,
   "metadata": {},
   "outputs": [
    {
     "name": "stdout",
     "output_type": "stream",
     "text": [
      "+---------------+-------------+-----------+---------------+---------------+\n",
      "| Featurization | n_Estimator | max_depth |  Train Error  |   Test Error  |\n",
      "+---------------+-------------+-----------+---------------+---------------+\n",
      "|      BOW      |     100     |     10    | 0.01061224489 | 0.10866666666 |\n",
      "|     TFIDF     |      60     |     10    | 0.02326530612 |     0.114     |\n",
      "|     AVGW2V    |     100     |     10    |       0       | 0.12533333333 |\n",
      "|    TFIDFW2V   |     200     |     10    |       0       | 0.12266666666 |\n",
      "+---------------+-------------+-----------+---------------+---------------+\n"
     ]
    }
   ],
   "source": [
    "from prettytable import PrettyTable\n",
    "t = PrettyTable()\n",
    "t.field_names = ['Featurization', 'n_Estimator','max_depth','Train Error','Test Error']\n",
    "t.add_row([\"BOW\",\"100\",\"10\",\"0.01061224489\",\"0.10866666666\"])\n",
    "t.add_row([\"TFIDF\",\"60\",\"10\",\"0.02326530612\",\"0.114\"])\n",
    "t.add_row([\"AVGW2V\",\"100\",\"10\",\"0\",\"0.12533333333\"])\n",
    "t.add_row([\"TFIDFW2V\",\"200\",\"10\",\"0\",\"0.12266666666\"])\n",
    "print(t)"
   ]
  }
 ],
 "metadata": {
  "kernelspec": {
   "display_name": "Python 3",
   "language": "python",
   "name": "python3"
  },
  "language_info": {
   "codemirror_mode": {
    "name": "ipython",
    "version": 3
   },
   "file_extension": ".py",
   "mimetype": "text/x-python",
   "name": "python",
   "nbconvert_exporter": "python",
   "pygments_lexer": "ipython3",
   "version": "3.6.4"
  },
  "widgets": {
   "state": {},
   "version": "1.1.2"
  }
 },
 "nbformat": 4,
 "nbformat_minor": 2
}
