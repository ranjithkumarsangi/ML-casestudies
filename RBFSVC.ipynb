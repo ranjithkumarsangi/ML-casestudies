{
 "cells": [
  {
   "cell_type": "markdown",
   "metadata": {
    "colab_type": "text",
    "id": "a0EojvO4J0Ko"
   },
   "source": [
    "# Data Loading"
   ]
  },
  {
   "cell_type": "code",
   "execution_count": 1,
   "metadata": {
    "colab": {
     "base_uri": "https://localhost:8080/",
     "height": 231
    },
    "colab_type": "code",
    "id": "Y1Z5Ga7eJ0Kq",
    "outputId": "2ad0b206-cd80-42f7-8187-8d609389e621"
   },
   "outputs": [],
   "source": [
    "%matplotlib inline\n",
    "\n",
    "import sqlite3\n",
    "import pandas as pd\n",
    "import numpy as np\n",
    "import nltk\n",
    "import string \n",
    "import matplotlib.pyplot as plt\n",
    "import seaborn as sns\n",
    "from sklearn.feature_extraction.text import TfidfTransformer\n",
    "from sklearn.feature_extraction.text import TfidfVectorizer\n",
    "\n",
    "from sklearn.feature_extraction.text import CountVectorizer\n",
    "from sklearn.metrics import confusion_matrix\n",
    "from sklearn import metrics\n",
    "from sklearn.metrics import roc_curve, auc\n",
    "from nltk.stem.porter import PorterStemmer\n",
    "\n",
    "\n",
    "\n",
    "# using the SQLite Table to read data.\n",
    "con = sqlite3.connect('./amazon-fine-food-reviews/database.sqlite') \n",
    "\n",
    "\n",
    "\n",
    "#filtering only positive and negative reviews i.e. \n",
    "# not taking into consideration those reviews with Score=3\n",
    "filtered_data = pd.read_sql_query(\"\"\"\n",
    "SELECT *\n",
    "FROM Reviews\n",
    "WHERE Score != 3\n",
    "\"\"\", con) \n",
    "\n",
    "\n",
    "\n",
    "\n",
    "# Give reviews with Score>3 a positive rating, and reviews with a score<3 a negative rating.\n",
    "def partition(x):\n",
    "    if x < 3:\n",
    "        return 'negative'\n",
    "    return 'positive'\n",
    "\n",
    "#changing reviews with score less than 3 to be positive and vice-versa\n",
    "actualScore = filtered_data['Score']\n",
    "positiveNegative = actualScore.map(partition) \n",
    "filtered_data['Score'] = positiveNegative"
   ]
  },
  {
   "cell_type": "markdown",
   "metadata": {
    "colab_type": "text",
    "id": "TFsSNd1fJ0Kw"
   },
   "source": [
    "# Data Cleaning"
   ]
  },
  {
   "cell_type": "code",
   "execution_count": 2,
   "metadata": {
    "colab": {},
    "colab_type": "code",
    "id": "cDR8ZkDlJ0K0"
   },
   "outputs": [],
   "source": [
    "display= pd.read_sql_query(\"\"\"\n",
    "SELECT *\n",
    "FROM Reviews\n",
    "WHERE Score != 3 AND UserId=\"AR5J8UI46CURR\"\n",
    "ORDER BY ProductID\n",
    "\"\"\", con)\n",
    "\n",
    "#Sorting data according to ProductId in ascending order\n",
    "sorted_data=filtered_data.sort_values('ProductId', axis=0, ascending=True, inplace=False, kind='quicksort', na_position='last')\n",
    "#Deduplication of entries\n",
    "final=sorted_data.drop_duplicates(subset={\"UserId\",\"ProfileName\",\"Time\",\"Text\"}, keep='first', inplace=False)\n",
    "final=final[final.HelpfulnessNumerator<=final.HelpfulnessDenominator]"
   ]
  },
  {
   "cell_type": "markdown",
   "metadata": {
    "colab_type": "text",
    "id": "ni-t7-Q9J0LP"
   },
   "source": [
    "# Data Pre-Processing"
   ]
  },
  {
   "cell_type": "code",
   "execution_count": 3,
   "metadata": {
    "colab": {},
    "colab_type": "code",
    "id": "ctkGE6dNJ0LQ"
   },
   "outputs": [],
   "source": [
    "import re\n",
    "# Tutorial about Python regular expressions: https://pymotw.com/2/re/\n",
    "import string\n",
    "from nltk.corpus import stopwords\n",
    "from nltk.stem import PorterStemmer\n",
    "from nltk.stem.wordnet import WordNetLemmatizer\n",
    "\n",
    "stop = set(stopwords.words('english')) #set of stopwords\n",
    "sno = nltk.stem.SnowballStemmer('english') #initialising the snowball stemmer\n",
    "\n",
    "def cleanhtml(sentence): #function to clean the word of any html-tags\n",
    "    cleanr = re.compile('<.*?>')\n",
    "    cleantext = re.sub(cleanr, ' ', sentence)\n",
    "    return cleantext\n",
    "def cleanpunc(sentence): #function to clean the word of any punctuation or special characters\n",
    "    cleaned = re.sub(r'[?|!|\\'|\"|#]',r'',sentence)\n",
    "    cleaned = re.sub(r'[.|,|)|(|\\|/]',r' ',cleaned)\n",
    "    return  cleaned"
   ]
  },
  {
   "cell_type": "code",
   "execution_count": 4,
   "metadata": {
    "colab": {
     "base_uri": "https://localhost:8080/",
     "height": 102
    },
    "colab_type": "code",
    "id": "T5LfUs4VJ0LT",
    "outputId": "97fba1ef-f611-4a8b-9a96-9d7d7be7b7a3"
   },
   "outputs": [],
   "source": [
    "#Code for implementing step-by-step the checks mentioned in the pre-processing phase\n",
    "# this code takes a while to run as it needs to run on 500k sentences.\n",
    "i=0\n",
    "str1=' '\n",
    "final_string=[]\n",
    "all_positive_words=[] # store words from +ve reviews here\n",
    "all_negative_words=[] # store words from -ve reviews here.\n",
    "s=''\n",
    "for sent in final['Text'].values:\n",
    "    filtered_sentence=[]\n",
    "    #print(sent);\n",
    "    sent=cleanhtml(sent) # remove HTMl tags\n",
    "    for w in sent.split():\n",
    "        for cleaned_words in cleanpunc(w).split():\n",
    "            if((cleaned_words.isalpha()) & (len(cleaned_words)>2)):    \n",
    "                if(cleaned_words.lower() not in stop):\n",
    "                    s=(sno.stem(cleaned_words.lower())).encode('utf8')\n",
    "                    filtered_sentence.append(s)\n",
    "                    if (final['Score'].values)[i] == 'positive': \n",
    "                        all_positive_words.append(s) #list of all words used to describe positive reviews\n",
    "                    if(final['Score'].values)[i] == 'negative':\n",
    "                        all_negative_words.append(s) #list of all words used to describe negative reviews reviews\n",
    "                else:\n",
    "                    continue\n",
    "            else:\n",
    "                continue \n",
    "    #print(filtered_sentence)\n",
    "    str1 = b\" \".join(filtered_sentence) #final string of cleaned words\n",
    "    #print(\"***********************************************************************\")\n",
    "    \n",
    "    final_string.append(str1)\n",
    "    i+=1\n",
    "final['CleanedText']=final_string #adding a column of CleanedText which displays the data after pre-processing of the review \n"
   ]
  },
  {
   "cell_type": "markdown",
   "metadata": {
    "colab_type": "text",
    "id": "iYJBQxWwRC6o"
   },
   "source": [
    "# Time Based Sorting"
   ]
  },
  {
   "cell_type": "code",
   "execution_count": 5,
   "metadata": {
    "colab": {},
    "colab_type": "code",
    "id": "bf0i7qMHRGRh"
   },
   "outputs": [],
   "source": [
    "final=final.sort_values('Time', axis=0, ascending=True, inplace=False, kind='quicksort', na_position='last')"
   ]
  },
  {
   "cell_type": "markdown",
   "metadata": {
    "colab_type": "text",
    "id": "c9nunh2sROzi"
   },
   "source": [
    "# Data Sampling"
   ]
  },
  {
   "cell_type": "code",
   "execution_count": 6,
   "metadata": {
    "colab": {},
    "colab_type": "code",
    "id": "4_zMlu82RTct"
   },
   "outputs": [],
   "source": [
    "final = final.iloc[0:100000]\n",
    "scores = final['Score']"
   ]
  },
  {
   "cell_type": "markdown",
   "metadata": {
    "colab_type": "text",
    "id": "TWV78WttJ0LX"
   },
   "source": [
    "# Split Dataset in to Train & Test"
   ]
  },
  {
   "cell_type": "code",
   "execution_count": 8,
   "metadata": {
    "colab": {
     "base_uri": "https://localhost:8080/",
     "height": 71
    },
    "colab_type": "code",
    "id": "aFklCFjkJ0LZ",
    "outputId": "baf35849-b9d4-4488-f27e-2a3ccb587c07"
   },
   "outputs": [],
   "source": [
    "# ============================== loading libraries ===========================================\n",
    "import numpy as np\n",
    "import pandas as pd\n",
    "import matplotlib.pyplot as plt\n",
    "from sklearn.cross_validation import train_test_split\n",
    "from sklearn.metrics import accuracy_score\n",
    "from sklearn.cross_validation import cross_val_score\n",
    "from collections import Counter\n",
    "from sklearn.metrics import accuracy_score\n",
    "from sklearn import cross_validation\n",
    "from sklearn.naive_bayes import BernoulliNB\n",
    "import warnings\n",
    "from sklearn.preprocessing import Imputer\n",
    "# =============================================================================================z\n",
    "\n",
    "warnings.filterwarnings(\"ignore\") \n",
    "\n",
    "# split the data set into train and test\n",
    "X_tr, X_test, y_tr, y_test = cross_validation.train_test_split(final['CleanedText'].values, scores, test_size=0.3, random_state=0)\n",
    "\n",
    "y_test = y_test.values\n",
    "y_tr = y_tr.values"
   ]
  },
  {
   "cell_type": "markdown",
   "metadata": {
    "colab_type": "text",
    "id": "-a-owaVfJ0Lm"
   },
   "source": [
    "# Featurization using BOW"
   ]
  },
  {
   "cell_type": "code",
   "execution_count": 34,
   "metadata": {
    "colab": {},
    "colab_type": "code",
    "collapsed": true,
    "id": "J6rkLS4BJ0Ln"
   },
   "outputs": [],
   "source": [
    "#supress warnings\n",
    "warnings.filterwarnings(\"ignore\")\n",
    "\n",
    "#Converting text to vector(BOW)\n",
    "count_vect = CountVectorizer() #in scikit-learn\n",
    "count_vect.fit(X_tr)\n",
    "X_tr_vector_bow = count_vect.transform(X_tr)\n",
    "X_test_vector_bow = count_vect.transform(X_test)"
   ]
  },
  {
   "cell_type": "markdown",
   "metadata": {
    "colab_type": "text",
    "id": "Ese-RtNSJ0Lr"
   },
   "source": [
    "# Column Standardization"
   ]
  },
  {
   "cell_type": "code",
   "execution_count": 35,
   "metadata": {
    "colab": {},
    "colab_type": "code",
    "collapsed": true,
    "id": "vaXXQcGEJ0Ls"
   },
   "outputs": [],
   "source": [
    "from sklearn.preprocessing import StandardScaler\n",
    "warnings.filterwarnings(\"ignore\")\n",
    "scaler = StandardScaler(copy=True, with_mean=False, with_std=True)\n",
    "scaler.fit(X_tr_vector_bow)\n",
    "X_tr_vector_bow = scaler.transform(X_tr_vector_bow)\n",
    "X_test_vector_bow =scaler.transform(X_test_vector_bow)"
   ]
  },
  {
   "cell_type": "code",
   "execution_count": 36,
   "metadata": {
    "colab": {},
    "colab_type": "code",
    "collapsed": true,
    "id": "pYDdud9-J0L5"
   },
   "outputs": [],
   "source": [
    "from sklearn.grid_search import GridSearchCV\n",
    "from sklearn.grid_search import RandomizedSearchCV\n",
    "from sklearn.svm import SVC\n",
    "from sklearn.preprocessing import LabelEncoder\n",
    "\n",
    "\n",
    "def findGridSearchCVBestParameters(x_tr,y_tr):\n",
    "    parameters = {'gamma': [1e-6,1e-5,1e-4,1e-3,1e-2, 1e-1],'C': [1e-2,1e-1, 1, 1e2]}\n",
    "    gridmodel = GridSearchCV(SVC(class_weight = \"balanced\"), param_grid=parameters,scoring = 'roc_auc', cv=5)\n",
    "    lableEncoder = LabelEncoder()\n",
    "    y_tr = lableEncoder.fit_transform(y_tr)\n",
    "    gridmodel.fit(x_tr, y_tr)\n",
    "    grid_best_params = gridmodel.best_estimator_\n",
    "    gridmodel_best_score = gridmodel.best_score_\n",
    "    return grid_best_params,gridmodel_best_score\n",
    "    "
   ]
  },
  {
   "cell_type": "code",
   "execution_count": 37,
   "metadata": {
    "colab": {},
    "colab_type": "code",
    "collapsed": true,
    "id": "q7qN14okhK4U"
   },
   "outputs": [],
   "source": [
    "from sklearn.model_selection import RandomizedSearchCV\n",
    "from sklearn.preprocessing import LabelEncoder\n",
    "\n",
    "\n",
    "def findRandomSearchCVBestParameters(x_tr,y_tr):\n",
    "    parameters = {'gamma': [1e-6,1e-5,1e-4,1e-3,1e-2, 1e-1],'C': [1e-2,1e-1, 1, 1e2]}\n",
    "    rand_search = RandomizedSearchCV(SVC(class_weight = \"balanced\"), param_distributions = parameters,cv = 5, scoring = 'roc_auc') \n",
    "    lableEncoder = LabelEncoder()\n",
    "    y_tr = lableEncoder.fit_transform(y_tr)\n",
    "    rand_search.fit(x_tr,y_tr)\n",
    "    randomsearch_best_params = rand_search.best_estimator_\n",
    "    randomsearch_best_score = rand_search.best_score_\n",
    "    return randomsearch_best_params,randomsearch_best_score"
   ]
  },
  {
   "cell_type": "markdown",
   "metadata": {
    "colab_type": "text",
    "id": "71VVkww2WvlB"
   },
   "source": [
    "# **Finding Optimal C and gamma using Grid ,Random Search**"
   ]
  },
  {
   "cell_type": "code",
   "execution_count": 14,
   "metadata": {
    "colab": {},
    "colab_type": "code",
    "collapsed": true,
    "id": "4RcOsNuBiXT7"
   },
   "outputs": [],
   "source": [
    "randomsearch_best_params_bow,randomsearch_best_score_bow = findRandomSearchCVBestParameters(X_tr_vector_bow,y_tr)\n",
    "gridsearch_best_params_bow,gridsearch_best_score_bow = findGridSearchCVBestParameters(X_tr_vector_bow,y_tr)"
   ]
  },
  {
   "cell_type": "code",
   "execution_count": 15,
   "metadata": {
    "colab": {
     "base_uri": "https://localhost:8080/",
     "height": 265
    },
    "colab_type": "code",
    "id": "CG1YkS3urOBG",
    "outputId": "8e6d847d-59da-4e37-c2b7-105ca3273a0f"
   },
   "outputs": [
    {
     "name": "stdout",
     "output_type": "stream",
     "text": [
      "Grid Search Best Params:\n",
      " SVC(C=1, cache_size=200, class_weight='balanced', coef0=0.0,\n",
      "  decision_function_shape='ovr', degree=3, gamma=1e-05, kernel='rbf',\n",
      "  max_iter=-1, probability=False, random_state=None, shrinking=True,\n",
      "  tol=0.001, verbose=False)\n",
      "Grid Search Best Score:\n",
      " 0.9027095264031507\n",
      "Random Search Best Params:\n",
      " SVC(C=1, cache_size=200, class_weight='balanced', coef0=0.0,\n",
      "  decision_function_shape='ovr', degree=3, gamma=1e-05, kernel='rbf',\n",
      "  max_iter=-1, probability=False, random_state=None, shrinking=True,\n",
      "  tol=0.001, verbose=False)\n",
      "Random Search Best Score:\n",
      " 0.9027095264031507\n"
     ]
    }
   ],
   "source": [
    "print('Grid Search Best Params:\\n',gridsearch_best_params_bow)\n",
    "print('Grid Search Best Score:\\n',gridsearch_best_score_bow)\n",
    "print('Random Search Best Params:\\n',randomsearch_best_params_bow)\n",
    "print('Random Search Best Score:\\n',randomsearch_best_score_bow)"
   ]
  },
  {
   "cell_type": "markdown",
   "metadata": {
    "colab_type": "text",
    "id": "3ngGtE_0W-bA"
   },
   "source": [
    "# **Train and Test Accuarcy with Optimal Parameters**"
   ]
  },
  {
   "cell_type": "code",
   "execution_count": 38,
   "metadata": {
    "colab": {
     "base_uri": "https://localhost:8080/",
     "height": 521
    },
    "colab_type": "code",
    "id": "QomJ9fPhqKPg",
    "outputId": "adcee6a4-89f8-4018-e1e7-61b25cb2dfde"
   },
   "outputs": [
    {
     "name": "stdout",
     "output_type": "stream",
     "text": [
      "             precision    recall  f1-score   support\n",
      "\n",
      "   negative       0.65      0.23      0.33       320\n",
      "   positive       0.91      0.99      0.95      2680\n",
      "\n",
      "avg / total       0.89      0.90      0.88      3000\n",
      "\n",
      "Training accuracy: 0.9591428571428572\n",
      "Test accuracy: 0.9046666666666666\n"
     ]
    },
    {
     "data": {
      "text/plain": [
       "<matplotlib.axes._subplots.AxesSubplot at 0x7f4d5dd3da90>"
      ]
     },
     "execution_count": 38,
     "metadata": {},
     "output_type": "execute_result"
    },
    {
     "data": {
      "image/png": "[encoded data removed]",
      "text/plain": [
       "<matplotlib.figure.Figure at 0x7f4d87f57d68>"
      ]
     },
     "metadata": {},
     "output_type": "display_data"
    }
   ],
   "source": [
    "from sklearn.metrics import classification_report\n",
    "import seaborn as sns\n",
    "from sklearn.svm import SVC\n",
    "\n",
    "classifier_bow = SVC(C=1,gamma=1e-05,class_weight=\"balanced\")\n",
    "classifier_bow.fit(X_tr_vector_bow, y_tr)\n",
    "y_pred_bow = classifier_bow.predict(X_test_vector_bow)\n",
    "print(classification_report(y_test, y_pred_bow))\n",
    "print('Training accuracy:', classifier_bow.score(X_tr_vector_bow, y_tr))\n",
    "print('Test accuracy:', classifier_bow.score(X_test_vector_bow, y_test))\n",
    "\n",
    "confusion_matrix = confusion_matrix(y_test, y_pred_bow)\n",
    "sns.set(font_scale=1.4)#for label size\n",
    "sns.heatmap(confusion_matrix, annot=True,annot_kws={\"size\": 16})"
   ]
  },
  {
   "cell_type": "markdown",
   "metadata": {
    "colab_type": "text",
    "id": "BCfGYCHlD67F"
   },
   "source": [
    "# Plotting Train & Test Error"
   ]
  },
  {
   "cell_type": "code",
   "execution_count": 39,
   "metadata": {
    "colab": {
     "base_uri": "https://localhost:8080/",
     "height": 390
    },
    "colab_type": "code",
    "id": "Hu5Hu1SOEBGt",
    "outputId": "1a9270d3-f2de-4347-b76b-15de296cdaa6"
   },
   "outputs": [
    {
     "data": {
      "text/plain": [
       "<matplotlib.text.Text at 0x7f4d3df9b898>"
      ]
     },
     "execution_count": 39,
     "metadata": {},
     "output_type": "execute_result"
    },
    {
     "data": {
      "image/png": "[encoded data removed]",
      "text/plain": [
       "<matplotlib.figure.Figure at 0x7f4d5daacb70>"
      ]
     },
     "metadata": {},
     "output_type": "display_data"
    }
   ],
   "source": [
    "from sklearn.metrics import classification_report\n",
    "import seaborn as sns\n",
    "import matplotlib.pyplot as plt\n",
    "gamma = [1e-1,1e-2,1e-3, 1e-4,1e-5]\n",
    "train_errors = list()\n",
    "test_errors = list()\n",
    "for g in gamma:\n",
    "    classifier = SVC(C=1,gamma=g,class_weight=\"balanced\")\n",
    "    classifier.fit(X_tr_vector_bow, y_tr)\n",
    "    train_errors.append(classifier.score(X_tr_vector_bow, y_tr))\n",
    "    test_errors.append(classifier.score(X_test_vector_bow, y_test))\n",
    "\n",
    "plt.semilogx(gamma, train_errors, label='Train')\n",
    "plt.semilogx(gamma, test_errors, label='Test')\n",
    "plt.legend(loc='upper right')\n",
    "plt.xlabel('Regularization parameter Gamma')\n",
    "plt.ylabel('Performance')"
   ]
  },
  {
   "cell_type": "code",
   "execution_count": 41,
   "metadata": {
    "colab": {
     "base_uri": "https://localhost:8080/",
     "height": 390
    },
    "colab_type": "code",
    "id": "SYTnoAxIGgAT",
    "outputId": "20aee0aa-bf8a-497d-d2e5-3c44e66ad8db"
   },
   "outputs": [
    {
     "data": {
      "text/plain": [
       "<matplotlib.text.Text at 0x7f4d3d350eb8>"
      ]
     },
     "execution_count": 41,
     "metadata": {},
     "output_type": "execute_result"
    },
    {
     "data": {
      "image/png": "[encoded data removed]",
      "text/plain": [
       "<matplotlib.figure.Figure at 0x7f4d5db51cf8>"
      ]
     },
     "metadata": {},
     "output_type": "display_data"
    }
   ],
   "source": [
    "from sklearn.metrics import classification_report\n",
    "import seaborn as sns\n",
    "import matplotlib.pyplot as plt\n",
    "C = [0.01,0.1,1,100]\n",
    "train_errors = list()\n",
    "test_errors = list()\n",
    "for c in C:\n",
    "    classifier = SVC(C=c,gamma=1e-05,class_weight=\"balanced\")\n",
    "    classifier.fit(X_tr_vector_bow, y_tr)\n",
    "    train_errors.append(classifier.score(X_tr_vector_bow, y_tr))\n",
    "    test_errors.append(classifier.score(X_test_vector_bow, y_test))\n",
    "\n",
    "plt.semilogx(C, train_errors, label='Train')\n",
    "plt.semilogx(C, test_errors, label='Test')\n",
    "plt.legend(loc='upper right')\n",
    "plt.xlabel('Regularization parameter C')\n",
    "plt.ylabel('Performance')"
   ]
  },
  {
   "cell_type": "markdown",
   "metadata": {
    "colab_type": "text",
    "id": "T9Gx82f8VlXT"
   },
   "source": [
    "# **SGDClassifier with Hinge Loss**"
   ]
  },
  {
   "cell_type": "code",
   "execution_count": 42,
   "metadata": {
    "colab": {
     "base_uri": "https://localhost:8080/",
     "height": 170
    },
    "colab_type": "code",
    "id": "JKJMioTSUwXZ",
    "outputId": "04af13aa-7de5-4673-b038-3e5258b8e69a"
   },
   "outputs": [
    {
     "name": "stdout",
     "output_type": "stream",
     "text": [
      "             precision    recall  f1-score   support\n",
      "\n",
      "   negative       0.34      0.65      0.44       320\n",
      "   positive       0.95      0.85      0.90      2680\n",
      "\n",
      "avg / total       0.89      0.82      0.85      3000\n",
      "\n",
      "Training accuracy: 0.9748571428571429\n",
      "Test accuracy: 0.825\n"
     ]
    }
   ],
   "source": [
    "from sklearn import linear_model\n",
    "sgdclf = linear_model.SGDClassifier(class_weight=\"balanced\")\n",
    "sgdclf.fit(X_tr_vector_bow, y_tr)\n",
    "y_pred_bow = sgdclf.predict(X_test_vector_bow)\n",
    "print(classification_report(y_test, y_pred_bow))\n",
    "print('Training accuracy:', sgdclf.score(X_tr_vector_bow, y_tr))\n",
    "print('Test accuracy:', sgdclf.score(X_test_vector_bow, y_test))"
   ]
  },
  {
   "cell_type": "markdown",
   "metadata": {
    "colab_type": "text",
    "id": "4daNCHhSJ0L_"
   },
   "source": [
    "# Featurization using tfidf"
   ]
  },
  {
   "cell_type": "code",
   "execution_count": 10,
   "metadata": {
    "colab": {},
    "colab_type": "code",
    "collapsed": true,
    "id": "gR00Qn9wJ0MB"
   },
   "outputs": [],
   "source": [
    "#Converting text to tfidf vector(tfidf)\n",
    "tf_idf_vect = TfidfVectorizer()\n",
    "final_tf_idf = tf_idf_vect.fit(X_tr)\n",
    "X_tr_vector_tfidf = final_tf_idf.transform(X_tr)\n",
    "X_test_vector_tfidf = final_tf_idf.transform(X_test)"
   ]
  },
  {
   "cell_type": "markdown",
   "metadata": {
    "colab_type": "text",
    "id": "TUMVzJJyJ0MH"
   },
   "source": [
    "# Column Standardization"
   ]
  },
  {
   "cell_type": "code",
   "execution_count": 11,
   "metadata": {
    "colab": {},
    "colab_type": "code",
    "collapsed": true,
    "id": "GlvK1nSSJ0MJ"
   },
   "outputs": [],
   "source": [
    "from sklearn.preprocessing import StandardScaler\n",
    "scaler = StandardScaler(copy=True, with_mean=False, with_std=True)\n",
    "scaler.fit(X_tr_vector_tfidf)\n",
    "X_tr_vector_tfidf = scaler.transform(X_tr_vector_tfidf)\n",
    "X_test_vector_tfidf =scaler.transform(X_test_vector_tfidf)"
   ]
  },
  {
   "cell_type": "markdown",
   "metadata": {
    "colab_type": "text",
    "id": "UGZfHiA6JAkL"
   },
   "source": [
    "# **Finding Optimal C and gamma using Grid ,Random Search**"
   ]
  },
  {
   "cell_type": "code",
   "execution_count": 22,
   "metadata": {
    "colab": {},
    "colab_type": "code",
    "collapsed": true,
    "id": "ABl_EYT0r4wW"
   },
   "outputs": [],
   "source": [
    "randomsearch_best_params_tfidf,randomsearch_best_score_tfidf = findRandomSearchCVBestParameters(X_tr_vector_tfidf,y_tr)\n",
    "gridsearch_best_params_tfidf,gridsearch_best_score_tfidf = findGridSearchCVBestParameters(X_tr_vector_tfidf,y_tr)"
   ]
  },
  {
   "cell_type": "code",
   "execution_count": 23,
   "metadata": {
    "colab": {
     "base_uri": "https://localhost:8080/",
     "height": 194
    },
    "colab_type": "code",
    "id": "g-tM4WFUr9t6",
    "outputId": "ff074987-60a9-44a3-d289-e77456c47092"
   },
   "outputs": [
    {
     "name": "stdout",
     "output_type": "stream",
     "text": [
      "Grid Search Best Params SVC(C=1, cache_size=200, class_weight='balanced', coef0=0.0,\n",
      "  decision_function_shape='ovr', degree=3, gamma=1e-05, kernel='rbf',\n",
      "  max_iter=-1, probability=False, random_state=None, shrinking=True,\n",
      "  tol=0.001, verbose=False)\n",
      "Grid Search Best Score 0.9036021517508962\n",
      "Random Search Best Params SVC(C=1, cache_size=200, class_weight='balanced', coef0=0.0,\n",
      "  decision_function_shape='ovr', degree=3, gamma=1e-05, kernel='rbf',\n",
      "  max_iter=-1, probability=False, random_state=None, shrinking=True,\n",
      "  tol=0.001, verbose=False)\n",
      "Random Search Best Score 0.9036021517508962\n"
     ]
    }
   ],
   "source": [
    "print('Grid Search Best Params',gridsearch_best_params_tfidf)\n",
    "print('Grid Search Best Score',gridsearch_best_score_tfidf)\n",
    "print('Random Search Best Params',randomsearch_best_params_tfidf)\n",
    "print('Random Search Best Score',randomsearch_best_score_tfidf)"
   ]
  },
  {
   "cell_type": "markdown",
   "metadata": {
    "colab_type": "text",
    "id": "358RkbwYIzwl"
   },
   "source": [
    "# Train and Test Accuarcy with Optimal Parameters"
   ]
  },
  {
   "cell_type": "code",
   "execution_count": 12,
   "metadata": {
    "colab": {
     "base_uri": "https://localhost:8080/",
     "height": 521
    },
    "colab_type": "code",
    "id": "jUWu3-mlsEXT",
    "outputId": "9d81173f-b21e-4b64-8165-1ecd9b36aea6"
   },
   "outputs": [
    {
     "name": "stdout",
     "output_type": "stream",
     "text": [
      "             precision    recall  f1-score   support\n",
      "\n",
      "   negative       0.67      0.35      0.46       320\n",
      "   positive       0.93      0.98      0.95      2680\n",
      "\n",
      "avg / total       0.90      0.91      0.90      3000\n",
      "\n",
      "Training accuracy: 0.978\n",
      "Test accuracy: 0.9123333333333333\n"
     ]
    },
    {
     "data": {
      "text/plain": [
       "<matplotlib.axes._subplots.AxesSubplot at 0x7f063aae8358>"
      ]
     },
     "execution_count": 12,
     "metadata": {},
     "output_type": "execute_result"
    },
    {
     "data": {
      "image/png": "[encoded data removed]",
      "text/plain": [
       "<matplotlib.figure.Figure at 0x7f063ab47f60>"
      ]
     },
     "metadata": {},
     "output_type": "display_data"
    }
   ],
   "source": [
    "from sklearn.metrics import classification_report\n",
    "from sklearn.svm import SVC\n",
    "\n",
    "classifier_tfidf = SVC(C=1,gamma=1e-05,class_weight=\"balanced\")\n",
    "classifier_tfidf.fit(X_tr_vector_tfidf, y_tr)\n",
    "y_pred_tfidf = classifier_tfidf.predict(X_test_vector_tfidf)\n",
    "print(classification_report(y_test, y_pred_tfidf))\n",
    "print('Training accuracy:', classifier_tfidf.score(X_tr_vector_tfidf, y_tr))\n",
    "print('Test accuracy:', classifier_tfidf.score(X_test_vector_tfidf, y_test))\n",
    "\n",
    "confusion_matrix = confusion_matrix(y_test, y_pred_tfidf)\n",
    "sns.set(font_scale=1.4)#for label size\n",
    "sns.heatmap(confusion_matrix, annot=True,annot_kws={\"size\": 16})"
   ]
  },
  {
   "cell_type": "markdown",
   "metadata": {
    "colab_type": "text",
    "id": "t0ViaJIFKJwE"
   },
   "source": [
    "# Plotting Train & Test Error"
   ]
  },
  {
   "cell_type": "code",
   "execution_count": 44,
   "metadata": {
    "colab": {
     "base_uri": "https://localhost:8080/",
     "height": 390
    },
    "colab_type": "code",
    "id": "b7_q3KW7KLph",
    "outputId": "a0df1a4f-d458-4eaf-ff2d-47606db5b1b1"
   },
   "outputs": [
    {
     "data": {
      "text/plain": [
       "<matplotlib.text.Text at 0x7f4d3d4605c0>"
      ]
     },
     "execution_count": 44,
     "metadata": {},
     "output_type": "execute_result"
    },
    {
     "data": {
      "image/png": "[encoded data removed]",
      "text/plain": [
       "<matplotlib.figure.Figure at 0x7f4d3d274fd0>"
      ]
     },
     "metadata": {},
     "output_type": "display_data"
    }
   ],
   "source": [
    "from sklearn.metrics import classification_report\n",
    "import seaborn as sns\n",
    "import matplotlib.pyplot as plt\n",
    "gamma = [1e-2,1e-3,1e-4,1e-5,1e-6]\n",
    "train_errors = list()\n",
    "test_errors = list()\n",
    "for g in gamma:\n",
    "    classifier = SVC(C=1,gamma=g,class_weight=\"balanced\")\n",
    "    classifier.fit(X_tr_vector_tfidf, y_tr)\n",
    "    train_errors.append(classifier.score(X_tr_vector_tfidf, y_tr))\n",
    "    test_errors.append(classifier.score(X_test_vector_tfidf, y_test))\n",
    "\n",
    "plt.semilogx(gamma, train_errors, label='Train')\n",
    "plt.semilogx(gamma, test_errors, label='Test')\n",
    "plt.legend(loc='upper right')\n",
    "plt.xlabel('Regularization parameter Gamma')\n",
    "plt.ylabel('Performance')"
   ]
  },
  {
   "cell_type": "code",
   "execution_count": 45,
   "metadata": {
    "colab": {
     "base_uri": "https://localhost:8080/",
     "height": 390
    },
    "colab_type": "code",
    "id": "_z2x-JK8KaqC",
    "outputId": "449cbea1-1ef9-49af-c6c0-eea1ba550962"
   },
   "outputs": [
    {
     "data": {
      "text/plain": [
       "<matplotlib.text.Text at 0x7f4d5dd3da20>"
      ]
     },
     "execution_count": 45,
     "metadata": {},
     "output_type": "execute_result"
    },
    {
     "data": {
      "image/png": "[encoded data removed]",
      "text/plain": [
       "<matplotlib.figure.Figure at 0x7f4d3da34b70>"
      ]
     },
     "metadata": {},
     "output_type": "display_data"
    }
   ],
   "source": [
    "from sklearn.metrics import classification_report\n",
    "import seaborn as sns\n",
    "import matplotlib.pyplot as plt\n",
    "C = [0.01,0.1,1,100]\n",
    "train_errors = list()\n",
    "test_errors = list()\n",
    "for c in C:\n",
    "    classifier = SVC(C=c,gamma=1e-05,class_weight=\"balanced\")\n",
    "    classifier.fit(X_tr_vector_tfidf, y_tr)\n",
    "    train_errors.append(classifier.score(X_tr_vector_tfidf, y_tr))\n",
    "    test_errors.append(classifier.score(X_test_vector_tfidf, y_test))\n",
    "\n",
    "plt.semilogx(C, train_errors, label='Train')\n",
    "plt.semilogx(C, test_errors, label='Test')\n",
    "plt.legend(loc='upper right')\n",
    "plt.xlabel('Regularization parameter C')\n",
    "plt.ylabel('Performance')"
   ]
  },
  {
   "cell_type": "markdown",
   "metadata": {
    "colab_type": "text",
    "id": "fI-b_qU_KuWE"
   },
   "source": [
    "# **SGDClassifier with Hinge Loss**"
   ]
  },
  {
   "cell_type": "code",
   "execution_count": 46,
   "metadata": {
    "colab": {
     "base_uri": "https://localhost:8080/",
     "height": 176
    },
    "colab_type": "code",
    "id": "uzdwYDF1KvWk",
    "outputId": "d60a11ae-57c7-4b68-af5f-ef0eff146507"
   },
   "outputs": [
    {
     "name": "stdout",
     "output_type": "stream",
     "text": [
      "             precision    recall  f1-score   support\n",
      "\n",
      "   negative       0.67      0.35      0.46       320\n",
      "   positive       0.93      0.98      0.95      2680\n",
      "\n",
      "avg / total       0.90      0.91      0.90      3000\n",
      "\n",
      "Training accuracy: 0.987\n",
      "Test accuracy: 0.825\n"
     ]
    }
   ],
   "source": [
    "from sklearn import linear_model\n",
    "sgdclf = linear_model.SGDClassifier(class_weight=\"balanced\")\n",
    "sgdclf.fit(X_tr_vector_tfidf, y_tr)\n",
    "y_pred_bow = sgdclf.predict(X_test_vector_tfidf)\n",
    "print(classification_report(y_test, y_pred_tfidf))\n",
    "print('Training accuracy:', sgdclf.score(X_tr_vector_tfidf, y_tr))\n",
    "print('Test accuracy:', sgdclf.score(X_test_vector_tfidf, y_test))"
   ]
  },
  {
   "cell_type": "markdown",
   "metadata": {
    "colab_type": "text",
    "id": "KAhqNgw1J0MN"
   },
   "source": [
    "# Featurization using avgW2Vec"
   ]
  },
  {
   "cell_type": "code",
   "execution_count": 14,
   "metadata": {
    "colab": {},
    "colab_type": "code",
    "collapsed": true,
    "id": "Pkg379k0J0MO"
   },
   "outputs": [],
   "source": [
    "import gensim\n",
    "import warnings\n",
    "\n",
    "\n",
    "warnings.filterwarnings(\"ignore\") \n",
    "i=0\n",
    "list_of_sent_X_tr=[]\n",
    "for sent in X_tr:\n",
    "    filtered_sentence=[]\n",
    "    sent = sent.decode('utf-8')\n",
    "    sent=cleanhtml(sent)\n",
    "    for w in sent.split():\n",
    "        for cleaned_words in cleanpunc(w).split():\n",
    "            if(cleaned_words.isalpha()):    \n",
    "                filtered_sentence.append(cleaned_words.lower())\n",
    "            else:\n",
    "                continue \n",
    "    list_of_sent_X_tr.append(filtered_sentence)"
   ]
  },
  {
   "cell_type": "code",
   "execution_count": 15,
   "metadata": {
    "colab": {},
    "colab_type": "code",
    "collapsed": true,
    "id": "da2MRRr2J0MS"
   },
   "outputs": [],
   "source": [
    "import gensim\n",
    "\n",
    "#supress warnings\n",
    "warnings.filterwarnings(\"ignore\")\n",
    "\n",
    "i=0\n",
    "list_of_sent_X_test=[]\n",
    "for sent in X_test:\n",
    "    filtered_sentence=[]\n",
    "    sent = sent.decode('utf-8')\n",
    "    sent=cleanhtml(sent)\n",
    "    for w in sent.split():\n",
    "        for cleaned_words in cleanpunc(w).split():\n",
    "            if(cleaned_words.isalpha()):    \n",
    "                filtered_sentence.append(cleaned_words.lower())\n",
    "            else:\n",
    "                continue \n",
    "    list_of_sent_X_test.append(filtered_sentence)"
   ]
  },
  {
   "cell_type": "code",
   "execution_count": 16,
   "metadata": {
    "colab": {},
    "colab_type": "code",
    "collapsed": true,
    "id": "RgBO_DW6J0MW"
   },
   "outputs": [],
   "source": [
    "w2v_model=gensim.models.Word2Vec(list_of_sent_X_tr,min_count=1,size=50, workers=4) "
   ]
  },
  {
   "cell_type": "code",
   "execution_count": 17,
   "metadata": {
    "colab": {},
    "colab_type": "code",
    "collapsed": true,
    "id": "SefVCZa4J0Ma"
   },
   "outputs": [],
   "source": [
    "# average Word2Vec\n",
    "# compute average word2vec for each review.\n",
    "sent_vectors_X_tr = []; # the avg-w2v for each sentence/review is stored in this list\n",
    "for sent in list_of_sent_X_tr: # for each review/sentence\n",
    "    sent_vec = np.zeros(50) # as word vectors are of zero length\n",
    "    cnt_words =0; # num of words with a valid vector in the sentence/review\n",
    "    for word in sent: # for each word in a review/sentence\n",
    "        try:\n",
    "            vec = w2v_model.wv[word]\n",
    "            sent_vec += vec\n",
    "            cnt_words += 1\n",
    "        except:\n",
    "            pass\n",
    "    sent_vec /= cnt_words\n",
    "    sent_vectors_X_tr.append(sent_vec)"
   ]
  },
  {
   "cell_type": "code",
   "execution_count": 18,
   "metadata": {
    "colab": {},
    "colab_type": "code",
    "collapsed": true,
    "id": "bA2NXB46J0Mg"
   },
   "outputs": [],
   "source": [
    "# average Word2Vec\n",
    "# compute average word2vec for each review.\n",
    "sent_vectors_X_test = []; # the avg-w2v for each sentence/review is stored in this list\n",
    "for sent in list_of_sent_X_test: # for each review/sentence\n",
    "    sent_vec = np.zeros(50) # as word vectors are of zero length\n",
    "    cnt_words =0; # num of words with a valid vector in the sentence/review\n",
    "    for word in sent: # for each word in a review/sentence\n",
    "        try:\n",
    "            vec = w2v_model.wv[word]\n",
    "            sent_vec += vec\n",
    "            cnt_words += 1\n",
    "        except:\n",
    "            pass\n",
    "    sent_vec /= cnt_words\n",
    "    sent_vectors_X_test.append(sent_vec)"
   ]
  },
  {
   "cell_type": "code",
   "execution_count": 19,
   "metadata": {
    "colab": {},
    "colab_type": "code",
    "collapsed": true,
    "id": "eTbaUn5BJ0Mk"
   },
   "outputs": [],
   "source": [
    "X_tr_vector_avgW2V = sent_vectors_X_tr\n",
    "X_test_vector_avgW2V = sent_vectors_X_test "
   ]
  },
  {
   "cell_type": "markdown",
   "metadata": {
    "colab_type": "text",
    "id": "kfgY0EHIJ0Mo"
   },
   "source": [
    "# Column Standardization"
   ]
  },
  {
   "cell_type": "code",
   "execution_count": 18,
   "metadata": {
    "colab": {},
    "colab_type": "code",
    "collapsed": true,
    "id": "wdlW_17XJ0Mp"
   },
   "outputs": [],
   "source": [
    "from sklearn.preprocessing import Imputer\n",
    "X_test_vector_avgW2V = Imputer().fit_transform(X_test_vector_avgW2V)"
   ]
  },
  {
   "cell_type": "code",
   "execution_count": 19,
   "metadata": {
    "colab": {},
    "colab_type": "code",
    "collapsed": true,
    "id": "NIRxjheyJ0Mu"
   },
   "outputs": [],
   "source": [
    "from sklearn.preprocessing import StandardScaler\n",
    "warnings.filterwarnings(\"ignore\")\n",
    "scaler = StandardScaler(copy=True, with_mean=False, with_std=True)\n",
    "scaler.fit(X_tr_vector_avgW2V)\n",
    "X_tr_vector_avgW2V = scaler.transform(X_tr_vector_avgW2V)\n",
    "X_test_vector_avgW2V =scaler.transform(X_test_vector_avgW2V)"
   ]
  },
  {
   "cell_type": "markdown",
   "metadata": {
    "colab_type": "text",
    "id": "lvboJ0qJLZlH"
   },
   "source": [
    "# **Finding Optimal C and gamma using Grid ,Random Search**"
   ]
  },
  {
   "cell_type": "code",
   "execution_count": 22,
   "metadata": {
    "colab": {},
    "colab_type": "code",
    "collapsed": true,
    "id": "XZCU7YG2t5ea"
   },
   "outputs": [],
   "source": [
    "randomsearch_best_params_avgW2V,randomsearch_best_score_avgW2V = findRandomSearchCVBestParameters(X_tr_vector_avgW2V,y_tr)\n",
    "gridsearch_best_params_avgW2V,gridsearch_best_score_avgW2V = findGridSearchCVBestParameters(X_tr_vector_avgW2V,y_tr)"
   ]
  },
  {
   "cell_type": "code",
   "execution_count": 31,
   "metadata": {
    "colab": {
     "base_uri": "https://localhost:8080/",
     "height": 194
    },
    "colab_type": "code",
    "id": "GX0ngrbjuA-e",
    "outputId": "7485fc14-8717-494f-aa8f-0a7eb20c3322"
   },
   "outputs": [
    {
     "name": "stdout",
     "output_type": "stream",
     "text": [
      "Grid Search Best Params SVC(C=100.0, cache_size=200, class_weight='balanced', coef0=0.0,\n",
      "  decision_function_shape='ovr', degree=3, gamma=0.001, kernel='rbf',\n",
      "  max_iter=-1, probability=False, random_state=None, shrinking=True,\n",
      "  tol=0.001, verbose=False)\n",
      "Grid Search Best Score 0.8327741483672214\n",
      "Random Search Best Params SVC(C=100.0, cache_size=200, class_weight='balanced', coef0=0.0,\n",
      "  decision_function_shape='ovr', degree=3, gamma=0.001, kernel='rbf',\n",
      "  max_iter=-1, probability=False, random_state=None, shrinking=True,\n",
      "  tol=0.001, verbose=False)\n",
      "Random Search Best Score 0.8327741483672214\n"
     ]
    }
   ],
   "source": [
    "print('Grid Search Best Params',gridsearch_best_params_avgW2V)\n",
    "print('Grid Search Best Score',gridsearch_best_score_avgW2V)\n",
    "print('Random Search Best Params',randomsearch_best_params_avgW2V)\n",
    "print('Random Search Best Score',randomsearch_best_score_avgW2V)"
   ]
  },
  {
   "cell_type": "markdown",
   "metadata": {
    "colab_type": "text",
    "id": "PfGkKy1ELkC0"
   },
   "source": [
    "# Train and Test Accuarcy with Optimal Parameters"
   ]
  },
  {
   "cell_type": "code",
   "execution_count": 20,
   "metadata": {
    "colab": {
     "base_uri": "https://localhost:8080/",
     "height": 528
    },
    "colab_type": "code",
    "id": "qFBgaALnuQHx",
    "outputId": "a51bc016-cd7f-470c-aa4b-e403eb01486c"
   },
   "outputs": [
    {
     "name": "stdout",
     "output_type": "stream",
     "text": [
      "             precision    recall  f1-score   support\n",
      "\n",
      "   negative       0.26      0.78      0.39       320\n",
      "   positive       0.97      0.74      0.83      2680\n",
      "\n",
      "avg / total       0.89      0.74      0.79      3000\n",
      "\n",
      "Training accuracy: 0.7477142857142857\n",
      "Test accuracy: 0.7396666666666667\n"
     ]
    },
    {
     "data": {
      "text/plain": [
       "<matplotlib.axes._subplots.AxesSubplot at 0x7f539dad6550>"
      ]
     },
     "execution_count": 20,
     "metadata": {},
     "output_type": "execute_result"
    },
    {
     "data": {
      "image/png": "[encoded data removed]",
      "text/plain": [
       "<matplotlib.figure.Figure at 0x7f539ddc34e0>"
      ]
     },
     "metadata": {},
     "output_type": "display_data"
    }
   ],
   "source": [
    "from sklearn.metrics import classification_report\n",
    "import seaborn as sns\n",
    "from sklearn.svm import SVC\n",
    "classifier_avgW2V = SVC(C=100,gamma=0.001,class_weight=\"balanced\")\n",
    "classifier_avgW2V.fit(X_tr_vector_avgW2V, y_tr)\n",
    "y_pred_avgW2V = classifier_avgW2V.predict(X_test_vector_avgW2V)\n",
    "print(classification_report(y_test, y_pred_avgW2V))\n",
    "print('Training accuracy:', classifier_avgW2V.score(X_tr_vector_avgW2V, y_tr))\n",
    "print('Test accuracy:', classifier_avgW2V.score(X_test_vector_avgW2V, y_test))\n",
    "\n",
    "\n",
    "confusion_matrix = confusion_matrix(y_test, y_pred_avgW2V)\n",
    "sns.set(font_scale=1.4)#for label size\n",
    "sns.heatmap(confusion_matrix, annot=True,annot_kws={\"size\": 16})\n",
    "\n"
   ]
  },
  {
   "cell_type": "markdown",
   "metadata": {
    "colab_type": "text",
    "id": "dqtczygTLtVO"
   },
   "source": [
    "# Plotting Train & Test Error"
   ]
  },
  {
   "cell_type": "code",
   "execution_count": 48,
   "metadata": {
    "colab": {
     "base_uri": "https://localhost:8080/",
     "height": 390
    },
    "colab_type": "code",
    "id": "JYLhQm7YLzzZ",
    "outputId": "89e919cf-ca27-4648-ca7e-56160860e711"
   },
   "outputs": [
    {
     "data": {
      "text/plain": [
       "<matplotlib.text.Text at 0x7f4d3d6367b8>"
      ]
     },
     "execution_count": 48,
     "metadata": {},
     "output_type": "execute_result"
    },
    {
     "data": {
      "image/png": "[encoded data removed]",
      "text/plain": [
       "<matplotlib.figure.Figure at 0x7f4d3cf98320>"
      ]
     },
     "metadata": {},
     "output_type": "display_data"
    }
   ],
   "source": [
    "from sklearn.metrics import classification_report\n",
    "import seaborn as sns\n",
    "import matplotlib.pyplot as plt\n",
    "gamma = [1e-1,1e-2,1e-3, 1e-4,1e-5]\n",
    "train_errors = list()\n",
    "test_errors = list()\n",
    "for g in gamma:\n",
    "    classifier = SVC(C=100,gamma=g,class_weight=\"balanced\")\n",
    "    classifier.fit(X_tr_vector_avgW2V, y_tr)\n",
    "    train_errors.append(classifier.score(X_tr_vector_avgW2V, y_tr))\n",
    "    test_errors.append(classifier.score(X_test_vector_avgW2V, y_test))\n",
    "\n",
    "plt.semilogx(gamma, train_errors, label='Train')\n",
    "plt.semilogx(gamma, test_errors, label='Test')\n",
    "plt.legend(loc='upper right')\n",
    "plt.xlabel('Regularization parameter Gamma')\n",
    "plt.ylabel('Performance')"
   ]
  },
  {
   "cell_type": "code",
   "execution_count": 49,
   "metadata": {
    "colab": {
     "base_uri": "https://localhost:8080/",
     "height": 390
    },
    "colab_type": "code",
    "id": "Va64cdW8L-iT",
    "outputId": "e3c7f14c-8087-41cf-b489-a47e7b541cce"
   },
   "outputs": [
    {
     "data": {
      "text/plain": [
       "<matplotlib.text.Text at 0x7f4d3d274a20>"
      ]
     },
     "execution_count": 49,
     "metadata": {},
     "output_type": "execute_result"
    },
    {
     "data": {
      "image/png": "[encoded data removed]",
      "text/plain": [
       "<matplotlib.figure.Figure at 0x7f4d3d42e1d0>"
      ]
     },
     "metadata": {},
     "output_type": "display_data"
    }
   ],
   "source": [
    "from sklearn.metrics import classification_report\n",
    "import seaborn as sns\n",
    "import matplotlib.pyplot as plt\n",
    "C = [1,100,1000,10000]\n",
    "train_errors = list()\n",
    "test_errors = list()\n",
    "for c in C:\n",
    "    classifier = SVC(C=c,gamma=0.001,class_weight=\"balanced\")\n",
    "    classifier.fit(X_tr_vector_avgW2V, y_tr)\n",
    "    train_errors.append(classifier.score(X_tr_vector_avgW2V, y_tr))\n",
    "    test_errors.append(classifier.score(X_test_vector_avgW2V, y_test))\n",
    "\n",
    "plt.semilogx(C, train_errors, label='Train')\n",
    "plt.semilogx(C, test_errors, label='Test')\n",
    "plt.legend(loc='upper right')\n",
    "plt.xlabel('Regularization parameter C')\n",
    "plt.ylabel('Performance')"
   ]
  },
  {
   "cell_type": "markdown",
   "metadata": {
    "colab_type": "text",
    "id": "ClgKZpVfNs7S"
   },
   "source": [
    "# **SGDClassifier with Hinge Loss**"
   ]
  },
  {
   "cell_type": "code",
   "execution_count": 55,
   "metadata": {
    "colab": {
     "base_uri": "https://localhost:8080/",
     "height": 176
    },
    "colab_type": "code",
    "id": "3KzYtO7pNuuU",
    "outputId": "c101523a-383a-4df5-9a8b-86b72f04286f"
   },
   "outputs": [
    {
     "name": "stdout",
     "output_type": "stream",
     "text": [
      "             precision    recall  f1-score   support\n",
      "\n",
      "   negative       0.36      0.38      0.37       320\n",
      "   positive       0.92      0.92      0.92      2680\n",
      "\n",
      "avg / total       0.86      0.86      0.86      3000\n",
      "\n",
      "Training accuracy: 0.8598571428571429\n",
      "Test accuracy: 0.8616666666666667\n"
     ]
    }
   ],
   "source": [
    "from sklearn import linear_model\n",
    "sgdclf = linear_model.SGDClassifier(class_weight=\"balanced\")\n",
    "sgdclf.fit(X_tr_vector_avgW2V, y_tr)\n",
    "y_pred_avgW2V = sgdclf.predict(X_test_vector_avgW2V)\n",
    "print(classification_report(y_test, y_pred_avgW2V))\n",
    "print('Training accuracy:', sgdclf.score(X_tr_vector_avgW2V, y_tr))\n",
    "print('Test accuracy:', sgdclf.score(X_test_vector_avgW2V, y_test))"
   ]
  },
  {
   "cell_type": "markdown",
   "metadata": {
    "colab_type": "text",
    "id": "0vAoeACfJ0My"
   },
   "source": [
    "# Featurization using tfidfw2v"
   ]
  },
  {
   "cell_type": "code",
   "execution_count": 12,
   "metadata": {
    "colab": {},
    "colab_type": "code",
    "collapsed": true,
    "id": "CcLiyBQd-LfX"
   },
   "outputs": [],
   "source": [
    "tf_idf_X_tr_vect = TfidfVectorizer()\n",
    "tf_idf_X_tr_vect.fit(X_tr)\n",
    "final_tf_idf_X_tr_vect = tf_idf_X_tr_vect.transform(X_tr)\n",
    "final_tf_idf_X_test_vect = tf_idf_X_tr_vect.transform(X_test)"
   ]
  },
  {
   "cell_type": "code",
   "execution_count": 20,
   "metadata": {
    "colab": {},
    "colab_type": "code",
    "id": "Q7VUqjzYJ0Mz"
   },
   "outputs": [],
   "source": [
    "# TF-IDF weighted Word2Vec\n",
    "tfidf_feat = tf_idf_X_tr_vect.get_feature_names() # tfidf words/col-names\n",
    "# final_tf_idf is the sparse matrix with row= sentence, col=word and cell_val = tfidf\n",
    "\n",
    "tfidf_sent_X_tr_vectors = []; # the tfidf-w2v for each sentence/review is stored in this list\n",
    "row=0;\n",
    "for sent in list_of_sent_X_tr: # for each review/sentence\n",
    "    sent_vec = np.zeros(50) # as word vectors are of zero length\n",
    "    weight_sum =0; # num of words with a valid vector in the sentence/review\n",
    "    for word in sent: # for each word in a review/sentence\n",
    "        try: \n",
    "            \n",
    "            vec = w2v_model.wv[word]\n",
    "            # obtain the tf_idfidf of a word in a sentence/review\n",
    "            tf_idf = final_tf_idf_X_tr_vect[row, tfidf_feat.index(word)]\n",
    "            sent_vec +=(vec * tf_idf)\n",
    "            weight_sum += tf_idf\n",
    "        except:\n",
    "            pass\n",
    "    sent_vec /= weight_sum\n",
    "    tfidf_sent_X_tr_vectors.append(sent_vec)\n",
    "    row += 1"
   ]
  },
  {
   "cell_type": "code",
   "execution_count": 21,
   "metadata": {
    "colab": {},
    "colab_type": "code",
    "collapsed": true,
    "id": "aa8DJ3d3J0M4"
   },
   "outputs": [],
   "source": [
    "# TF-IDF weighted Word2Vec\n",
    "tfidf_feat = tf_idf_X_tr_vect.get_feature_names() # tfidf words/col-names\n",
    "# final_tf_idf is the sparse matrix with row= sentence, col=word and cell_val = tfidf\n",
    "\n",
    "tfidf_sent_X_test_vectors = []; # the tfidf-w2v for each sentence/review is stored in this list\n",
    "row=0;\n",
    "for sent in list_of_sent_X_test: # for each review/sentence\n",
    "    sent_vec = np.zeros(50) # as word vectors are of zero length\n",
    "    weight_sum =0; # num of words with a valid vector in the sentence/review\n",
    "    for word in sent: # for each word in a review/sentence\n",
    "        try:\n",
    "            \n",
    "            vec = w2v_model.wv[word]\n",
    "            # obtain the tf_idfidf of a word in a sentence/review\n",
    "            tf_idf = final_tf_idf_X_test_vect[row, tfidf_feat.index(word)]\n",
    "            sent_vec +=(vec * tf_idf)\n",
    "            weight_sum += tf_idf\n",
    "        except:\n",
    "            pass\n",
    "    sent_vec /= weight_sum\n",
    "    tfidf_sent_X_test_vectors.append(sent_vec)\n",
    "    row += 1"
   ]
  },
  {
   "cell_type": "code",
   "execution_count": 22,
   "metadata": {
    "colab": {},
    "colab_type": "code",
    "collapsed": true,
    "id": "LBSfjvY9J0M8"
   },
   "outputs": [],
   "source": [
    "X_tr_vector_tfidfW2V = tfidf_sent_X_tr_vectors\n",
    "X_test_vector_tfidfW2V = tfidf_sent_X_test_vectors"
   ]
  },
  {
   "cell_type": "markdown",
   "metadata": {
    "colab_type": "text",
    "id": "IJK46CPkJ0M_"
   },
   "source": [
    "# Column Standardization"
   ]
  },
  {
   "cell_type": "code",
   "execution_count": 23,
   "metadata": {
    "colab": {},
    "colab_type": "code",
    "collapsed": true,
    "id": "gkUtgych9fsl"
   },
   "outputs": [],
   "source": [
    "from sklearn.preprocessing import Imputer\n",
    "X_tr_vector = Imputer().fit_transform(X_tr_vector_tfidfW2V)\n",
    "X_test_vector = Imputer().fit_transform(X_test_vector_tfidfW2V)"
   ]
  },
  {
   "cell_type": "code",
   "execution_count": 24,
   "metadata": {
    "colab": {},
    "colab_type": "code",
    "collapsed": true,
    "id": "VFSloIimJ0NA"
   },
   "outputs": [],
   "source": [
    "from sklearn.preprocessing import StandardScaler\n",
    "scaler = StandardScaler(copy=True, with_mean=False, with_std=True)\n",
    "scaler.fit(X_tr_vector_tfidfW2V)\n",
    "X_tr_vector_tfidfW2V = scaler.transform(X_tr_vector_tfidfW2V)\n",
    "X_test_vector_tfidfW2V =scaler.transform(X_test_vector_tfidfW2V)"
   ]
  },
  {
   "cell_type": "markdown",
   "metadata": {
    "colab_type": "text",
    "id": "LFrfxPbbMa3B"
   },
   "source": [
    "# **Finding Optimal C and gamma using Grid ,Random Search**"
   ]
  },
  {
   "cell_type": "code",
   "execution_count": 29,
   "metadata": {
    "colab": {},
    "colab_type": "code",
    "collapsed": true,
    "id": "9rbWidPkvS_k"
   },
   "outputs": [],
   "source": [
    "randomsearch_best_params_tfidfW2V,randomsearch_best_score_tfidfW2V = findRandomSearchCVBestParameters(X_tr_vector_tfidfW2V,y_tr)\n",
    "gridsearch_best_params_tfidfW2V,gridsearch_best_score_tfidfW2V = findGridSearchCVBestParameters(X_tr_vector_tfidfW2V,y_tr)"
   ]
  },
  {
   "cell_type": "code",
   "execution_count": 30,
   "metadata": {
    "colab": {
     "base_uri": "https://localhost:8080/",
     "height": 194
    },
    "colab_type": "code",
    "id": "AyFzNp0e-se1",
    "outputId": "31c9f199-84fb-47cf-fcc2-f51003c10519"
   },
   "outputs": [
    {
     "name": "stdout",
     "output_type": "stream",
     "text": [
      "Grid Search Best Params SVC(C=100.0, cache_size=200, class_weight='balanced', coef0=0.0,\n",
      "  decision_function_shape='ovr', degree=3, gamma=0.001, kernel='rbf',\n",
      "  max_iter=-1, probability=False, random_state=None, shrinking=True,\n",
      "  tol=0.001, verbose=False)\n",
      "Grid Search Best Score 0.8050209908231113\n",
      "Random Search Best Params SVC(C=100.0, cache_size=200, class_weight='balanced', coef0=0.0,\n",
      "  decision_function_shape='ovr', degree=3, gamma=0.001, kernel='rbf',\n",
      "  max_iter=-1, probability=False, random_state=None, shrinking=True,\n",
      "  tol=0.001, verbose=False)\n",
      "Random Search Best Score 0.8050209908231113\n"
     ]
    }
   ],
   "source": [
    "print('Grid Search Best Params',gridsearch_best_params_tfidfW2V)\n",
    "print('Grid Search Best Score',gridsearch_best_score_tfidfW2V)\n",
    "print('Random Search Best Params',randomsearch_best_params_tfidfW2V)\n",
    "print('Random Search Best Score',randomsearch_best_score_tfidfW2V)"
   ]
  },
  {
   "cell_type": "markdown",
   "metadata": {
    "colab_type": "text",
    "id": "u1STOaSNMjUG"
   },
   "source": [
    "# Train and Test Accuarcy with Optimal Parameters"
   ]
  },
  {
   "cell_type": "code",
   "execution_count": 25,
   "metadata": {
    "colab": {
     "base_uri": "https://localhost:8080/",
     "height": 528
    },
    "colab_type": "code",
    "id": "B9rGxEgFvYEA",
    "outputId": "826f996c-e29b-4229-a1da-cc027199e89f"
   },
   "outputs": [
    {
     "name": "stdout",
     "output_type": "stream",
     "text": [
      "             precision    recall  f1-score   support\n",
      "\n",
      "   negative       0.23      0.78      0.36       320\n",
      "   positive       0.96      0.70      0.81      2680\n",
      "\n",
      "avg / total       0.89      0.71      0.76      3000\n",
      "\n",
      "Training accuracy: 0.7048571428571428\n",
      "Test accuracy: 0.7063333333333334\n"
     ]
    },
    {
     "data": {
      "text/plain": [
       "<matplotlib.axes._subplots.AxesSubplot at 0x7f0ec7b60828>"
      ]
     },
     "execution_count": 25,
     "metadata": {},
     "output_type": "execute_result"
    },
    {
     "data": {
      "image/png": "[encoded data removed]",
      "text/plain": [
       "<matplotlib.figure.Figure at 0x7f0efe1baf60>"
      ]
     },
     "metadata": {},
     "output_type": "display_data"
    }
   ],
   "source": [
    "from sklearn.metrics import classification_report\n",
    "from sklearn.svm import SVC\n",
    "classifier_tfidfW2V = SVC(C=100,gamma=0.001,class_weight=\"balanced\")\n",
    "classifier_tfidfW2V.fit(X_tr_vector_tfidfW2V, y_tr)\n",
    "y_pred_tfidfW2V = classifier_tfidfW2V.predict(X_test_vector_tfidfW2V)\n",
    "print(classification_report(y_test, y_pred_tfidfW2V))\n",
    "print('Training accuracy:', classifier_tfidfW2V.score(X_tr_vector_tfidfW2V, y_tr))\n",
    "print('Test accuracy:', classifier_tfidfW2V.score(X_test_vector_tfidfW2V, y_test))\n",
    "\n",
    "\n",
    "confusion_matrix = confusion_matrix(y_test, y_pred_tfidfW2V)\n",
    "sns.set(font_scale=1.4)#for label size\n",
    "sns.heatmap(confusion_matrix, annot=True,annot_kws={\"size\": 16})\n"
   ]
  },
  {
   "cell_type": "markdown",
   "metadata": {
    "colab_type": "text",
    "id": "h7iEF0d-MuL4"
   },
   "source": [
    "# Plotting Train & Test Error"
   ]
  },
  {
   "cell_type": "code",
   "execution_count": 26,
   "metadata": {
    "colab": {
     "base_uri": "https://localhost:8080/",
     "height": 390
    },
    "colab_type": "code",
    "id": "tgUJudyWMugS",
    "outputId": "11cf8e5d-d764-4f4a-9047-23dcec99b5da"
   },
   "outputs": [
    {
     "data": {
      "text/plain": [
       "<matplotlib.text.Text at 0x7f0ec429f748>"
      ]
     },
     "execution_count": 26,
     "metadata": {},
     "output_type": "execute_result"
    },
    {
     "data": {
      "image/png": "[encoded data removed]",
      "text/plain": [
       "<matplotlib.figure.Figure at 0x7f0ec5b0cd30>"
      ]
     },
     "metadata": {},
     "output_type": "display_data"
    }
   ],
   "source": [
    "from sklearn.metrics import classification_report\n",
    "import seaborn as sns\n",
    "import matplotlib.pyplot as plt\n",
    "gamma = [1,1e-1,1e-2,1e-3, 1e-4,1e-5]\n",
    "train_errors = list()\n",
    "test_errors = list()\n",
    "for g in gamma:\n",
    "    classifier = SVC(C=100,gamma=g,class_weight=\"balanced\")\n",
    "    classifier.fit(X_tr_vector_tfidfW2V, y_tr)\n",
    "    train_errors.append(classifier.score(X_tr_vector_tfidfW2V, y_tr))\n",
    "    test_errors.append(classifier.score(X_test_vector_tfidfW2V, y_test))\n",
    "\n",
    "plt.semilogx(gamma, train_errors, label='Train')\n",
    "plt.semilogx(gamma, test_errors, label='Test')\n",
    "plt.legend(loc='upper right')\n",
    "plt.xlabel('Regularization parameter Gamma')\n",
    "plt.ylabel('Performance')"
   ]
  },
  {
   "cell_type": "code",
   "execution_count": 27,
   "metadata": {
    "colab": {
     "base_uri": "https://localhost:8080/",
     "height": 390
    },
    "colab_type": "code",
    "id": "JJ7dFpw-M_mo",
    "outputId": "61dddd6a-d21d-4219-d0b1-ac5c0b38be53"
   },
   "outputs": [
    {
     "data": {
      "text/plain": [
       "<matplotlib.text.Text at 0x7f0ec42757b8>"
      ]
     },
     "execution_count": 27,
     "metadata": {},
     "output_type": "execute_result"
    },
    {
     "data": {
      "image/png": "[encoded data removed]",
      "text/plain": [
       "<matplotlib.figure.Figure at 0x7f0ec428cda0>"
      ]
     },
     "metadata": {},
     "output_type": "display_data"
    }
   ],
   "source": [
    "from sklearn.metrics import classification_report\n",
    "import seaborn as sns\n",
    "import matplotlib.pyplot as plt\n",
    "C = [0.1,1,100,1000,10000]\n",
    "train_errors = list()\n",
    "test_errors = list()\n",
    "for c in C:\n",
    "    classifier = SVC(C=c,gamma=0.001,class_weight=\"balanced\")\n",
    "    classifier.fit(X_tr_vector_tfidfW2V, y_tr)\n",
    "    train_errors.append(classifier.score(X_tr_vector_tfidfW2V, y_tr))\n",
    "    test_errors.append(classifier.score(X_test_vector_tfidfW2V, y_test))\n",
    "\n",
    "plt.semilogx(C, train_errors, label='Train')\n",
    "plt.semilogx(C, test_errors, label='Test')\n",
    "plt.legend(loc='upper right')\n",
    "plt.xlabel('Regularization parameter C')\n",
    "plt.ylabel('Performance')"
   ]
  },
  {
   "cell_type": "markdown",
   "metadata": {
    "colab_type": "text",
    "id": "tTmr1aCuNIjf"
   },
   "source": [
    "# **SGDClassifier with Hinge Loss**"
   ]
  },
  {
   "cell_type": "code",
   "execution_count": 29,
   "metadata": {
    "colab": {
     "base_uri": "https://localhost:8080/",
     "height": 176
    },
    "colab_type": "code",
    "id": "YskO9Vr7NLIc",
    "outputId": "fcf38990-1d23-4dff-d638-5b6bf7e08830"
   },
   "outputs": [
    {
     "name": "stdout",
     "output_type": "stream",
     "text": [
      "             precision    recall  f1-score   support\n",
      "\n",
      "   negative       0.32      0.32      0.32       320\n",
      "   positive       0.92      0.92      0.92      2680\n",
      "\n",
      "avg / total       0.85      0.86      0.85      3000\n",
      "\n",
      "Training accuracy: 0.8521428571428571\n",
      "Test accuracy: 0.8553333333333333\n"
     ]
    }
   ],
   "source": [
    "from sklearn import linear_model\n",
    "sgdclf = linear_model.SGDClassifier(class_weight=\"balanced\")\n",
    "sgdclf.fit(X_tr_vector_tfidfW2V, y_tr)\n",
    "y_pred_tfidfW2V = sgdclf.predict(X_test_vector_tfidfW2V)\n",
    "print(classification_report(y_test, y_pred_tfidfW2V))\n",
    "print('Training accuracy:', sgdclf.score(X_tr_vector_tfidfW2V, y_tr))\n",
    "print('Test accuracy:', sgdclf.score(X_test_vector_tfidfW2V, y_test))"
   ]
  },
  {
   "cell_type": "markdown",
   "metadata": {
    "colab_type": "text",
    "id": "yAMMp0HzvwHm"
   },
   "source": [
    "# Conclusion"
   ]
  },
  {
   "cell_type": "code",
   "execution_count": 12,
   "metadata": {
    "colab": {
     "base_uri": "https://localhost:8080/",
     "height": 147
    },
    "colab_type": "code",
    "id": "wjI2v0iWv2JD",
    "outputId": "316bc504-157e-4cd6-901e-3c3f0ffd6699"
   },
   "outputs": [
    {
     "name": "stdout",
     "output_type": "stream",
     "text": [
      "+---------------+-----------+---------------+---------------+---------------+\n",
      "| Featurization | Optimal C | Optimal gamma |   TrainError  |   TestError   |\n",
      "+---------------+-----------+---------------+---------------+---------------+\n",
      "|      BOW      |     1     |     1e-05     | 0.04085714285 | 0.09533333333 |\n",
      "|     TFIDF     |     1     |     1e-05     |     0.022     | 0.08766666666 |\n",
      "|    AVGW2Vec   |    100    |     0.001     | 0.25228571428 | 0.26033333333 |\n",
      "|   TFIDFW2Vec  |    100    |     0.001     | 0.29514285714 | 0.29366666666 |\n",
      "+---------------+-----------+---------------+---------------+---------------+\n",
      "***SGDClassifier with Hingeloss***\n",
      "+---------------+---------------------+--------------------+\n",
      "| Featurization | HingelossTrainError | HingelossTestError |\n",
      "+---------------+---------------------+--------------------+\n",
      "|      BOW      |    0.02514285714    |       0.175        |\n",
      "|     TFIDF     |        0.013        |       0.175        |\n",
      "|    AVGW2Vec   |    0.14014285714    |   0.13833333333    |\n",
      "|   TFIDFW2Vec  |    0.14785714285    |   0.14466666666    |\n",
      "+---------------+---------------------+--------------------+\n"
     ]
    }
   ],
   "source": [
    "from prettytable import PrettyTable\n",
    "t = PrettyTable()\n",
    "t.field_names = ['Featurization', 'Optimal C','Optimal gamma','TrainError','TestError']\n",
    "t.add_row([\"BOW\",\"1\",\"1e-05\",\"0.04085714285\",\"0.09533333333\"])\n",
    "t.add_row([\"TFIDF\",\"1\",\"1e-05\",\"0.022\",\"0.08766666666\"])\n",
    "t.add_row([\"AVGW2Vec\",\"100\",\"0.001\",\"0.25228571428\",\"0.26033333333\"])\n",
    "t.add_row([\"TFIDFW2Vec\",\"100\",\"0.001\",\"0.29514285714\",\"0.29366666666\"])\n",
    "print(t)\n",
    "t1 = PrettyTable()\n",
    "print('***SGDClassifier with Hingeloss***')\n",
    "t1.field_names = ['Featurization','HingelossTrainError','HingelossTestError']\n",
    "t1.add_row([\"BOW\",\"0.02514285714\",\"0.175\"])\n",
    "t1.add_row([\"TFIDF\",\"0.013\",\"0.175\"])\n",
    "t1.add_row([\"AVGW2Vec\",\"0.14014285714\",\"0.13833333333\"])\n",
    "t1.add_row([\"TFIDFW2Vec\",\"0.14785714285\",\"0.14466666666\"])\n",
    "print(t1)"
   ]
  }
 ],
 "metadata": {
  "colab": {
   "collapsed_sections": [],
   "name": "RBF_SVC.ipynb",
   "provenance": [],
   "version": "0.3.2"
  },
  "kernelspec": {
   "display_name": "Python 3",
   "language": "python",
   "name": "python3"
  },
  "language_info": {
   "codemirror_mode": {
    "name": "ipython",
    "version": 3
   },
   "file_extension": ".py",
   "mimetype": "text/x-python",
   "name": "python",
   "nbconvert_exporter": "python",
   "pygments_lexer": "ipython3",
   "version": "3.6.4"
  },
  "widgets": {
   "state": {},
   "version": "1.1.2"
  }
 },
 "nbformat": 4,
 "nbformat_minor": 1
}
